{
 "cells": [
  {
   "cell_type": "markdown",
   "id": "41d9c7cf",
   "metadata": {},
   "source": [
    "<table align=\"left\" width=100%>\n",
    "    <tr>\n",
    "        <td width=\"20%\">\n",
    "            <img src=\"GL-2.png\">\n",
    "        </td>\n",
    "        <td>\n",
    "            <div align=\"center\">\n",
    "                <font color=\"#21618C\" size=8px>\n",
    "                  <b> Capstone Project <br> Notebook_5  </b>\n",
    "                </font>\n",
    "            </div>\n",
    "        </td>\n",
    "    </tr>\n",
    "</table>"
   ]
  },
  {
   "cell_type": "code",
   "execution_count": 1,
   "id": "9bd14c81",
   "metadata": {},
   "outputs": [],
   "source": [
    "# import 'Pandas' \n",
    "import pandas as pd \n",
    "\n",
    "# import 'Numpy' \n",
    "import numpy as np\n",
    "\n",
    "# import subpackage of Matplotlib\n",
    "import matplotlib.pyplot as plt\n",
    "from matplotlib.colors import ListedColormap\n",
    "\n",
    "# import 'Seaborn' \n",
    "import seaborn as sns\n",
    "\n",
    "# to suppress warnings \n",
    "from warnings import filterwarnings\n",
    "filterwarnings('ignore')\n",
    "\n",
    "# display all columns of the dataframe\n",
    "pd.options.display.max_columns = None\n",
    "\n",
    "# display all rows of the dataframe\n",
    "pd.options.display.max_rows = None\n",
    " \n",
    "# to display the float values upto 6 decimal places     \n",
    "pd.options.display.float_format = '{:.6f}'.format\n",
    "\n",
    "import statsmodels\n",
    "import statsmodels.api as sm\n",
    "\n",
    "# import train-test split \n",
    "from sklearn.model_selection import train_test_split\n",
    "\n",
    "# import StandardScaler to perform scaling\n",
    "from sklearn.preprocessing import StandardScaler \n",
    "\n",
    "# import various functions from sklearn\n",
    "from sklearn.metrics import classification_report\n",
    "from sklearn.metrics import confusion_matrix\n",
    "from sklearn.metrics import roc_curve\n",
    "from sklearn.metrics import roc_auc_score\n",
    "from sklearn.ensemble import AdaBoostClassifier\n",
    "from sklearn.ensemble import GradientBoostingClassifier\n",
    "from sklearn.model_selection import GridSearchCV\n",
    "from sklearn.ensemble import StackingClassifier\n",
    "from sklearn.ensemble import RandomForestClassifier\n",
    "from sklearn.neighbors import KNeighborsClassifier\n",
    "from sklearn.naive_bayes import GaussianNB\n",
    "\n",
    "# import the XGBoost function for classification\n",
    "from xgboost import XGBClassifier\n",
    "\n",
    "from sklearn.discriminant_analysis import LinearDiscriminantAnalysis as LDA\n"
   ]
  },
  {
   "cell_type": "code",
   "execution_count": 2,
   "id": "a472aee5",
   "metadata": {
    "scrolled": true
   },
   "outputs": [
    {
     "data": {
      "text/html": [
       "<div>\n",
       "<style scoped>\n",
       "    .dataframe tbody tr th:only-of-type {\n",
       "        vertical-align: middle;\n",
       "    }\n",
       "\n",
       "    .dataframe tbody tr th {\n",
       "        vertical-align: top;\n",
       "    }\n",
       "\n",
       "    .dataframe thead th {\n",
       "        text-align: right;\n",
       "    }\n",
       "</style>\n",
       "<table border=\"1\" class=\"dataframe\">\n",
       "  <thead>\n",
       "    <tr style=\"text-align: right;\">\n",
       "      <th></th>\n",
       "      <th>Churn</th>\n",
       "      <th>MonthlyRevenue</th>\n",
       "      <th>MonthlyMinutes</th>\n",
       "      <th>TotalRecurringCharge</th>\n",
       "      <th>DirectorAssistedCalls</th>\n",
       "      <th>OverageMinutes</th>\n",
       "      <th>RoamingCalls</th>\n",
       "      <th>PercChangeMinutes</th>\n",
       "      <th>PercChangeRevenues</th>\n",
       "      <th>DroppedCalls</th>\n",
       "      <th>BlockedCalls</th>\n",
       "      <th>UnansweredCalls</th>\n",
       "      <th>CustomerCareCalls</th>\n",
       "      <th>ThreewayCalls</th>\n",
       "      <th>ReceivedCalls</th>\n",
       "      <th>OutboundCalls</th>\n",
       "      <th>InboundCalls</th>\n",
       "      <th>PeakCallsInOut</th>\n",
       "      <th>OffPeakCallsInOut</th>\n",
       "      <th>DroppedBlockedCalls</th>\n",
       "      <th>CallForwardingCalls</th>\n",
       "      <th>CallWaitingCalls</th>\n",
       "      <th>MonthsInService</th>\n",
       "      <th>UniqueSubs</th>\n",
       "      <th>ActiveSubs</th>\n",
       "      <th>Handsets</th>\n",
       "      <th>HandsetModels</th>\n",
       "      <th>CurrentEquipmentDays</th>\n",
       "      <th>AgeHH1</th>\n",
       "      <th>AgeHH2</th>\n",
       "      <th>ChildrenInHH</th>\n",
       "      <th>HandsetRefurbished</th>\n",
       "      <th>HandsetWebCapable</th>\n",
       "      <th>TruckOwner</th>\n",
       "      <th>RVOwner</th>\n",
       "      <th>Homeownership</th>\n",
       "      <th>BuysViaMailOrder</th>\n",
       "      <th>RespondsToMailOffers</th>\n",
       "      <th>OptOutMailings</th>\n",
       "      <th>NonUSTravel</th>\n",
       "      <th>OwnsComputer</th>\n",
       "      <th>HasCreditCard</th>\n",
       "      <th>RetentionCalls</th>\n",
       "      <th>RetentionOffersAccepted</th>\n",
       "      <th>NewCellphoneUser</th>\n",
       "      <th>NotNewCellphoneUser</th>\n",
       "      <th>ReferralsMadeBySubscriber</th>\n",
       "      <th>IncomeGroup</th>\n",
       "      <th>OwnsMotorcycle</th>\n",
       "      <th>AdjustmentsToCreditRating</th>\n",
       "      <th>HandsetPrice</th>\n",
       "      <th>MadeCallToRetentionTeam</th>\n",
       "      <th>CreditRating</th>\n",
       "      <th>PrizmCode</th>\n",
       "      <th>Occupation</th>\n",
       "      <th>MaritalStatus</th>\n",
       "    </tr>\n",
       "  </thead>\n",
       "  <tbody>\n",
       "    <tr>\n",
       "      <th>0</th>\n",
       "      <td>Yes</td>\n",
       "      <td>24.000000</td>\n",
       "      <td>219.000000</td>\n",
       "      <td>22.000000</td>\n",
       "      <td>0.250000</td>\n",
       "      <td>0.000000</td>\n",
       "      <td>0.000000</td>\n",
       "      <td>-157.000000</td>\n",
       "      <td>-19.000000</td>\n",
       "      <td>0.700000</td>\n",
       "      <td>0.700000</td>\n",
       "      <td>6.300000</td>\n",
       "      <td>0.000000</td>\n",
       "      <td>0.000000</td>\n",
       "      <td>97.200000</td>\n",
       "      <td>0.000000</td>\n",
       "      <td>0.000000</td>\n",
       "      <td>58.000000</td>\n",
       "      <td>24.000000</td>\n",
       "      <td>1.300000</td>\n",
       "      <td>0.000000</td>\n",
       "      <td>0.300000</td>\n",
       "      <td>61</td>\n",
       "      <td>2</td>\n",
       "      <td>1</td>\n",
       "      <td>2.000000</td>\n",
       "      <td>2.000000</td>\n",
       "      <td>361.000000</td>\n",
       "      <td>62.000000</td>\n",
       "      <td>0.000000</td>\n",
       "      <td>No</td>\n",
       "      <td>No</td>\n",
       "      <td>Yes</td>\n",
       "      <td>No</td>\n",
       "      <td>No</td>\n",
       "      <td>Known</td>\n",
       "      <td>Yes</td>\n",
       "      <td>Yes</td>\n",
       "      <td>No</td>\n",
       "      <td>No</td>\n",
       "      <td>Yes</td>\n",
       "      <td>Yes</td>\n",
       "      <td>1</td>\n",
       "      <td>0</td>\n",
       "      <td>No</td>\n",
       "      <td>No</td>\n",
       "      <td>0</td>\n",
       "      <td>4</td>\n",
       "      <td>No</td>\n",
       "      <td>0</td>\n",
       "      <td>30.000000</td>\n",
       "      <td>Yes</td>\n",
       "      <td>Highest</td>\n",
       "      <td>Suburban</td>\n",
       "      <td>Professional</td>\n",
       "      <td>No</td>\n",
       "    </tr>\n",
       "    <tr>\n",
       "      <th>1</th>\n",
       "      <td>Yes</td>\n",
       "      <td>16.990000</td>\n",
       "      <td>10.000000</td>\n",
       "      <td>17.000000</td>\n",
       "      <td>0.000000</td>\n",
       "      <td>0.000000</td>\n",
       "      <td>0.000000</td>\n",
       "      <td>-4.000000</td>\n",
       "      <td>0.000000</td>\n",
       "      <td>0.300000</td>\n",
       "      <td>0.000000</td>\n",
       "      <td>2.700000</td>\n",
       "      <td>0.000000</td>\n",
       "      <td>0.000000</td>\n",
       "      <td>0.000000</td>\n",
       "      <td>0.000000</td>\n",
       "      <td>0.000000</td>\n",
       "      <td>5.000000</td>\n",
       "      <td>1.000000</td>\n",
       "      <td>0.300000</td>\n",
       "      <td>0.000000</td>\n",
       "      <td>0.000000</td>\n",
       "      <td>58</td>\n",
       "      <td>1</td>\n",
       "      <td>1</td>\n",
       "      <td>2.000000</td>\n",
       "      <td>1.000000</td>\n",
       "      <td>1504.000000</td>\n",
       "      <td>40.000000</td>\n",
       "      <td>42.000000</td>\n",
       "      <td>Yes</td>\n",
       "      <td>No</td>\n",
       "      <td>No</td>\n",
       "      <td>No</td>\n",
       "      <td>No</td>\n",
       "      <td>Known</td>\n",
       "      <td>Yes</td>\n",
       "      <td>Yes</td>\n",
       "      <td>No</td>\n",
       "      <td>No</td>\n",
       "      <td>Yes</td>\n",
       "      <td>Yes</td>\n",
       "      <td>0</td>\n",
       "      <td>0</td>\n",
       "      <td>Yes</td>\n",
       "      <td>No</td>\n",
       "      <td>0</td>\n",
       "      <td>5</td>\n",
       "      <td>No</td>\n",
       "      <td>0</td>\n",
       "      <td>30.000000</td>\n",
       "      <td>No</td>\n",
       "      <td>Medium</td>\n",
       "      <td>Suburban</td>\n",
       "      <td>Professional</td>\n",
       "      <td>Yes</td>\n",
       "    </tr>\n",
       "    <tr>\n",
       "      <th>2</th>\n",
       "      <td>No</td>\n",
       "      <td>38.000000</td>\n",
       "      <td>8.000000</td>\n",
       "      <td>38.000000</td>\n",
       "      <td>0.000000</td>\n",
       "      <td>0.000000</td>\n",
       "      <td>0.000000</td>\n",
       "      <td>-2.000000</td>\n",
       "      <td>0.000000</td>\n",
       "      <td>0.000000</td>\n",
       "      <td>0.000000</td>\n",
       "      <td>0.000000</td>\n",
       "      <td>0.000000</td>\n",
       "      <td>0.000000</td>\n",
       "      <td>0.400000</td>\n",
       "      <td>0.300000</td>\n",
       "      <td>0.000000</td>\n",
       "      <td>1.300000</td>\n",
       "      <td>3.700000</td>\n",
       "      <td>0.000000</td>\n",
       "      <td>0.000000</td>\n",
       "      <td>0.000000</td>\n",
       "      <td>60</td>\n",
       "      <td>1</td>\n",
       "      <td>1</td>\n",
       "      <td>1.000000</td>\n",
       "      <td>1.000000</td>\n",
       "      <td>1812.000000</td>\n",
       "      <td>26.000000</td>\n",
       "      <td>26.000000</td>\n",
       "      <td>Yes</td>\n",
       "      <td>No</td>\n",
       "      <td>No</td>\n",
       "      <td>No</td>\n",
       "      <td>No</td>\n",
       "      <td>Unknown</td>\n",
       "      <td>No</td>\n",
       "      <td>No</td>\n",
       "      <td>No</td>\n",
       "      <td>No</td>\n",
       "      <td>No</td>\n",
       "      <td>Yes</td>\n",
       "      <td>0</td>\n",
       "      <td>0</td>\n",
       "      <td>Yes</td>\n",
       "      <td>No</td>\n",
       "      <td>0</td>\n",
       "      <td>6</td>\n",
       "      <td>No</td>\n",
       "      <td>0</td>\n",
       "      <td>82.086412</td>\n",
       "      <td>No</td>\n",
       "      <td>Medium</td>\n",
       "      <td>Town</td>\n",
       "      <td>Professional</td>\n",
       "      <td>Yes</td>\n",
       "    </tr>\n",
       "    <tr>\n",
       "      <th>3</th>\n",
       "      <td>No</td>\n",
       "      <td>82.280000</td>\n",
       "      <td>1312.000000</td>\n",
       "      <td>75.000000</td>\n",
       "      <td>1.240000</td>\n",
       "      <td>0.000000</td>\n",
       "      <td>0.000000</td>\n",
       "      <td>157.000000</td>\n",
       "      <td>8.100000</td>\n",
       "      <td>52.000000</td>\n",
       "      <td>7.700000</td>\n",
       "      <td>76.000000</td>\n",
       "      <td>4.300000</td>\n",
       "      <td>1.300000</td>\n",
       "      <td>200.300000</td>\n",
       "      <td>370.300000</td>\n",
       "      <td>147.000000</td>\n",
       "      <td>555.700000</td>\n",
       "      <td>303.700000</td>\n",
       "      <td>59.700000</td>\n",
       "      <td>0.000000</td>\n",
       "      <td>22.700000</td>\n",
       "      <td>59</td>\n",
       "      <td>2</td>\n",
       "      <td>2</td>\n",
       "      <td>9.000000</td>\n",
       "      <td>4.000000</td>\n",
       "      <td>458.000000</td>\n",
       "      <td>30.000000</td>\n",
       "      <td>0.000000</td>\n",
       "      <td>No</td>\n",
       "      <td>No</td>\n",
       "      <td>Yes</td>\n",
       "      <td>No</td>\n",
       "      <td>No</td>\n",
       "      <td>Known</td>\n",
       "      <td>Yes</td>\n",
       "      <td>Yes</td>\n",
       "      <td>No</td>\n",
       "      <td>No</td>\n",
       "      <td>No</td>\n",
       "      <td>Yes</td>\n",
       "      <td>0</td>\n",
       "      <td>0</td>\n",
       "      <td>Yes</td>\n",
       "      <td>No</td>\n",
       "      <td>0</td>\n",
       "      <td>6</td>\n",
       "      <td>No</td>\n",
       "      <td>0</td>\n",
       "      <td>10.000000</td>\n",
       "      <td>No</td>\n",
       "      <td>Medium</td>\n",
       "      <td>Other</td>\n",
       "      <td>Other</td>\n",
       "      <td>No</td>\n",
       "    </tr>\n",
       "    <tr>\n",
       "      <th>4</th>\n",
       "      <td>Yes</td>\n",
       "      <td>17.140000</td>\n",
       "      <td>0.000000</td>\n",
       "      <td>17.000000</td>\n",
       "      <td>0.000000</td>\n",
       "      <td>0.000000</td>\n",
       "      <td>0.000000</td>\n",
       "      <td>0.000000</td>\n",
       "      <td>-0.200000</td>\n",
       "      <td>0.000000</td>\n",
       "      <td>0.000000</td>\n",
       "      <td>0.000000</td>\n",
       "      <td>0.000000</td>\n",
       "      <td>0.000000</td>\n",
       "      <td>0.000000</td>\n",
       "      <td>0.000000</td>\n",
       "      <td>0.000000</td>\n",
       "      <td>0.000000</td>\n",
       "      <td>0.000000</td>\n",
       "      <td>0.000000</td>\n",
       "      <td>0.000000</td>\n",
       "      <td>0.000000</td>\n",
       "      <td>53</td>\n",
       "      <td>2</td>\n",
       "      <td>2</td>\n",
       "      <td>4.000000</td>\n",
       "      <td>3.000000</td>\n",
       "      <td>852.000000</td>\n",
       "      <td>46.000000</td>\n",
       "      <td>54.000000</td>\n",
       "      <td>No</td>\n",
       "      <td>No</td>\n",
       "      <td>No</td>\n",
       "      <td>No</td>\n",
       "      <td>No</td>\n",
       "      <td>Known</td>\n",
       "      <td>Yes</td>\n",
       "      <td>Yes</td>\n",
       "      <td>No</td>\n",
       "      <td>No</td>\n",
       "      <td>Yes</td>\n",
       "      <td>Yes</td>\n",
       "      <td>0</td>\n",
       "      <td>0</td>\n",
       "      <td>No</td>\n",
       "      <td>Yes</td>\n",
       "      <td>0</td>\n",
       "      <td>9</td>\n",
       "      <td>No</td>\n",
       "      <td>1</td>\n",
       "      <td>10.000000</td>\n",
       "      <td>No</td>\n",
       "      <td>Highest</td>\n",
       "      <td>Other</td>\n",
       "      <td>Professional</td>\n",
       "      <td>Yes</td>\n",
       "    </tr>\n",
       "  </tbody>\n",
       "</table>\n",
       "</div>"
      ],
      "text/plain": [
       "  Churn  MonthlyRevenue  MonthlyMinutes  TotalRecurringCharge  \\\n",
       "0   Yes       24.000000      219.000000             22.000000   \n",
       "1   Yes       16.990000       10.000000             17.000000   \n",
       "2    No       38.000000        8.000000             38.000000   \n",
       "3    No       82.280000     1312.000000             75.000000   \n",
       "4   Yes       17.140000        0.000000             17.000000   \n",
       "\n",
       "   DirectorAssistedCalls  OverageMinutes  RoamingCalls  PercChangeMinutes  \\\n",
       "0               0.250000        0.000000      0.000000        -157.000000   \n",
       "1               0.000000        0.000000      0.000000          -4.000000   \n",
       "2               0.000000        0.000000      0.000000          -2.000000   \n",
       "3               1.240000        0.000000      0.000000         157.000000   \n",
       "4               0.000000        0.000000      0.000000           0.000000   \n",
       "\n",
       "   PercChangeRevenues  DroppedCalls  BlockedCalls  UnansweredCalls  \\\n",
       "0          -19.000000      0.700000      0.700000         6.300000   \n",
       "1            0.000000      0.300000      0.000000         2.700000   \n",
       "2            0.000000      0.000000      0.000000         0.000000   \n",
       "3            8.100000     52.000000      7.700000        76.000000   \n",
       "4           -0.200000      0.000000      0.000000         0.000000   \n",
       "\n",
       "   CustomerCareCalls  ThreewayCalls  ReceivedCalls  OutboundCalls  \\\n",
       "0           0.000000       0.000000      97.200000       0.000000   \n",
       "1           0.000000       0.000000       0.000000       0.000000   \n",
       "2           0.000000       0.000000       0.400000       0.300000   \n",
       "3           4.300000       1.300000     200.300000     370.300000   \n",
       "4           0.000000       0.000000       0.000000       0.000000   \n",
       "\n",
       "   InboundCalls  PeakCallsInOut  OffPeakCallsInOut  DroppedBlockedCalls  \\\n",
       "0      0.000000       58.000000          24.000000             1.300000   \n",
       "1      0.000000        5.000000           1.000000             0.300000   \n",
       "2      0.000000        1.300000           3.700000             0.000000   \n",
       "3    147.000000      555.700000         303.700000            59.700000   \n",
       "4      0.000000        0.000000           0.000000             0.000000   \n",
       "\n",
       "   CallForwardingCalls  CallWaitingCalls  MonthsInService  UniqueSubs  \\\n",
       "0             0.000000          0.300000               61           2   \n",
       "1             0.000000          0.000000               58           1   \n",
       "2             0.000000          0.000000               60           1   \n",
       "3             0.000000         22.700000               59           2   \n",
       "4             0.000000          0.000000               53           2   \n",
       "\n",
       "   ActiveSubs  Handsets  HandsetModels  CurrentEquipmentDays    AgeHH1  \\\n",
       "0           1  2.000000       2.000000            361.000000 62.000000   \n",
       "1           1  2.000000       1.000000           1504.000000 40.000000   \n",
       "2           1  1.000000       1.000000           1812.000000 26.000000   \n",
       "3           2  9.000000       4.000000            458.000000 30.000000   \n",
       "4           2  4.000000       3.000000            852.000000 46.000000   \n",
       "\n",
       "     AgeHH2 ChildrenInHH HandsetRefurbished HandsetWebCapable TruckOwner  \\\n",
       "0  0.000000           No                 No               Yes         No   \n",
       "1 42.000000          Yes                 No                No         No   \n",
       "2 26.000000          Yes                 No                No         No   \n",
       "3  0.000000           No                 No               Yes         No   \n",
       "4 54.000000           No                 No                No         No   \n",
       "\n",
       "  RVOwner Homeownership BuysViaMailOrder RespondsToMailOffers OptOutMailings  \\\n",
       "0      No         Known              Yes                  Yes             No   \n",
       "1      No         Known              Yes                  Yes             No   \n",
       "2      No       Unknown               No                   No             No   \n",
       "3      No         Known              Yes                  Yes             No   \n",
       "4      No         Known              Yes                  Yes             No   \n",
       "\n",
       "  NonUSTravel OwnsComputer HasCreditCard  RetentionCalls  \\\n",
       "0          No          Yes           Yes               1   \n",
       "1          No          Yes           Yes               0   \n",
       "2          No           No           Yes               0   \n",
       "3          No           No           Yes               0   \n",
       "4          No          Yes           Yes               0   \n",
       "\n",
       "   RetentionOffersAccepted NewCellphoneUser NotNewCellphoneUser  \\\n",
       "0                        0               No                  No   \n",
       "1                        0              Yes                  No   \n",
       "2                        0              Yes                  No   \n",
       "3                        0              Yes                  No   \n",
       "4                        0               No                 Yes   \n",
       "\n",
       "   ReferralsMadeBySubscriber  IncomeGroup OwnsMotorcycle  \\\n",
       "0                          0            4             No   \n",
       "1                          0            5             No   \n",
       "2                          0            6             No   \n",
       "3                          0            6             No   \n",
       "4                          0            9             No   \n",
       "\n",
       "   AdjustmentsToCreditRating  HandsetPrice MadeCallToRetentionTeam  \\\n",
       "0                          0     30.000000                     Yes   \n",
       "1                          0     30.000000                      No   \n",
       "2                          0     82.086412                      No   \n",
       "3                          0     10.000000                      No   \n",
       "4                          1     10.000000                      No   \n",
       "\n",
       "  CreditRating PrizmCode    Occupation MaritalStatus  \n",
       "0      Highest  Suburban  Professional            No  \n",
       "1       Medium  Suburban  Professional           Yes  \n",
       "2       Medium      Town  Professional           Yes  \n",
       "3       Medium     Other         Other            No  \n",
       "4      Highest     Other  Professional           Yes  "
      ]
     },
     "execution_count": 2,
     "metadata": {},
     "output_type": "execute_result"
    }
   ],
   "source": [
    "df = pd.read_csv('data1.csv',index_col=0)\n",
    "df.head()"
   ]
  },
  {
   "cell_type": "code",
   "execution_count": 3,
   "id": "a86d6210",
   "metadata": {},
   "outputs": [],
   "source": [
    "df.reset_index(inplace=True, drop=True)"
   ]
  },
  {
   "cell_type": "markdown",
   "id": "4af9b29c",
   "metadata": {},
   "source": [
    "### Split the dependent and independent variables"
   ]
  },
  {
   "cell_type": "code",
   "execution_count": 4,
   "id": "e22d9e16",
   "metadata": {},
   "outputs": [],
   "source": [
    "# store the target variable 'Loan Status' in a dataframe 'df_target'\n",
    "df_target = df['Churn']\n",
    "\n",
    "# store all the independent variables in a dataframe 'df_feature' \n",
    "# drop the column 'Loan Status' using drop()\n",
    "# 'axis = 1' drops the specified column\n",
    "df_features = df.drop('Churn', axis = 1)"
   ]
  },
  {
   "cell_type": "code",
   "execution_count": 5,
   "id": "20578c4b",
   "metadata": {},
   "outputs": [
    {
     "data": {
      "text/plain": [
       "No     36336\n",
       "Yes    14711\n",
       "Name: Churn, dtype: int64"
      ]
     },
     "execution_count": 5,
     "metadata": {},
     "output_type": "execute_result"
    }
   ],
   "source": [
    "df_target.value_counts()"
   ]
  },
  {
   "cell_type": "code",
   "execution_count": 6,
   "id": "b52497d5",
   "metadata": {},
   "outputs": [],
   "source": [
    "for i in range(len(df_target)):\n",
    "    if df_target[i] == 'Yes':\n",
    "        df_target[i] = 1\n",
    "    else:\n",
    "        df_target[i] = 0 "
   ]
  },
  {
   "cell_type": "code",
   "execution_count": 7,
   "id": "3392b837",
   "metadata": {},
   "outputs": [],
   "source": [
    "df_target = df_target.astype(int)"
   ]
  },
  {
   "cell_type": "code",
   "execution_count": 8,
   "id": "087732bc",
   "metadata": {},
   "outputs": [
    {
     "data": {
      "text/plain": [
       "0    36336\n",
       "1    14711\n",
       "Name: Churn, dtype: int64"
      ]
     },
     "execution_count": 8,
     "metadata": {},
     "output_type": "execute_result"
    }
   ],
   "source": [
    "df_target.value_counts()"
   ]
  },
  {
   "cell_type": "markdown",
   "id": "551e17ff",
   "metadata": {},
   "source": [
    "## Distribution of dependent variable."
   ]
  },
  {
   "cell_type": "code",
   "execution_count": 9,
   "id": "bcefbe09",
   "metadata": {},
   "outputs": [
    {
     "data": {
      "image/png": "[encoded data removed]",
      "text/plain": [
       "<Figure size 432x288 with 1 Axes>"
      ]
     },
     "metadata": {
      "needs_background": "light"
     },
     "output_type": "display_data"
    }
   ],
   "source": [
    "# get counts of 0's and 1's in the 'Loan Status' variable\n",
    "df_target.value_counts()\n",
    "\n",
    "# plot the countplot of the variable 'Loan Status'\n",
    "sns.countplot(x = df_target)\n",
    "\n",
    "# use below code to print the values in the graph\n",
    "# 'x' and 'y' gives position of the text\n",
    "# 's' is the text \n",
    "plt.text(x = -0.05, y = df_target.value_counts()[0] + 1, s = str(round((df_target.value_counts()[0])*100/len(df_target),2)) + '%')\n",
    "plt.text(x = 0.95, y = df_target.value_counts()[1] +1, s = str(round((df_target.value_counts()[1])*100/len(df_target),2)) + '%')\n",
    "\n",
    "# add plot and axes labels\n",
    "# set text size using 'fontsize'\n",
    "plt.title('Count Plot for Target Variable ', fontsize = 15)\n",
    "plt.xlabel('Target Variable', fontsize = 15)\n",
    "plt.ylabel('Count', fontsize = 15)\n",
    "\n",
    "# to show the plot\n",
    "plt.show()"
   ]
  },
  {
   "cell_type": "markdown",
   "id": "357c28e2",
   "metadata": {},
   "source": [
    "## Filter numerical and categorical variables."
   ]
  },
  {
   "cell_type": "code",
   "execution_count": 10,
   "id": "c0033e64",
   "metadata": {},
   "outputs": [
    {
     "data": {
      "text/plain": [
       "Index(['MonthlyRevenue', 'MonthlyMinutes', 'TotalRecurringCharge',\n",
       "       'DirectorAssistedCalls', 'OverageMinutes', 'RoamingCalls',\n",
       "       'PercChangeMinutes', 'PercChangeRevenues', 'DroppedCalls',\n",
       "       'BlockedCalls', 'UnansweredCalls', 'CustomerCareCalls', 'ThreewayCalls',\n",
       "       'ReceivedCalls', 'OutboundCalls', 'InboundCalls', 'PeakCallsInOut',\n",
       "       'OffPeakCallsInOut', 'DroppedBlockedCalls', 'CallForwardingCalls',\n",
       "       'CallWaitingCalls', 'MonthsInService', 'UniqueSubs', 'ActiveSubs',\n",
       "       'Handsets', 'HandsetModels', 'CurrentEquipmentDays', 'AgeHH1', 'AgeHH2',\n",
       "       'RetentionCalls', 'RetentionOffersAccepted',\n",
       "       'ReferralsMadeBySubscriber', 'IncomeGroup', 'AdjustmentsToCreditRating',\n",
       "       'HandsetPrice'],\n",
       "      dtype='object')"
      ]
     },
     "execution_count": 10,
     "metadata": {},
     "output_type": "execute_result"
    }
   ],
   "source": [
    "# filter the numerical features in the dataset\n",
    "# 'select_dtypes' is used to select the variables with given data type\n",
    "# 'include = [np.number]' will include all the numerical variables\n",
    "num_f = df_features.select_dtypes(include=[np.number])\n",
    "\n",
    "# display numerical features\n",
    "num_f.columns"
   ]
  },
  {
   "cell_type": "code",
   "execution_count": 11,
   "id": "2cdd045d",
   "metadata": {},
   "outputs": [
    {
     "data": {
      "text/plain": [
       "Index(['ChildrenInHH', 'HandsetRefurbished', 'HandsetWebCapable', 'TruckOwner',\n",
       "       'RVOwner', 'Homeownership', 'BuysViaMailOrder', 'RespondsToMailOffers',\n",
       "       'OptOutMailings', 'NonUSTravel', 'OwnsComputer', 'HasCreditCard',\n",
       "       'NewCellphoneUser', 'NotNewCellphoneUser', 'OwnsMotorcycle',\n",
       "       'MadeCallToRetentionTeam', 'CreditRating', 'PrizmCode', 'Occupation',\n",
       "       'MaritalStatus'],\n",
       "      dtype='object')"
      ]
     },
     "execution_count": 11,
     "metadata": {},
     "output_type": "execute_result"
    }
   ],
   "source": [
    "# filter the categorical features in the dataset\n",
    "# 'select_dtypes' is used to select the variables with given data type\n",
    "# 'include = [np.object]' will include all the categorical variables\n",
    "cat_f = df_features.select_dtypes(exclude=[np.number])\n",
    "\n",
    "# display categorical features\n",
    "cat_f.columns"
   ]
  },
  {
   "cell_type": "markdown",
   "id": "a2ff8d85",
   "metadata": {},
   "source": [
    "## Encoding the Categorical Variables"
   ]
  },
  {
   "cell_type": "code",
   "execution_count": 12,
   "id": "b7615dfc",
   "metadata": {},
   "outputs": [
    {
     "data": {
      "text/plain": [
       "Index(['ChildrenInHH', 'HandsetRefurbished', 'HandsetWebCapable', 'TruckOwner',\n",
       "       'RVOwner', 'Homeownership', 'BuysViaMailOrder', 'RespondsToMailOffers',\n",
       "       'OptOutMailings', 'NonUSTravel', 'OwnsComputer', 'HasCreditCard',\n",
       "       'NewCellphoneUser', 'NotNewCellphoneUser', 'OwnsMotorcycle',\n",
       "       'MadeCallToRetentionTeam', 'CreditRating', 'PrizmCode', 'Occupation',\n",
       "       'MaritalStatus'],\n",
       "      dtype='object')"
      ]
     },
     "execution_count": 12,
     "metadata": {},
     "output_type": "execute_result"
    }
   ],
   "source": [
    "cat=df_features.select_dtypes(include='object').columns\n",
    "cat"
   ]
  },
  {
   "cell_type": "code",
   "execution_count": 13,
   "id": "1c8189b2",
   "metadata": {},
   "outputs": [],
   "source": [
    "from sklearn.preprocessing import OrdinalEncoder\n",
    "enc = OrdinalEncoder()\n",
    "cat_f[cat]=enc.fit_transform(cat_f[cat])"
   ]
  },
  {
   "cell_type": "code",
   "execution_count": 14,
   "id": "e2c0c4c4",
   "metadata": {},
   "outputs": [
    {
     "data": {
      "text/html": [
       "<div>\n",
       "<style scoped>\n",
       "    .dataframe tbody tr th:only-of-type {\n",
       "        vertical-align: middle;\n",
       "    }\n",
       "\n",
       "    .dataframe tbody tr th {\n",
       "        vertical-align: top;\n",
       "    }\n",
       "\n",
       "    .dataframe thead th {\n",
       "        text-align: right;\n",
       "    }\n",
       "</style>\n",
       "<table border=\"1\" class=\"dataframe\">\n",
       "  <thead>\n",
       "    <tr style=\"text-align: right;\">\n",
       "      <th></th>\n",
       "      <th>ChildrenInHH</th>\n",
       "      <th>HandsetRefurbished</th>\n",
       "      <th>HandsetWebCapable</th>\n",
       "      <th>TruckOwner</th>\n",
       "      <th>RVOwner</th>\n",
       "      <th>Homeownership</th>\n",
       "      <th>BuysViaMailOrder</th>\n",
       "      <th>RespondsToMailOffers</th>\n",
       "      <th>OptOutMailings</th>\n",
       "      <th>NonUSTravel</th>\n",
       "      <th>OwnsComputer</th>\n",
       "      <th>HasCreditCard</th>\n",
       "      <th>NewCellphoneUser</th>\n",
       "      <th>NotNewCellphoneUser</th>\n",
       "      <th>OwnsMotorcycle</th>\n",
       "      <th>MadeCallToRetentionTeam</th>\n",
       "      <th>CreditRating</th>\n",
       "      <th>PrizmCode</th>\n",
       "      <th>Occupation</th>\n",
       "      <th>MaritalStatus</th>\n",
       "    </tr>\n",
       "  </thead>\n",
       "  <tbody>\n",
       "    <tr>\n",
       "      <th>0</th>\n",
       "      <td>0.000000</td>\n",
       "      <td>0.000000</td>\n",
       "      <td>1.000000</td>\n",
       "      <td>0.000000</td>\n",
       "      <td>0.000000</td>\n",
       "      <td>0.000000</td>\n",
       "      <td>1.000000</td>\n",
       "      <td>1.000000</td>\n",
       "      <td>0.000000</td>\n",
       "      <td>0.000000</td>\n",
       "      <td>1.000000</td>\n",
       "      <td>1.000000</td>\n",
       "      <td>0.000000</td>\n",
       "      <td>0.000000</td>\n",
       "      <td>0.000000</td>\n",
       "      <td>1.000000</td>\n",
       "      <td>0.000000</td>\n",
       "      <td>2.000000</td>\n",
       "      <td>1.000000</td>\n",
       "      <td>0.000000</td>\n",
       "    </tr>\n",
       "    <tr>\n",
       "      <th>1</th>\n",
       "      <td>1.000000</td>\n",
       "      <td>0.000000</td>\n",
       "      <td>0.000000</td>\n",
       "      <td>0.000000</td>\n",
       "      <td>0.000000</td>\n",
       "      <td>0.000000</td>\n",
       "      <td>1.000000</td>\n",
       "      <td>1.000000</td>\n",
       "      <td>0.000000</td>\n",
       "      <td>0.000000</td>\n",
       "      <td>1.000000</td>\n",
       "      <td>1.000000</td>\n",
       "      <td>1.000000</td>\n",
       "      <td>0.000000</td>\n",
       "      <td>0.000000</td>\n",
       "      <td>0.000000</td>\n",
       "      <td>2.000000</td>\n",
       "      <td>2.000000</td>\n",
       "      <td>1.000000</td>\n",
       "      <td>2.000000</td>\n",
       "    </tr>\n",
       "    <tr>\n",
       "      <th>2</th>\n",
       "      <td>1.000000</td>\n",
       "      <td>0.000000</td>\n",
       "      <td>0.000000</td>\n",
       "      <td>0.000000</td>\n",
       "      <td>0.000000</td>\n",
       "      <td>1.000000</td>\n",
       "      <td>0.000000</td>\n",
       "      <td>0.000000</td>\n",
       "      <td>0.000000</td>\n",
       "      <td>0.000000</td>\n",
       "      <td>0.000000</td>\n",
       "      <td>1.000000</td>\n",
       "      <td>1.000000</td>\n",
       "      <td>0.000000</td>\n",
       "      <td>0.000000</td>\n",
       "      <td>0.000000</td>\n",
       "      <td>2.000000</td>\n",
       "      <td>3.000000</td>\n",
       "      <td>1.000000</td>\n",
       "      <td>2.000000</td>\n",
       "    </tr>\n",
       "    <tr>\n",
       "      <th>3</th>\n",
       "      <td>0.000000</td>\n",
       "      <td>0.000000</td>\n",
       "      <td>1.000000</td>\n",
       "      <td>0.000000</td>\n",
       "      <td>0.000000</td>\n",
       "      <td>0.000000</td>\n",
       "      <td>1.000000</td>\n",
       "      <td>1.000000</td>\n",
       "      <td>0.000000</td>\n",
       "      <td>0.000000</td>\n",
       "      <td>0.000000</td>\n",
       "      <td>1.000000</td>\n",
       "      <td>1.000000</td>\n",
       "      <td>0.000000</td>\n",
       "      <td>0.000000</td>\n",
       "      <td>0.000000</td>\n",
       "      <td>2.000000</td>\n",
       "      <td>0.000000</td>\n",
       "      <td>0.000000</td>\n",
       "      <td>0.000000</td>\n",
       "    </tr>\n",
       "    <tr>\n",
       "      <th>4</th>\n",
       "      <td>0.000000</td>\n",
       "      <td>0.000000</td>\n",
       "      <td>0.000000</td>\n",
       "      <td>0.000000</td>\n",
       "      <td>0.000000</td>\n",
       "      <td>0.000000</td>\n",
       "      <td>1.000000</td>\n",
       "      <td>1.000000</td>\n",
       "      <td>0.000000</td>\n",
       "      <td>0.000000</td>\n",
       "      <td>1.000000</td>\n",
       "      <td>1.000000</td>\n",
       "      <td>0.000000</td>\n",
       "      <td>1.000000</td>\n",
       "      <td>0.000000</td>\n",
       "      <td>0.000000</td>\n",
       "      <td>0.000000</td>\n",
       "      <td>0.000000</td>\n",
       "      <td>1.000000</td>\n",
       "      <td>2.000000</td>\n",
       "    </tr>\n",
       "  </tbody>\n",
       "</table>\n",
       "</div>"
      ],
      "text/plain": [
       "   ChildrenInHH  HandsetRefurbished  HandsetWebCapable  TruckOwner  RVOwner  \\\n",
       "0      0.000000            0.000000           1.000000    0.000000 0.000000   \n",
       "1      1.000000            0.000000           0.000000    0.000000 0.000000   \n",
       "2      1.000000            0.000000           0.000000    0.000000 0.000000   \n",
       "3      0.000000            0.000000           1.000000    0.000000 0.000000   \n",
       "4      0.000000            0.000000           0.000000    0.000000 0.000000   \n",
       "\n",
       "   Homeownership  BuysViaMailOrder  RespondsToMailOffers  OptOutMailings  \\\n",
       "0       0.000000          1.000000              1.000000        0.000000   \n",
       "1       0.000000          1.000000              1.000000        0.000000   \n",
       "2       1.000000          0.000000              0.000000        0.000000   \n",
       "3       0.000000          1.000000              1.000000        0.000000   \n",
       "4       0.000000          1.000000              1.000000        0.000000   \n",
       "\n",
       "   NonUSTravel  OwnsComputer  HasCreditCard  NewCellphoneUser  \\\n",
       "0     0.000000      1.000000       1.000000          0.000000   \n",
       "1     0.000000      1.000000       1.000000          1.000000   \n",
       "2     0.000000      0.000000       1.000000          1.000000   \n",
       "3     0.000000      0.000000       1.000000          1.000000   \n",
       "4     0.000000      1.000000       1.000000          0.000000   \n",
       "\n",
       "   NotNewCellphoneUser  OwnsMotorcycle  MadeCallToRetentionTeam  CreditRating  \\\n",
       "0             0.000000        0.000000                 1.000000      0.000000   \n",
       "1             0.000000        0.000000                 0.000000      2.000000   \n",
       "2             0.000000        0.000000                 0.000000      2.000000   \n",
       "3             0.000000        0.000000                 0.000000      2.000000   \n",
       "4             1.000000        0.000000                 0.000000      0.000000   \n",
       "\n",
       "   PrizmCode  Occupation  MaritalStatus  \n",
       "0   2.000000    1.000000       0.000000  \n",
       "1   2.000000    1.000000       2.000000  \n",
       "2   3.000000    1.000000       2.000000  \n",
       "3   0.000000    0.000000       0.000000  \n",
       "4   0.000000    1.000000       2.000000  "
      ]
     },
     "execution_count": 14,
     "metadata": {},
     "output_type": "execute_result"
    }
   ],
   "source": [
    "cat_f.head()"
   ]
  },
  {
   "cell_type": "code",
   "execution_count": 15,
   "id": "d6b6557e",
   "metadata": {},
   "outputs": [
    {
     "data": {
      "text/plain": [
       "(51047, 20)"
      ]
     },
     "execution_count": 15,
     "metadata": {},
     "output_type": "execute_result"
    }
   ],
   "source": [
    "cat_f.shape"
   ]
  },
  {
   "cell_type": "markdown",
   "id": "3b7a72b8",
   "metadata": {},
   "source": [
    "## POWER TRANSFORMATION"
   ]
  },
  {
   "cell_type": "markdown",
   "id": "9ff62b9a",
   "metadata": {},
   "source": [
    "As our data has both positive and negative values, we have used `yeo-johnson` power Transformation as it works for both."
   ]
  },
  {
   "cell_type": "code",
   "execution_count": 16,
   "id": "86bce2f5",
   "metadata": {},
   "outputs": [],
   "source": [
    "from sklearn.preprocessing import PowerTransformer\n",
    "PT=PowerTransformer()\n",
    "for i in num_f.columns:\n",
    "    num_f[i]=PT.fit_transform(num_f[[i]])"
   ]
  },
  {
   "cell_type": "code",
   "execution_count": 17,
   "id": "c6e55172",
   "metadata": {},
   "outputs": [
    {
     "data": {
      "text/html": [
       "<div>\n",
       "<style scoped>\n",
       "    .dataframe tbody tr th:only-of-type {\n",
       "        vertical-align: middle;\n",
       "    }\n",
       "\n",
       "    .dataframe tbody tr th {\n",
       "        vertical-align: top;\n",
       "    }\n",
       "\n",
       "    .dataframe thead th {\n",
       "        text-align: right;\n",
       "    }\n",
       "</style>\n",
       "<table border=\"1\" class=\"dataframe\">\n",
       "  <thead>\n",
       "    <tr style=\"text-align: right;\">\n",
       "      <th></th>\n",
       "      <th>MonthlyRevenue</th>\n",
       "      <th>MonthlyMinutes</th>\n",
       "      <th>TotalRecurringCharge</th>\n",
       "      <th>DirectorAssistedCalls</th>\n",
       "      <th>OverageMinutes</th>\n",
       "      <th>RoamingCalls</th>\n",
       "      <th>PercChangeMinutes</th>\n",
       "      <th>PercChangeRevenues</th>\n",
       "      <th>DroppedCalls</th>\n",
       "      <th>BlockedCalls</th>\n",
       "      <th>UnansweredCalls</th>\n",
       "      <th>CustomerCareCalls</th>\n",
       "      <th>ThreewayCalls</th>\n",
       "      <th>ReceivedCalls</th>\n",
       "      <th>OutboundCalls</th>\n",
       "      <th>InboundCalls</th>\n",
       "      <th>PeakCallsInOut</th>\n",
       "      <th>OffPeakCallsInOut</th>\n",
       "      <th>DroppedBlockedCalls</th>\n",
       "      <th>CallForwardingCalls</th>\n",
       "      <th>CallWaitingCalls</th>\n",
       "      <th>MonthsInService</th>\n",
       "      <th>UniqueSubs</th>\n",
       "      <th>ActiveSubs</th>\n",
       "      <th>Handsets</th>\n",
       "      <th>HandsetModels</th>\n",
       "      <th>CurrentEquipmentDays</th>\n",
       "      <th>AgeHH1</th>\n",
       "      <th>AgeHH2</th>\n",
       "      <th>RetentionCalls</th>\n",
       "      <th>RetentionOffersAccepted</th>\n",
       "      <th>ReferralsMadeBySubscriber</th>\n",
       "      <th>IncomeGroup</th>\n",
       "      <th>AdjustmentsToCreditRating</th>\n",
       "      <th>HandsetPrice</th>\n",
       "    </tr>\n",
       "  </thead>\n",
       "  <tbody>\n",
       "    <tr>\n",
       "      <th>0</th>\n",
       "      <td>-1.082369</td>\n",
       "      <td>-0.421751</td>\n",
       "      <td>-1.115167</td>\n",
       "      <td>-0.046949</td>\n",
       "      <td>-0.997358</td>\n",
       "      <td>-0.624205</td>\n",
       "      <td>-0.568422</td>\n",
       "      <td>-0.452641</td>\n",
       "      <td>-0.884189</td>\n",
       "      <td>-0.301052</td>\n",
       "      <td>-0.562132</td>\n",
       "      <td>-0.823872</td>\n",
       "      <td>-0.603512</td>\n",
       "      <td>0.464930</td>\n",
       "      <td>-1.604073</td>\n",
       "      <td>-1.178797</td>\n",
       "      <td>0.017986</td>\n",
       "      <td>-0.212723</td>\n",
       "      <td>-0.892987</td>\n",
       "      <td>-0.067861</td>\n",
       "      <td>-0.146540</td>\n",
       "      <td>2.469209</td>\n",
       "      <td>1.162529</td>\n",
       "      <td>-0.582570</td>\n",
       "      <td>0.806202</td>\n",
       "      <td>1.119147</td>\n",
       "      <td>0.104248</td>\n",
       "      <td>1.172629</td>\n",
       "      <td>-0.939988</td>\n",
       "      <td>5.315383</td>\n",
       "      <td>-0.132521</td>\n",
       "      <td>-0.221337</td>\n",
       "      <td>-0.004500</td>\n",
       "      <td>-0.193264</td>\n",
       "      <td>-1.451473</td>\n",
       "    </tr>\n",
       "    <tr>\n",
       "      <th>1</th>\n",
       "      <td>-1.544529</td>\n",
       "      <td>-1.929925</td>\n",
       "      <td>-1.432596</td>\n",
       "      <td>-0.913645</td>\n",
       "      <td>-0.997358</td>\n",
       "      <td>-0.624205</td>\n",
       "      <td>0.019778</td>\n",
       "      <td>0.088431</td>\n",
       "      <td>-1.195110</td>\n",
       "      <td>-1.212365</td>\n",
       "      <td>-1.006690</td>\n",
       "      <td>-0.823872</td>\n",
       "      <td>-0.603512</td>\n",
       "      <td>-1.595289</td>\n",
       "      <td>-1.604073</td>\n",
       "      <td>-1.178797</td>\n",
       "      <td>-1.309976</td>\n",
       "      <td>-1.529097</td>\n",
       "      <td>-1.422588</td>\n",
       "      <td>-0.067861</td>\n",
       "      <td>-0.894945</td>\n",
       "      <td>2.379749</td>\n",
       "      <td>-0.761324</td>\n",
       "      <td>-0.582570</td>\n",
       "      <td>0.806202</td>\n",
       "      <td>-0.767323</td>\n",
       "      <td>3.032275</td>\n",
       "      <td>0.489795</td>\n",
       "      <td>1.056899</td>\n",
       "      <td>-0.188133</td>\n",
       "      <td>-0.132521</td>\n",
       "      <td>-0.221337</td>\n",
       "      <td>0.292259</td>\n",
       "      <td>-0.193264</td>\n",
       "      <td>-1.451473</td>\n",
       "    </tr>\n",
       "    <tr>\n",
       "      <th>2</th>\n",
       "      <td>-0.418867</td>\n",
       "      <td>-1.990079</td>\n",
       "      <td>-0.274582</td>\n",
       "      <td>-0.913645</td>\n",
       "      <td>-0.997358</td>\n",
       "      <td>-0.624205</td>\n",
       "      <td>0.027546</td>\n",
       "      <td>0.088431</td>\n",
       "      <td>-1.510615</td>\n",
       "      <td>-1.212365</td>\n",
       "      <td>-1.752468</td>\n",
       "      <td>-0.823872</td>\n",
       "      <td>-0.603512</td>\n",
       "      <td>-1.489334</td>\n",
       "      <td>-1.459857</td>\n",
       "      <td>-1.178797</td>\n",
       "      <td>-1.656010</td>\n",
       "      <td>-1.147309</td>\n",
       "      <td>-1.667934</td>\n",
       "      <td>-0.067861</td>\n",
       "      <td>-0.894945</td>\n",
       "      <td>2.439936</td>\n",
       "      <td>-0.761324</td>\n",
       "      <td>-0.582570</td>\n",
       "      <td>-0.850981</td>\n",
       "      <td>-0.767323</td>\n",
       "      <td>3.588786</td>\n",
       "      <td>-0.021550</td>\n",
       "      <td>0.853192</td>\n",
       "      <td>-0.188133</td>\n",
       "      <td>-0.132521</td>\n",
       "      <td>-0.221337</td>\n",
       "      <td>0.576107</td>\n",
       "      <td>-0.193264</td>\n",
       "      <td>0.096055</td>\n",
       "    </tr>\n",
       "    <tr>\n",
       "      <th>3</th>\n",
       "      <td>0.825055</td>\n",
       "      <td>1.394624</td>\n",
       "      <td>1.183628</td>\n",
       "      <td>1.168135</td>\n",
       "      <td>-0.997358</td>\n",
       "      <td>-0.624205</td>\n",
       "      <td>0.657477</td>\n",
       "      <td>0.284972</td>\n",
       "      <td>2.226035</td>\n",
       "      <td>1.293586</td>\n",
       "      <td>1.350745</td>\n",
       "      <td>1.504542</td>\n",
       "      <td>1.948860</td>\n",
       "      <td>0.943697</td>\n",
       "      <td>2.901567</td>\n",
       "      <td>2.060902</td>\n",
       "      <td>2.500800</td>\n",
       "      <td>1.812611</td>\n",
       "      <td>2.043458</td>\n",
       "      <td>-0.067861</td>\n",
       "      <td>1.849345</td>\n",
       "      <td>2.410123</td>\n",
       "      <td>1.162529</td>\n",
       "      <td>1.345801</td>\n",
       "      <td>1.895777</td>\n",
       "      <td>1.700439</td>\n",
       "      <td>0.461886</td>\n",
       "      <td>0.133216</td>\n",
       "      <td>-0.939988</td>\n",
       "      <td>-0.188133</td>\n",
       "      <td>-0.132521</td>\n",
       "      <td>-0.221337</td>\n",
       "      <td>0.576107</td>\n",
       "      <td>-0.193264</td>\n",
       "      <td>-2.329307</td>\n",
       "    </tr>\n",
       "    <tr>\n",
       "      <th>4</th>\n",
       "      <td>-1.533157</td>\n",
       "      <td>-2.456462</td>\n",
       "      <td>-1.432596</td>\n",
       "      <td>-0.913645</td>\n",
       "      <td>-0.997358</td>\n",
       "      <td>-0.624205</td>\n",
       "      <td>0.035335</td>\n",
       "      <td>0.083232</td>\n",
       "      <td>-1.510615</td>\n",
       "      <td>-1.212365</td>\n",
       "      <td>-1.752468</td>\n",
       "      <td>-0.823872</td>\n",
       "      <td>-0.603512</td>\n",
       "      <td>-1.595289</td>\n",
       "      <td>-1.604073</td>\n",
       "      <td>-1.178797</td>\n",
       "      <td>-1.888772</td>\n",
       "      <td>-1.799405</td>\n",
       "      <td>-1.667934</td>\n",
       "      <td>-0.067861</td>\n",
       "      <td>-0.894945</td>\n",
       "      <td>2.218719</td>\n",
       "      <td>1.162529</td>\n",
       "      <td>1.345801</td>\n",
       "      <td>1.593759</td>\n",
       "      <td>1.552447</td>\n",
       "      <td>1.617266</td>\n",
       "      <td>0.687632</td>\n",
       "      <td>1.160401</td>\n",
       "      <td>-0.188133</td>\n",
       "      <td>-0.132521</td>\n",
       "      <td>-0.221337</td>\n",
       "      <td>1.370258</td>\n",
       "      <td>5.174275</td>\n",
       "      <td>-2.329307</td>\n",
       "    </tr>\n",
       "  </tbody>\n",
       "</table>\n",
       "</div>"
      ],
      "text/plain": [
       "   MonthlyRevenue  MonthlyMinutes  TotalRecurringCharge  \\\n",
       "0       -1.082369       -0.421751             -1.115167   \n",
       "1       -1.544529       -1.929925             -1.432596   \n",
       "2       -0.418867       -1.990079             -0.274582   \n",
       "3        0.825055        1.394624              1.183628   \n",
       "4       -1.533157       -2.456462             -1.432596   \n",
       "\n",
       "   DirectorAssistedCalls  OverageMinutes  RoamingCalls  PercChangeMinutes  \\\n",
       "0              -0.046949       -0.997358     -0.624205          -0.568422   \n",
       "1              -0.913645       -0.997358     -0.624205           0.019778   \n",
       "2              -0.913645       -0.997358     -0.624205           0.027546   \n",
       "3               1.168135       -0.997358     -0.624205           0.657477   \n",
       "4              -0.913645       -0.997358     -0.624205           0.035335   \n",
       "\n",
       "   PercChangeRevenues  DroppedCalls  BlockedCalls  UnansweredCalls  \\\n",
       "0           -0.452641     -0.884189     -0.301052        -0.562132   \n",
       "1            0.088431     -1.195110     -1.212365        -1.006690   \n",
       "2            0.088431     -1.510615     -1.212365        -1.752468   \n",
       "3            0.284972      2.226035      1.293586         1.350745   \n",
       "4            0.083232     -1.510615     -1.212365        -1.752468   \n",
       "\n",
       "   CustomerCareCalls  ThreewayCalls  ReceivedCalls  OutboundCalls  \\\n",
       "0          -0.823872      -0.603512       0.464930      -1.604073   \n",
       "1          -0.823872      -0.603512      -1.595289      -1.604073   \n",
       "2          -0.823872      -0.603512      -1.489334      -1.459857   \n",
       "3           1.504542       1.948860       0.943697       2.901567   \n",
       "4          -0.823872      -0.603512      -1.595289      -1.604073   \n",
       "\n",
       "   InboundCalls  PeakCallsInOut  OffPeakCallsInOut  DroppedBlockedCalls  \\\n",
       "0     -1.178797        0.017986          -0.212723            -0.892987   \n",
       "1     -1.178797       -1.309976          -1.529097            -1.422588   \n",
       "2     -1.178797       -1.656010          -1.147309            -1.667934   \n",
       "3      2.060902        2.500800           1.812611             2.043458   \n",
       "4     -1.178797       -1.888772          -1.799405            -1.667934   \n",
       "\n",
       "   CallForwardingCalls  CallWaitingCalls  MonthsInService  UniqueSubs  \\\n",
       "0            -0.067861         -0.146540         2.469209    1.162529   \n",
       "1            -0.067861         -0.894945         2.379749   -0.761324   \n",
       "2            -0.067861         -0.894945         2.439936   -0.761324   \n",
       "3            -0.067861          1.849345         2.410123    1.162529   \n",
       "4            -0.067861         -0.894945         2.218719    1.162529   \n",
       "\n",
       "   ActiveSubs  Handsets  HandsetModels  CurrentEquipmentDays    AgeHH1  \\\n",
       "0   -0.582570  0.806202       1.119147              0.104248  1.172629   \n",
       "1   -0.582570  0.806202      -0.767323              3.032275  0.489795   \n",
       "2   -0.582570 -0.850981      -0.767323              3.588786 -0.021550   \n",
       "3    1.345801  1.895777       1.700439              0.461886  0.133216   \n",
       "4    1.345801  1.593759       1.552447              1.617266  0.687632   \n",
       "\n",
       "     AgeHH2  RetentionCalls  RetentionOffersAccepted  \\\n",
       "0 -0.939988        5.315383                -0.132521   \n",
       "1  1.056899       -0.188133                -0.132521   \n",
       "2  0.853192       -0.188133                -0.132521   \n",
       "3 -0.939988       -0.188133                -0.132521   \n",
       "4  1.160401       -0.188133                -0.132521   \n",
       "\n",
       "   ReferralsMadeBySubscriber  IncomeGroup  AdjustmentsToCreditRating  \\\n",
       "0                  -0.221337    -0.004500                  -0.193264   \n",
       "1                  -0.221337     0.292259                  -0.193264   \n",
       "2                  -0.221337     0.576107                  -0.193264   \n",
       "3                  -0.221337     0.576107                  -0.193264   \n",
       "4                  -0.221337     1.370258                   5.174275   \n",
       "\n",
       "   HandsetPrice  \n",
       "0     -1.451473  \n",
       "1     -1.451473  \n",
       "2      0.096055  \n",
       "3     -2.329307  \n",
       "4     -2.329307  "
      ]
     },
     "execution_count": 17,
     "metadata": {},
     "output_type": "execute_result"
    }
   ],
   "source": [
    "num_f.head()"
   ]
  },
  {
   "cell_type": "code",
   "execution_count": 18,
   "id": "37b149e2",
   "metadata": {},
   "outputs": [
    {
     "data": {
      "text/plain": [
       "(51047, 35)"
      ]
     },
     "execution_count": 18,
     "metadata": {},
     "output_type": "execute_result"
    }
   ],
   "source": [
    "num_f.shape"
   ]
  },
  {
   "cell_type": "markdown",
   "id": "bfe512cf",
   "metadata": {},
   "source": [
    "#### Concatenate scaled numerical and dummy encoded categorical variables"
   ]
  },
  {
   "cell_type": "code",
   "execution_count": 19,
   "id": "e3f007d2",
   "metadata": {},
   "outputs": [
    {
     "data": {
      "text/plain": [
       "(51047, 55)"
      ]
     },
     "execution_count": 19,
     "metadata": {},
     "output_type": "execute_result"
    }
   ],
   "source": [
    "df_features = pd.concat([cat_f,num_f], axis =1)\n",
    "df_features.shape"
   ]
  },
  {
   "cell_type": "code",
   "execution_count": 20,
   "id": "1a944648",
   "metadata": {},
   "outputs": [
    {
     "data": {
      "text/html": [
       "<div>\n",
       "<style scoped>\n",
       "    .dataframe tbody tr th:only-of-type {\n",
       "        vertical-align: middle;\n",
       "    }\n",
       "\n",
       "    .dataframe tbody tr th {\n",
       "        vertical-align: top;\n",
       "    }\n",
       "\n",
       "    .dataframe thead th {\n",
       "        text-align: right;\n",
       "    }\n",
       "</style>\n",
       "<table border=\"1\" class=\"dataframe\">\n",
       "  <thead>\n",
       "    <tr style=\"text-align: right;\">\n",
       "      <th></th>\n",
       "      <th>ChildrenInHH</th>\n",
       "      <th>HandsetRefurbished</th>\n",
       "      <th>HandsetWebCapable</th>\n",
       "      <th>TruckOwner</th>\n",
       "      <th>RVOwner</th>\n",
       "      <th>Homeownership</th>\n",
       "      <th>BuysViaMailOrder</th>\n",
       "      <th>RespondsToMailOffers</th>\n",
       "      <th>OptOutMailings</th>\n",
       "      <th>NonUSTravel</th>\n",
       "      <th>OwnsComputer</th>\n",
       "      <th>HasCreditCard</th>\n",
       "      <th>NewCellphoneUser</th>\n",
       "      <th>NotNewCellphoneUser</th>\n",
       "      <th>OwnsMotorcycle</th>\n",
       "      <th>MadeCallToRetentionTeam</th>\n",
       "      <th>CreditRating</th>\n",
       "      <th>PrizmCode</th>\n",
       "      <th>Occupation</th>\n",
       "      <th>MaritalStatus</th>\n",
       "      <th>MonthlyRevenue</th>\n",
       "      <th>MonthlyMinutes</th>\n",
       "      <th>TotalRecurringCharge</th>\n",
       "      <th>DirectorAssistedCalls</th>\n",
       "      <th>OverageMinutes</th>\n",
       "      <th>RoamingCalls</th>\n",
       "      <th>PercChangeMinutes</th>\n",
       "      <th>PercChangeRevenues</th>\n",
       "      <th>DroppedCalls</th>\n",
       "      <th>BlockedCalls</th>\n",
       "      <th>UnansweredCalls</th>\n",
       "      <th>CustomerCareCalls</th>\n",
       "      <th>ThreewayCalls</th>\n",
       "      <th>ReceivedCalls</th>\n",
       "      <th>OutboundCalls</th>\n",
       "      <th>InboundCalls</th>\n",
       "      <th>PeakCallsInOut</th>\n",
       "      <th>OffPeakCallsInOut</th>\n",
       "      <th>DroppedBlockedCalls</th>\n",
       "      <th>CallForwardingCalls</th>\n",
       "      <th>CallWaitingCalls</th>\n",
       "      <th>MonthsInService</th>\n",
       "      <th>UniqueSubs</th>\n",
       "      <th>ActiveSubs</th>\n",
       "      <th>Handsets</th>\n",
       "      <th>HandsetModels</th>\n",
       "      <th>CurrentEquipmentDays</th>\n",
       "      <th>AgeHH1</th>\n",
       "      <th>AgeHH2</th>\n",
       "      <th>RetentionCalls</th>\n",
       "      <th>RetentionOffersAccepted</th>\n",
       "      <th>ReferralsMadeBySubscriber</th>\n",
       "      <th>IncomeGroup</th>\n",
       "      <th>AdjustmentsToCreditRating</th>\n",
       "      <th>HandsetPrice</th>\n",
       "    </tr>\n",
       "  </thead>\n",
       "  <tbody>\n",
       "    <tr>\n",
       "      <th>0</th>\n",
       "      <td>0.000000</td>\n",
       "      <td>0.000000</td>\n",
       "      <td>1.000000</td>\n",
       "      <td>0.000000</td>\n",
       "      <td>0.000000</td>\n",
       "      <td>0.000000</td>\n",
       "      <td>1.000000</td>\n",
       "      <td>1.000000</td>\n",
       "      <td>0.000000</td>\n",
       "      <td>0.000000</td>\n",
       "      <td>1.000000</td>\n",
       "      <td>1.000000</td>\n",
       "      <td>0.000000</td>\n",
       "      <td>0.000000</td>\n",
       "      <td>0.000000</td>\n",
       "      <td>1.000000</td>\n",
       "      <td>0.000000</td>\n",
       "      <td>2.000000</td>\n",
       "      <td>1.000000</td>\n",
       "      <td>0.000000</td>\n",
       "      <td>-1.082369</td>\n",
       "      <td>-0.421751</td>\n",
       "      <td>-1.115167</td>\n",
       "      <td>-0.046949</td>\n",
       "      <td>-0.997358</td>\n",
       "      <td>-0.624205</td>\n",
       "      <td>-0.568422</td>\n",
       "      <td>-0.452641</td>\n",
       "      <td>-0.884189</td>\n",
       "      <td>-0.301052</td>\n",
       "      <td>-0.562132</td>\n",
       "      <td>-0.823872</td>\n",
       "      <td>-0.603512</td>\n",
       "      <td>0.464930</td>\n",
       "      <td>-1.604073</td>\n",
       "      <td>-1.178797</td>\n",
       "      <td>0.017986</td>\n",
       "      <td>-0.212723</td>\n",
       "      <td>-0.892987</td>\n",
       "      <td>-0.067861</td>\n",
       "      <td>-0.146540</td>\n",
       "      <td>2.469209</td>\n",
       "      <td>1.162529</td>\n",
       "      <td>-0.582570</td>\n",
       "      <td>0.806202</td>\n",
       "      <td>1.119147</td>\n",
       "      <td>0.104248</td>\n",
       "      <td>1.172629</td>\n",
       "      <td>-0.939988</td>\n",
       "      <td>5.315383</td>\n",
       "      <td>-0.132521</td>\n",
       "      <td>-0.221337</td>\n",
       "      <td>-0.004500</td>\n",
       "      <td>-0.193264</td>\n",
       "      <td>-1.451473</td>\n",
       "    </tr>\n",
       "    <tr>\n",
       "      <th>1</th>\n",
       "      <td>1.000000</td>\n",
       "      <td>0.000000</td>\n",
       "      <td>0.000000</td>\n",
       "      <td>0.000000</td>\n",
       "      <td>0.000000</td>\n",
       "      <td>0.000000</td>\n",
       "      <td>1.000000</td>\n",
       "      <td>1.000000</td>\n",
       "      <td>0.000000</td>\n",
       "      <td>0.000000</td>\n",
       "      <td>1.000000</td>\n",
       "      <td>1.000000</td>\n",
       "      <td>1.000000</td>\n",
       "      <td>0.000000</td>\n",
       "      <td>0.000000</td>\n",
       "      <td>0.000000</td>\n",
       "      <td>2.000000</td>\n",
       "      <td>2.000000</td>\n",
       "      <td>1.000000</td>\n",
       "      <td>2.000000</td>\n",
       "      <td>-1.544529</td>\n",
       "      <td>-1.929925</td>\n",
       "      <td>-1.432596</td>\n",
       "      <td>-0.913645</td>\n",
       "      <td>-0.997358</td>\n",
       "      <td>-0.624205</td>\n",
       "      <td>0.019778</td>\n",
       "      <td>0.088431</td>\n",
       "      <td>-1.195110</td>\n",
       "      <td>-1.212365</td>\n",
       "      <td>-1.006690</td>\n",
       "      <td>-0.823872</td>\n",
       "      <td>-0.603512</td>\n",
       "      <td>-1.595289</td>\n",
       "      <td>-1.604073</td>\n",
       "      <td>-1.178797</td>\n",
       "      <td>-1.309976</td>\n",
       "      <td>-1.529097</td>\n",
       "      <td>-1.422588</td>\n",
       "      <td>-0.067861</td>\n",
       "      <td>-0.894945</td>\n",
       "      <td>2.379749</td>\n",
       "      <td>-0.761324</td>\n",
       "      <td>-0.582570</td>\n",
       "      <td>0.806202</td>\n",
       "      <td>-0.767323</td>\n",
       "      <td>3.032275</td>\n",
       "      <td>0.489795</td>\n",
       "      <td>1.056899</td>\n",
       "      <td>-0.188133</td>\n",
       "      <td>-0.132521</td>\n",
       "      <td>-0.221337</td>\n",
       "      <td>0.292259</td>\n",
       "      <td>-0.193264</td>\n",
       "      <td>-1.451473</td>\n",
       "    </tr>\n",
       "    <tr>\n",
       "      <th>2</th>\n",
       "      <td>1.000000</td>\n",
       "      <td>0.000000</td>\n",
       "      <td>0.000000</td>\n",
       "      <td>0.000000</td>\n",
       "      <td>0.000000</td>\n",
       "      <td>1.000000</td>\n",
       "      <td>0.000000</td>\n",
       "      <td>0.000000</td>\n",
       "      <td>0.000000</td>\n",
       "      <td>0.000000</td>\n",
       "      <td>0.000000</td>\n",
       "      <td>1.000000</td>\n",
       "      <td>1.000000</td>\n",
       "      <td>0.000000</td>\n",
       "      <td>0.000000</td>\n",
       "      <td>0.000000</td>\n",
       "      <td>2.000000</td>\n",
       "      <td>3.000000</td>\n",
       "      <td>1.000000</td>\n",
       "      <td>2.000000</td>\n",
       "      <td>-0.418867</td>\n",
       "      <td>-1.990079</td>\n",
       "      <td>-0.274582</td>\n",
       "      <td>-0.913645</td>\n",
       "      <td>-0.997358</td>\n",
       "      <td>-0.624205</td>\n",
       "      <td>0.027546</td>\n",
       "      <td>0.088431</td>\n",
       "      <td>-1.510615</td>\n",
       "      <td>-1.212365</td>\n",
       "      <td>-1.752468</td>\n",
       "      <td>-0.823872</td>\n",
       "      <td>-0.603512</td>\n",
       "      <td>-1.489334</td>\n",
       "      <td>-1.459857</td>\n",
       "      <td>-1.178797</td>\n",
       "      <td>-1.656010</td>\n",
       "      <td>-1.147309</td>\n",
       "      <td>-1.667934</td>\n",
       "      <td>-0.067861</td>\n",
       "      <td>-0.894945</td>\n",
       "      <td>2.439936</td>\n",
       "      <td>-0.761324</td>\n",
       "      <td>-0.582570</td>\n",
       "      <td>-0.850981</td>\n",
       "      <td>-0.767323</td>\n",
       "      <td>3.588786</td>\n",
       "      <td>-0.021550</td>\n",
       "      <td>0.853192</td>\n",
       "      <td>-0.188133</td>\n",
       "      <td>-0.132521</td>\n",
       "      <td>-0.221337</td>\n",
       "      <td>0.576107</td>\n",
       "      <td>-0.193264</td>\n",
       "      <td>0.096055</td>\n",
       "    </tr>\n",
       "    <tr>\n",
       "      <th>3</th>\n",
       "      <td>0.000000</td>\n",
       "      <td>0.000000</td>\n",
       "      <td>1.000000</td>\n",
       "      <td>0.000000</td>\n",
       "      <td>0.000000</td>\n",
       "      <td>0.000000</td>\n",
       "      <td>1.000000</td>\n",
       "      <td>1.000000</td>\n",
       "      <td>0.000000</td>\n",
       "      <td>0.000000</td>\n",
       "      <td>0.000000</td>\n",
       "      <td>1.000000</td>\n",
       "      <td>1.000000</td>\n",
       "      <td>0.000000</td>\n",
       "      <td>0.000000</td>\n",
       "      <td>0.000000</td>\n",
       "      <td>2.000000</td>\n",
       "      <td>0.000000</td>\n",
       "      <td>0.000000</td>\n",
       "      <td>0.000000</td>\n",
       "      <td>0.825055</td>\n",
       "      <td>1.394624</td>\n",
       "      <td>1.183628</td>\n",
       "      <td>1.168135</td>\n",
       "      <td>-0.997358</td>\n",
       "      <td>-0.624205</td>\n",
       "      <td>0.657477</td>\n",
       "      <td>0.284972</td>\n",
       "      <td>2.226035</td>\n",
       "      <td>1.293586</td>\n",
       "      <td>1.350745</td>\n",
       "      <td>1.504542</td>\n",
       "      <td>1.948860</td>\n",
       "      <td>0.943697</td>\n",
       "      <td>2.901567</td>\n",
       "      <td>2.060902</td>\n",
       "      <td>2.500800</td>\n",
       "      <td>1.812611</td>\n",
       "      <td>2.043458</td>\n",
       "      <td>-0.067861</td>\n",
       "      <td>1.849345</td>\n",
       "      <td>2.410123</td>\n",
       "      <td>1.162529</td>\n",
       "      <td>1.345801</td>\n",
       "      <td>1.895777</td>\n",
       "      <td>1.700439</td>\n",
       "      <td>0.461886</td>\n",
       "      <td>0.133216</td>\n",
       "      <td>-0.939988</td>\n",
       "      <td>-0.188133</td>\n",
       "      <td>-0.132521</td>\n",
       "      <td>-0.221337</td>\n",
       "      <td>0.576107</td>\n",
       "      <td>-0.193264</td>\n",
       "      <td>-2.329307</td>\n",
       "    </tr>\n",
       "    <tr>\n",
       "      <th>4</th>\n",
       "      <td>0.000000</td>\n",
       "      <td>0.000000</td>\n",
       "      <td>0.000000</td>\n",
       "      <td>0.000000</td>\n",
       "      <td>0.000000</td>\n",
       "      <td>0.000000</td>\n",
       "      <td>1.000000</td>\n",
       "      <td>1.000000</td>\n",
       "      <td>0.000000</td>\n",
       "      <td>0.000000</td>\n",
       "      <td>1.000000</td>\n",
       "      <td>1.000000</td>\n",
       "      <td>0.000000</td>\n",
       "      <td>1.000000</td>\n",
       "      <td>0.000000</td>\n",
       "      <td>0.000000</td>\n",
       "      <td>0.000000</td>\n",
       "      <td>0.000000</td>\n",
       "      <td>1.000000</td>\n",
       "      <td>2.000000</td>\n",
       "      <td>-1.533157</td>\n",
       "      <td>-2.456462</td>\n",
       "      <td>-1.432596</td>\n",
       "      <td>-0.913645</td>\n",
       "      <td>-0.997358</td>\n",
       "      <td>-0.624205</td>\n",
       "      <td>0.035335</td>\n",
       "      <td>0.083232</td>\n",
       "      <td>-1.510615</td>\n",
       "      <td>-1.212365</td>\n",
       "      <td>-1.752468</td>\n",
       "      <td>-0.823872</td>\n",
       "      <td>-0.603512</td>\n",
       "      <td>-1.595289</td>\n",
       "      <td>-1.604073</td>\n",
       "      <td>-1.178797</td>\n",
       "      <td>-1.888772</td>\n",
       "      <td>-1.799405</td>\n",
       "      <td>-1.667934</td>\n",
       "      <td>-0.067861</td>\n",
       "      <td>-0.894945</td>\n",
       "      <td>2.218719</td>\n",
       "      <td>1.162529</td>\n",
       "      <td>1.345801</td>\n",
       "      <td>1.593759</td>\n",
       "      <td>1.552447</td>\n",
       "      <td>1.617266</td>\n",
       "      <td>0.687632</td>\n",
       "      <td>1.160401</td>\n",
       "      <td>-0.188133</td>\n",
       "      <td>-0.132521</td>\n",
       "      <td>-0.221337</td>\n",
       "      <td>1.370258</td>\n",
       "      <td>5.174275</td>\n",
       "      <td>-2.329307</td>\n",
       "    </tr>\n",
       "  </tbody>\n",
       "</table>\n",
       "</div>"
      ],
      "text/plain": [
       "   ChildrenInHH  HandsetRefurbished  HandsetWebCapable  TruckOwner  RVOwner  \\\n",
       "0      0.000000            0.000000           1.000000    0.000000 0.000000   \n",
       "1      1.000000            0.000000           0.000000    0.000000 0.000000   \n",
       "2      1.000000            0.000000           0.000000    0.000000 0.000000   \n",
       "3      0.000000            0.000000           1.000000    0.000000 0.000000   \n",
       "4      0.000000            0.000000           0.000000    0.000000 0.000000   \n",
       "\n",
       "   Homeownership  BuysViaMailOrder  RespondsToMailOffers  OptOutMailings  \\\n",
       "0       0.000000          1.000000              1.000000        0.000000   \n",
       "1       0.000000          1.000000              1.000000        0.000000   \n",
       "2       1.000000          0.000000              0.000000        0.000000   \n",
       "3       0.000000          1.000000              1.000000        0.000000   \n",
       "4       0.000000          1.000000              1.000000        0.000000   \n",
       "\n",
       "   NonUSTravel  OwnsComputer  HasCreditCard  NewCellphoneUser  \\\n",
       "0     0.000000      1.000000       1.000000          0.000000   \n",
       "1     0.000000      1.000000       1.000000          1.000000   \n",
       "2     0.000000      0.000000       1.000000          1.000000   \n",
       "3     0.000000      0.000000       1.000000          1.000000   \n",
       "4     0.000000      1.000000       1.000000          0.000000   \n",
       "\n",
       "   NotNewCellphoneUser  OwnsMotorcycle  MadeCallToRetentionTeam  CreditRating  \\\n",
       "0             0.000000        0.000000                 1.000000      0.000000   \n",
       "1             0.000000        0.000000                 0.000000      2.000000   \n",
       "2             0.000000        0.000000                 0.000000      2.000000   \n",
       "3             0.000000        0.000000                 0.000000      2.000000   \n",
       "4             1.000000        0.000000                 0.000000      0.000000   \n",
       "\n",
       "   PrizmCode  Occupation  MaritalStatus  MonthlyRevenue  MonthlyMinutes  \\\n",
       "0   2.000000    1.000000       0.000000       -1.082369       -0.421751   \n",
       "1   2.000000    1.000000       2.000000       -1.544529       -1.929925   \n",
       "2   3.000000    1.000000       2.000000       -0.418867       -1.990079   \n",
       "3   0.000000    0.000000       0.000000        0.825055        1.394624   \n",
       "4   0.000000    1.000000       2.000000       -1.533157       -2.456462   \n",
       "\n",
       "   TotalRecurringCharge  DirectorAssistedCalls  OverageMinutes  RoamingCalls  \\\n",
       "0             -1.115167              -0.046949       -0.997358     -0.624205   \n",
       "1             -1.432596              -0.913645       -0.997358     -0.624205   \n",
       "2             -0.274582              -0.913645       -0.997358     -0.624205   \n",
       "3              1.183628               1.168135       -0.997358     -0.624205   \n",
       "4             -1.432596              -0.913645       -0.997358     -0.624205   \n",
       "\n",
       "   PercChangeMinutes  PercChangeRevenues  DroppedCalls  BlockedCalls  \\\n",
       "0          -0.568422           -0.452641     -0.884189     -0.301052   \n",
       "1           0.019778            0.088431     -1.195110     -1.212365   \n",
       "2           0.027546            0.088431     -1.510615     -1.212365   \n",
       "3           0.657477            0.284972      2.226035      1.293586   \n",
       "4           0.035335            0.083232     -1.510615     -1.212365   \n",
       "\n",
       "   UnansweredCalls  CustomerCareCalls  ThreewayCalls  ReceivedCalls  \\\n",
       "0        -0.562132          -0.823872      -0.603512       0.464930   \n",
       "1        -1.006690          -0.823872      -0.603512      -1.595289   \n",
       "2        -1.752468          -0.823872      -0.603512      -1.489334   \n",
       "3         1.350745           1.504542       1.948860       0.943697   \n",
       "4        -1.752468          -0.823872      -0.603512      -1.595289   \n",
       "\n",
       "   OutboundCalls  InboundCalls  PeakCallsInOut  OffPeakCallsInOut  \\\n",
       "0      -1.604073     -1.178797        0.017986          -0.212723   \n",
       "1      -1.604073     -1.178797       -1.309976          -1.529097   \n",
       "2      -1.459857     -1.178797       -1.656010          -1.147309   \n",
       "3       2.901567      2.060902        2.500800           1.812611   \n",
       "4      -1.604073     -1.178797       -1.888772          -1.799405   \n",
       "\n",
       "   DroppedBlockedCalls  CallForwardingCalls  CallWaitingCalls  \\\n",
       "0            -0.892987            -0.067861         -0.146540   \n",
       "1            -1.422588            -0.067861         -0.894945   \n",
       "2            -1.667934            -0.067861         -0.894945   \n",
       "3             2.043458            -0.067861          1.849345   \n",
       "4            -1.667934            -0.067861         -0.894945   \n",
       "\n",
       "   MonthsInService  UniqueSubs  ActiveSubs  Handsets  HandsetModels  \\\n",
       "0         2.469209    1.162529   -0.582570  0.806202       1.119147   \n",
       "1         2.379749   -0.761324   -0.582570  0.806202      -0.767323   \n",
       "2         2.439936   -0.761324   -0.582570 -0.850981      -0.767323   \n",
       "3         2.410123    1.162529    1.345801  1.895777       1.700439   \n",
       "4         2.218719    1.162529    1.345801  1.593759       1.552447   \n",
       "\n",
       "   CurrentEquipmentDays    AgeHH1    AgeHH2  RetentionCalls  \\\n",
       "0              0.104248  1.172629 -0.939988        5.315383   \n",
       "1              3.032275  0.489795  1.056899       -0.188133   \n",
       "2              3.588786 -0.021550  0.853192       -0.188133   \n",
       "3              0.461886  0.133216 -0.939988       -0.188133   \n",
       "4              1.617266  0.687632  1.160401       -0.188133   \n",
       "\n",
       "   RetentionOffersAccepted  ReferralsMadeBySubscriber  IncomeGroup  \\\n",
       "0                -0.132521                  -0.221337    -0.004500   \n",
       "1                -0.132521                  -0.221337     0.292259   \n",
       "2                -0.132521                  -0.221337     0.576107   \n",
       "3                -0.132521                  -0.221337     0.576107   \n",
       "4                -0.132521                  -0.221337     1.370258   \n",
       "\n",
       "   AdjustmentsToCreditRating  HandsetPrice  \n",
       "0                  -0.193264     -1.451473  \n",
       "1                  -0.193264     -1.451473  \n",
       "2                  -0.193264      0.096055  \n",
       "3                  -0.193264     -2.329307  \n",
       "4                   5.174275     -2.329307  "
      ]
     },
     "execution_count": 20,
     "metadata": {},
     "output_type": "execute_result"
    }
   ],
   "source": [
    "df_features.head()"
   ]
  },
  {
   "cell_type": "code",
   "execution_count": 21,
   "id": "47c9ec63",
   "metadata": {},
   "outputs": [
    {
     "data": {
      "text/plain": [
       "2"
      ]
     },
     "execution_count": 21,
     "metadata": {},
     "output_type": "execute_result"
    }
   ],
   "source": [
    "df_target.nunique()"
   ]
  },
  {
   "cell_type": "markdown",
   "id": "b5f81822",
   "metadata": {},
   "source": [
    "## Train-Test Split"
   ]
  },
  {
   "cell_type": "markdown",
   "id": "b24dc3c1",
   "metadata": {},
   "source": [
    "Before applying various classification techniques to predict the Churn, let us split the dataset in train and test set."
   ]
  },
  {
   "cell_type": "code",
   "execution_count": 22,
   "id": "25194a07",
   "metadata": {},
   "outputs": [
    {
     "name": "stdout",
     "output_type": "stream",
     "text": [
      "x_train:  (35732, 55)\n",
      "y_train:  (35732,)\n",
      "x_test:  (15315, 55)\n",
      "y_test:  (15315,)\n"
     ]
    }
   ],
   "source": [
    "# split data into train subset and test subset\n",
    "# set 'random_state' to generate the same dataset each time you run the code \n",
    "# 'test_size' returns the proportion of data to be included in the testing set\n",
    "X_train, X_test ,y_train ,y_test = train_test_split(df_features,df_target, random_state=10, test_size=0.3)\n",
    "\n",
    "# check the dimensions of the train & test subset using 'shape'\n",
    "# print dimension of train set\n",
    "print('x_train: ',X_train.shape)\n",
    "print('y_train: ',y_train.shape)\n",
    "\n",
    "# print dimension of test set\n",
    "print('x_test: ',X_test.shape)\n",
    "print('y_test: ',y_test.shape)"
   ]
  },
  {
   "cell_type": "code",
   "execution_count": null,
   "id": "edba02ef",
   "metadata": {},
   "outputs": [],
   "source": []
  },
  {
   "cell_type": "markdown",
   "id": "743c663e",
   "metadata": {
    "id": "uWi1LS05EjXq"
   },
   "source": [
    "#### Create a generalized function to calculate the metrics for the test set."
   ]
  },
  {
   "cell_type": "code",
   "execution_count": 35,
   "id": "56b13aaa",
   "metadata": {},
   "outputs": [],
   "source": [
    "# create a generalized function to calculate the metrics values for train set\n",
    "def get_train_report(model):\n",
    "    \n",
    "    # for training set:\n",
    "    # train_pred: prediction made by the model on the train dataset 'X_train'\n",
    "    # y_train: actual values of the target variable for the train dataset\n",
    "\n",
    "    # predict the output of the target variable from the train data \n",
    "    train_pred = model.predict(X_train)\n",
    "\n",
    "    # return the performace measures on train set\n",
    "    return(classification_report(y_train, train_pred))"
   ]
  },
  {
   "cell_type": "code",
   "execution_count": 23,
   "id": "1eba79b7",
   "metadata": {
    "id": "M_zT733VEjXq"
   },
   "outputs": [],
   "source": [
    "# create a generalized function to calculate the metrics values for test set\n",
    "def get_test_report(model):\n",
    "    \n",
    "    # for train set:\n",
    "    # test_pred: prediction made by the model on the test dataset 'X_test'\n",
    "    # y_test: actual values of the target variable for the test dataset\n",
    "\n",
    "    # predict the output of the target variable from the test data \n",
    "    test_pred = model.predict(X_test)\n",
    "\n",
    "    # return the classification report for test data\n",
    "    return(classification_report(y_test, test_pred))"
   ]
  },
  {
   "cell_type": "markdown",
   "id": "e81a1ec2",
   "metadata": {
    "id": "yGt9cC2lEjXr"
   },
   "source": [
    "#### Plot the confusion matrix."
   ]
  },
  {
   "cell_type": "code",
   "execution_count": 24,
   "id": "789a8d72",
   "metadata": {
    "id": "Av39nL7SebpS"
   },
   "outputs": [],
   "source": [
    "def plot_confusion_matrix(model):\n",
    "    y_pred = model.predict(X_test)\n",
    "    \n",
    "    # create a confusion matrix\n",
    "    # pass the actual and predicted target values to the confusion_matrix()\n",
    "    cm = confusion_matrix(y_test, y_pred)\n",
    "\n",
    "    # label the confusion matrix  \n",
    "    # pass the matrix as 'data'\n",
    "    # pass the required column names to the parameter, 'columns'\n",
    "    # pass the required row names to the parameter, 'index'\n",
    "    conf_matrix = pd.DataFrame(data = cm,columns = ['Predicted:0','Predicted:1'], index = ['Actual:0','Actual:1'])\n",
    "\n",
    "    # plot a heatmap to visualize the confusion matrix\n",
    "    # 'annot' prints the value of each grid \n",
    "    # 'fmt = d' returns the integer value in each grid\n",
    "    # 'cmap' assigns color to each grid\n",
    "    # as we do not require different colors for each grid in the heatmap,\n",
    "    # use 'ListedColormap' to assign the specified color to the grid\n",
    "    # 'cbar = False' will not return the color bar to the right side of the heatmap\n",
    "    # 'linewidths' assigns the width to the line that divides each grid\n",
    "    # 'annot_kws = {'size':25})' assigns the font size of the annotated text \n",
    "    sns.heatmap(conf_matrix, annot = True, fmt = 'd', cmap = ListedColormap(['lightskyblue']), cbar = False, \n",
    "                linewidths = 0.1, annot_kws = {'size':25})\n",
    "\n",
    "    # set the font size of x-axis ticks using 'fontsize'\n",
    "    plt.xticks(fontsize = 20)\n",
    "\n",
    "    # set the font size of y-axis ticks using 'fontsize'\n",
    "    plt.yticks(fontsize = 20)\n",
    "\n",
    "    # display the plot\n",
    "    plt.show()"
   ]
  },
  {
   "cell_type": "markdown",
   "id": "fe18f73d",
   "metadata": {
    "id": "mFjaeCsREjXs"
   },
   "source": [
    "#### Plot the ROC curve.\n",
    "\n",
    "ROC curve is plotted with the true positive rate (tpr) on the y-axis and false positive rate (fpr) on the x-axis. The area under this curve is used as a measure of the separability of the model."
   ]
  },
  {
   "cell_type": "code",
   "execution_count": 25,
   "id": "5959cd9e",
   "metadata": {
    "id": "SmUS6hEaEjXt"
   },
   "outputs": [],
   "source": [
    "def plot_roc(model):\n",
    "    y_pred_prob = model.predict_proba(X_test)[:,1]\n",
    "    \n",
    "    # the roc_curve() returns the values for false positive rate, true positive rate and threshold\n",
    "    # pass the actual target values and predicted probabilities to the function\n",
    "    fpr, tpr, thresholds = roc_curve(y_test, y_pred_prob)\n",
    "\n",
    "    # plot the ROC curve\n",
    "    plt.plot(fpr, tpr)\n",
    "\n",
    "    # set limits for x and y axes\n",
    "    plt.xlim([0.0, 1.0])\n",
    "    plt.ylim([0.0, 1.0])\n",
    "\n",
    "    # plot the straight line showing worst prediction for the model\n",
    "    plt.plot([0, 1], [0, 1],'r--')\n",
    "\n",
    "    # add plot and axes labels\n",
    "    # set text size using 'fontsize'\n",
    "    plt.title('ROC curve  Classifier', fontsize = 15)\n",
    "    plt.xlabel('False positive rate (1-Specificity)', fontsize = 15)\n",
    "    plt.ylabel('True positive rate (Sensitivity)', fontsize = 15)\n",
    "\n",
    "    # add the AUC score to the plot\n",
    "    # 'x' and 'y' gives position of the text\n",
    "    # 's' is the text \n",
    "    # use round() to round-off the AUC score upto 4 digits\n",
    "    plt.text(x = 0.82, y = 0.3, s = ('AUC Score:',round(roc_auc_score(y_test, y_pred_prob),4)))\n",
    "\n",
    "    # plot the grid\n",
    "    plt.grid(True)"
   ]
  },
  {
   "cell_type": "markdown",
   "id": "47a7df9b",
   "metadata": {
    "id": "ps8-S3nHEjXu"
   },
   "source": [
    "<a id=\"boosting\"></a>\n",
    "# 3. Boosting Methods"
   ]
  },
  {
   "cell_type": "markdown",
   "id": "8e4ee9eb",
   "metadata": {
    "id": "0w5GvDshEjXv"
   },
   "source": [
    "The Ensemble technique considers multiple models for predicting the results. `Bagging` and `Boosting` are two of the types of ensembles. The bagging methods construct the multiple models in parallel; whereas, the boosting methods construct the models sequentially.\n",
    "\n",
    "Earlier, we have studied one of the bagging (bootstrap aggregating) technique i.e. `Random Forest`."
   ]
  },
  {
   "cell_type": "markdown",
   "id": "43340afe",
   "metadata": {
    "id": "TQ7xVPG3EjXv"
   },
   "source": [
    "The boosting method fits multiple weak classifiers to create a strong classifier. In this method, the model tries to correct the errors in the previous model. In this section, we learn some of the boosting methods such as `AdaBoost`, `Gradient Boosting` and `XGBoost`."
   ]
  },
  {
   "cell_type": "markdown",
   "id": "d72462ea",
   "metadata": {
    "id": "bCrnp_FsEjXw"
   },
   "source": [
    "<a id=\"ada\"></a>\n",
    "## 3.1 AdaBoost"
   ]
  },
  {
   "cell_type": "markdown",
   "id": "8745f5ec",
   "metadata": {
    "id": "fYpiA9nrEjXx"
   },
   "source": [
    "Let us build the AdaBoost classifier with decision trees. The model creates several stumps (decision tree with only a single decision node and two leaf nodes) on the train set and predicts the class based on these weak learners (stumps). For the first model, it assigns equal weights to each sample. It assigns the higher weight for the wrongly predicted samples and lower weight for the correctly predicted samples. This method continues till all the observations are correctly classified or the predefined number of stumps is created."
   ]
  },
  {
   "cell_type": "markdown",
   "id": "bfa48a03",
   "metadata": {
    "id": "SPUfsoiMEjXx"
   },
   "source": [
    "#### Build an Adaboost model on a training dataset."
   ]
  },
  {
   "cell_type": "code",
   "execution_count": 26,
   "id": "0dfdfdb6",
   "metadata": {
    "id": "HaXmrEolEjXy",
    "outputId": "0b3306cc-5294-4208-d2ba-a9202ceb3673",
    "scrolled": false
   },
   "outputs": [
    {
     "data": {
      "text/html": [
       "<style>#sk-container-id-1 {color: black;background-color: white;}#sk-container-id-1 pre{padding: 0;}#sk-container-id-1 div.sk-toggleable {background-color: white;}#sk-container-id-1 label.sk-toggleable__label {cursor: pointer;display: block;width: 100%;margin-bottom: 0;padding: 0.3em;box-sizing: border-box;text-align: center;}#sk-container-id-1 label.sk-toggleable__label-arrow:before {content: \"▸\";float: left;margin-right: 0.25em;color: #696969;}#sk-container-id-1 label.sk-toggleable__label-arrow:hover:before {color: black;}#sk-container-id-1 div.sk-estimator:hover label.sk-toggleable__label-arrow:before {color: black;}#sk-container-id-1 div.sk-toggleable__content {max-height: 0;max-width: 0;overflow: hidden;text-align: left;background-color: #f0f8ff;}#sk-container-id-1 div.sk-toggleable__content pre {margin: 0.2em;color: black;border-radius: 0.25em;background-color: #f0f8ff;}#sk-container-id-1 input.sk-toggleable__control:checked~div.sk-toggleable__content {max-height: 200px;max-width: 100%;overflow: auto;}#sk-container-id-1 input.sk-toggleable__control:checked~label.sk-toggleable__label-arrow:before {content: \"▾\";}#sk-container-id-1 div.sk-estimator input.sk-toggleable__control:checked~label.sk-toggleable__label {background-color: #d4ebff;}#sk-container-id-1 div.sk-label input.sk-toggleable__control:checked~label.sk-toggleable__label {background-color: #d4ebff;}#sk-container-id-1 input.sk-hidden--visually {border: 0;clip: rect(1px 1px 1px 1px);clip: rect(1px, 1px, 1px, 1px);height: 1px;margin: -1px;overflow: hidden;padding: 0;position: absolute;width: 1px;}#sk-container-id-1 div.sk-estimator {font-family: monospace;background-color: #f0f8ff;border: 1px dotted black;border-radius: 0.25em;box-sizing: border-box;margin-bottom: 0.5em;}#sk-container-id-1 div.sk-estimator:hover {background-color: #d4ebff;}#sk-container-id-1 div.sk-parallel-item::after {content: \"\";width: 100%;border-bottom: 1px solid gray;flex-grow: 1;}#sk-container-id-1 div.sk-label:hover label.sk-toggleable__label {background-color: #d4ebff;}#sk-container-id-1 div.sk-serial::before {content: \"\";position: absolute;border-left: 1px solid gray;box-sizing: border-box;top: 0;bottom: 0;left: 50%;z-index: 0;}#sk-container-id-1 div.sk-serial {display: flex;flex-direction: column;align-items: center;background-color: white;padding-right: 0.2em;padding-left: 0.2em;position: relative;}#sk-container-id-1 div.sk-item {position: relative;z-index: 1;}#sk-container-id-1 div.sk-parallel {display: flex;align-items: stretch;justify-content: center;background-color: white;position: relative;}#sk-container-id-1 div.sk-item::before, #sk-container-id-1 div.sk-parallel-item::before {content: \"\";position: absolute;border-left: 1px solid gray;box-sizing: border-box;top: 0;bottom: 0;left: 50%;z-index: -1;}#sk-container-id-1 div.sk-parallel-item {display: flex;flex-direction: column;z-index: 1;position: relative;background-color: white;}#sk-container-id-1 div.sk-parallel-item:first-child::after {align-self: flex-end;width: 50%;}#sk-container-id-1 div.sk-parallel-item:last-child::after {align-self: flex-start;width: 50%;}#sk-container-id-1 div.sk-parallel-item:only-child::after {width: 0;}#sk-container-id-1 div.sk-dashed-wrapped {border: 1px dashed gray;margin: 0 0.4em 0.5em 0.4em;box-sizing: border-box;padding-bottom: 0.4em;background-color: white;}#sk-container-id-1 div.sk-label label {font-family: monospace;font-weight: bold;display: inline-block;line-height: 1.2em;}#sk-container-id-1 div.sk-label-container {text-align: center;}#sk-container-id-1 div.sk-container {/* jupyter's `normalize.less` sets `[hidden] { display: none; }` but bootstrap.min.css set `[hidden] { display: none !important; }` so we also need the `!important` here to be able to override the default hidden behavior on the sphinx rendered scikit-learn.org. See: https://github.com/scikit-learn/scikit-learn/issues/21755 */display: inline-block !important;position: relative;}#sk-container-id-1 div.sk-text-repr-fallback {display: none;}</style><div id=\"sk-container-id-1\" class=\"sk-top-container\"><div class=\"sk-text-repr-fallback\"><pre>AdaBoostClassifier(n_estimators=40, random_state=10)</pre><b>In a Jupyter environment, please rerun this cell to show the HTML representation or trust the notebook. <br />On GitHub, the HTML representation is unable to render, please try loading this page with nbviewer.org.</b></div><div class=\"sk-container\" hidden><div class=\"sk-item\"><div class=\"sk-estimator sk-toggleable\"><input class=\"sk-toggleable__control sk-hidden--visually\" id=\"sk-estimator-id-1\" type=\"checkbox\" checked><label for=\"sk-estimator-id-1\" class=\"sk-toggleable__label sk-toggleable__label-arrow\">AdaBoostClassifier</label><div class=\"sk-toggleable__content\"><pre>AdaBoostClassifier(n_estimators=40, random_state=10)</pre></div></div></div></div></div>"
      ],
      "text/plain": [
       "AdaBoostClassifier(n_estimators=40, random_state=10)"
      ]
     },
     "execution_count": 26,
     "metadata": {},
     "output_type": "execute_result"
    }
   ],
   "source": [
    "# instantiate the 'AdaBoostClassifier'\n",
    "# n_estimators: number of estimators at which boosting is terminated\n",
    "# pass the 'random_state' to obtain the same results for each code implementation\n",
    "ada_model = AdaBoostClassifier(n_estimators = 40, random_state = 10)\n",
    "\n",
    "# fit the model using fit() on train data\n",
    "ada_model.fit(X_train, y_train)"
   ]
  },
  {
   "cell_type": "markdown",
   "id": "0b26dd33",
   "metadata": {
    "id": "CxDANG1aEjXy"
   },
   "source": [
    "Let us understand the parameters in the `AdaBoostClassifier()`:\n",
    "\n",
    "`algorithm=SAMME.R`: It is the default boosting algorithm. This algorithm uses predicted class probabilities to build the stumps.\n",
    "\n",
    "`base_estimator=None`: By default, the estimator is a decision tree with a maximum depth equal to 1 (stump).\n",
    "\n",
    "`learning_rate=1.0`: It considers the contribution of each estimator in the classifier.\n",
    "\n",
    "`n_estimators=40`: It is the number of estimators at which boosting is terminated.\n",
    "\n",
    "`random_state=10`: It returns the same set of samples for each code implementation."
   ]
  },
  {
   "cell_type": "markdown",
   "id": "6d5f110e",
   "metadata": {
    "id": "ogxfyW8oEjXz"
   },
   "source": [
    "#### Plot the confusion matrix."
   ]
  },
  {
   "cell_type": "code",
   "execution_count": 27,
   "id": "769814d2",
   "metadata": {
    "id": "K3lFBP7NEjX0",
    "outputId": "69768bb1-c985-498d-d24e-d4ae3bebae3b"
   },
   "outputs": [
    {
     "data": {
      "image/png": "[encoded data removed]",
      "text/plain": [
       "<Figure size 432x288 with 1 Axes>"
      ]
     },
     "metadata": {
      "needs_background": "light"
     },
     "output_type": "display_data"
    }
   ],
   "source": [
    "# call the function to plot the confusion matrix\n",
    "# pass the AdaBoost model to the function\n",
    "plot_confusion_matrix(ada_model)"
   ]
  },
  {
   "cell_type": "markdown",
   "id": "d5441e61",
   "metadata": {
    "id": "vKBzcRScEjX1"
   },
   "source": [
    "**Calculate performance measures on the test set.**"
   ]
  },
  {
   "cell_type": "code",
   "execution_count": 36,
   "id": "8084e8d2",
   "metadata": {},
   "outputs": [
    {
     "name": "stdout",
     "output_type": "stream",
     "text": [
      "              precision    recall  f1-score   support\n",
      "\n",
      "           0       0.73      0.97      0.83     25448\n",
      "           1       0.56      0.09      0.16     10284\n",
      "\n",
      "    accuracy                           0.72     35732\n",
      "   macro avg       0.64      0.53      0.49     35732\n",
      "weighted avg       0.68      0.72      0.64     35732\n",
      "\n"
     ]
    }
   ],
   "source": [
    "# compute the performance measures on test data\n",
    "# call the function 'get_test_report'\n",
    "# pass the AdaBoost model to the function\n",
    "train_report = get_train_report(ada_model)\n",
    "\n",
    "# print the performance measures\n",
    "print(train_report)"
   ]
  },
  {
   "cell_type": "code",
   "execution_count": 28,
   "id": "af48b88d",
   "metadata": {
    "id": "UP5DA9_qebpC",
    "outputId": "077a50b5-4232-4989-ebb8-b10e8fdf3793",
    "scrolled": false
   },
   "outputs": [
    {
     "name": "stdout",
     "output_type": "stream",
     "text": [
      "              precision    recall  f1-score   support\n",
      "\n",
      "           0       0.72      0.97      0.83     10888\n",
      "           1       0.53      0.09      0.15      4427\n",
      "\n",
      "    accuracy                           0.71     15315\n",
      "   macro avg       0.63      0.53      0.49     15315\n",
      "weighted avg       0.67      0.71      0.63     15315\n",
      "\n"
     ]
    }
   ],
   "source": [
    "# compute the performance measures on test data\n",
    "# call the function 'get_test_report'\n",
    "# pass the AdaBoost model to the function\n",
    "test_report = get_test_report(ada_model)\n",
    "\n",
    "# print the performance measures\n",
    "print(test_report)"
   ]
  },
  {
   "cell_type": "markdown",
   "id": "97e98d35",
   "metadata": {
    "id": "PvkyqsSOEjX2"
   },
   "source": [
    "**Interpretation:** The output shows that the model is 81% accurate."
   ]
  },
  {
   "cell_type": "markdown",
   "id": "a1d75abf",
   "metadata": {
    "id": "ihPy_8TiEjX3"
   },
   "source": [
    "#### Plot the ROC curve."
   ]
  },
  {
   "cell_type": "code",
   "execution_count": 29,
   "id": "5ef02c37",
   "metadata": {
    "id": "RwhuEMIgEjX3",
    "outputId": "1666e3d4-dd9a-40f7-d987-5363468ec481"
   },
   "outputs": [
    {
     "data": {
      "image/png": "[encoded data removed]",
      "text/plain": [
       "<Figure size 432x288 with 1 Axes>"
      ]
     },
     "metadata": {
      "needs_background": "light"
     },
     "output_type": "display_data"
    }
   ],
   "source": [
    "# call the function to plot the ROC curve\n",
    "# pass the AdaBoost model to the function\n",
    "plot_roc(ada_model)"
   ]
  },
  {
   "cell_type": "markdown",
   "id": "4b43cf48",
   "metadata": {
    "id": "1866lj_kEjX4"
   },
   "source": [
    "**Interpretation:** The red dotted line represents the ROC curve of a purely random classifier; a good classifier stays as far away from that line as possible (toward the top-left corner).<br>\n",
    "From the above plot, we can see that the AdaBoost model is away from the dotted line; with the AUC score 0.9132."
   ]
  },
  {
   "cell_type": "markdown",
   "id": "d519ed9f",
   "metadata": {
    "id": "3TmNGHTuEjX4"
   },
   "source": [
    "<a id=\"gradient\"></a>\n",
    "## 3.2 Gradient Boosting"
   ]
  },
  {
   "cell_type": "markdown",
   "id": "87c3701a",
   "metadata": {
    "id": "LoEdcoNEEjX5"
   },
   "source": [
    "This method optimizes the differentiable loss function by building the number of weak learners (decision trees) sequentially. It considers the residuals from the previous model and fits the next model to the residuals. The algorithm uses a gradient descent method to minimize the error."
   ]
  },
  {
   "cell_type": "markdown",
   "id": "4b257864",
   "metadata": {
    "id": "21Eyf6qMEjX5"
   },
   "source": [
    "#### Build a gradient boosting model on a training dataset."
   ]
  },
  {
   "cell_type": "code",
   "execution_count": 30,
   "id": "173e9a20",
   "metadata": {
    "id": "u12S8QvFEjX6",
    "outputId": "12f0fdec-a3e6-4f21-83f6-0316b6bdf7aa",
    "scrolled": true
   },
   "outputs": [
    {
     "data": {
      "text/html": [
       "<style>#sk-container-id-2 {color: black;background-color: white;}#sk-container-id-2 pre{padding: 0;}#sk-container-id-2 div.sk-toggleable {background-color: white;}#sk-container-id-2 label.sk-toggleable__label {cursor: pointer;display: block;width: 100%;margin-bottom: 0;padding: 0.3em;box-sizing: border-box;text-align: center;}#sk-container-id-2 label.sk-toggleable__label-arrow:before {content: \"▸\";float: left;margin-right: 0.25em;color: #696969;}#sk-container-id-2 label.sk-toggleable__label-arrow:hover:before {color: black;}#sk-container-id-2 div.sk-estimator:hover label.sk-toggleable__label-arrow:before {color: black;}#sk-container-id-2 div.sk-toggleable__content {max-height: 0;max-width: 0;overflow: hidden;text-align: left;background-color: #f0f8ff;}#sk-container-id-2 div.sk-toggleable__content pre {margin: 0.2em;color: black;border-radius: 0.25em;background-color: #f0f8ff;}#sk-container-id-2 input.sk-toggleable__control:checked~div.sk-toggleable__content {max-height: 200px;max-width: 100%;overflow: auto;}#sk-container-id-2 input.sk-toggleable__control:checked~label.sk-toggleable__label-arrow:before {content: \"▾\";}#sk-container-id-2 div.sk-estimator input.sk-toggleable__control:checked~label.sk-toggleable__label {background-color: #d4ebff;}#sk-container-id-2 div.sk-label input.sk-toggleable__control:checked~label.sk-toggleable__label {background-color: #d4ebff;}#sk-container-id-2 input.sk-hidden--visually {border: 0;clip: rect(1px 1px 1px 1px);clip: rect(1px, 1px, 1px, 1px);height: 1px;margin: -1px;overflow: hidden;padding: 0;position: absolute;width: 1px;}#sk-container-id-2 div.sk-estimator {font-family: monospace;background-color: #f0f8ff;border: 1px dotted black;border-radius: 0.25em;box-sizing: border-box;margin-bottom: 0.5em;}#sk-container-id-2 div.sk-estimator:hover {background-color: #d4ebff;}#sk-container-id-2 div.sk-parallel-item::after {content: \"\";width: 100%;border-bottom: 1px solid gray;flex-grow: 1;}#sk-container-id-2 div.sk-label:hover label.sk-toggleable__label {background-color: #d4ebff;}#sk-container-id-2 div.sk-serial::before {content: \"\";position: absolute;border-left: 1px solid gray;box-sizing: border-box;top: 0;bottom: 0;left: 50%;z-index: 0;}#sk-container-id-2 div.sk-serial {display: flex;flex-direction: column;align-items: center;background-color: white;padding-right: 0.2em;padding-left: 0.2em;position: relative;}#sk-container-id-2 div.sk-item {position: relative;z-index: 1;}#sk-container-id-2 div.sk-parallel {display: flex;align-items: stretch;justify-content: center;background-color: white;position: relative;}#sk-container-id-2 div.sk-item::before, #sk-container-id-2 div.sk-parallel-item::before {content: \"\";position: absolute;border-left: 1px solid gray;box-sizing: border-box;top: 0;bottom: 0;left: 50%;z-index: -1;}#sk-container-id-2 div.sk-parallel-item {display: flex;flex-direction: column;z-index: 1;position: relative;background-color: white;}#sk-container-id-2 div.sk-parallel-item:first-child::after {align-self: flex-end;width: 50%;}#sk-container-id-2 div.sk-parallel-item:last-child::after {align-self: flex-start;width: 50%;}#sk-container-id-2 div.sk-parallel-item:only-child::after {width: 0;}#sk-container-id-2 div.sk-dashed-wrapped {border: 1px dashed gray;margin: 0 0.4em 0.5em 0.4em;box-sizing: border-box;padding-bottom: 0.4em;background-color: white;}#sk-container-id-2 div.sk-label label {font-family: monospace;font-weight: bold;display: inline-block;line-height: 1.2em;}#sk-container-id-2 div.sk-label-container {text-align: center;}#sk-container-id-2 div.sk-container {/* jupyter's `normalize.less` sets `[hidden] { display: none; }` but bootstrap.min.css set `[hidden] { display: none !important; }` so we also need the `!important` here to be able to override the default hidden behavior on the sphinx rendered scikit-learn.org. See: https://github.com/scikit-learn/scikit-learn/issues/21755 */display: inline-block !important;position: relative;}#sk-container-id-2 div.sk-text-repr-fallback {display: none;}</style><div id=\"sk-container-id-2\" class=\"sk-top-container\"><div class=\"sk-text-repr-fallback\"><pre>GradientBoostingClassifier(max_depth=10, n_estimators=150, random_state=10)</pre><b>In a Jupyter environment, please rerun this cell to show the HTML representation or trust the notebook. <br />On GitHub, the HTML representation is unable to render, please try loading this page with nbviewer.org.</b></div><div class=\"sk-container\" hidden><div class=\"sk-item\"><div class=\"sk-estimator sk-toggleable\"><input class=\"sk-toggleable__control sk-hidden--visually\" id=\"sk-estimator-id-2\" type=\"checkbox\" checked><label for=\"sk-estimator-id-2\" class=\"sk-toggleable__label sk-toggleable__label-arrow\">GradientBoostingClassifier</label><div class=\"sk-toggleable__content\"><pre>GradientBoostingClassifier(max_depth=10, n_estimators=150, random_state=10)</pre></div></div></div></div></div>"
      ],
      "text/plain": [
       "GradientBoostingClassifier(max_depth=10, n_estimators=150, random_state=10)"
      ]
     },
     "execution_count": 30,
     "metadata": {},
     "output_type": "execute_result"
    }
   ],
   "source": [
    "# instantiate the 'GradientBoostingClassifier' \n",
    "# n_estimators: number of estimators to consider\n",
    "# 'max_depth': assigns maximum depth of the tree\n",
    "# pass the 'random_state' to obtain the same results for each code implementation\n",
    "gboost_model = GradientBoostingClassifier(n_estimators = 150, max_depth = 10, random_state = 10)\n",
    "\n",
    "# fit the model using fit() on train data\n",
    "gboost_model.fit(X_train, y_train)"
   ]
  },
  {
   "cell_type": "markdown",
   "id": "3bddbc8e",
   "metadata": {
    "id": "IZ5AeoQeEjX6"
   },
   "source": [
    "Let us understand the parameters in the `GradientBoostingClassifier()`:\n",
    "\n",
    "`ccp_alpha=0.0`: The complexity parameter used for pruning. By default, there is no pruning.\n",
    "\n",
    "`criterion=friedman_mse`: The criteria to measure the quality of a split.\n",
    "\n",
    "`init=None`: The estimator for initial predictions.\n",
    "\n",
    "`learning_rate=0.1`: It considers the contribution of each estimator in the classifier.\n",
    "\n",
    "`loss=deviance`: The loss function to be optimized.\n",
    "\n",
    "`max_depth=10`: Assigns the maximum depth of the tree.\n",
    "\n",
    "`max_features=None`: Maximum features to consider for the split.\n",
    "\n",
    "`max_leaf_nodes=None`: Maximum number of leaf/terminal nodes in the tree.\n",
    "\n",
    "`min_impurity_decrease=0.0`: A node splits if it decreases the impurity by the value given by this parameter. \n",
    "\n",
    "`min_impurity_split=None`: Minimum value of impurity for a node to split.\n",
    "\n",
    "`min_samples_leaf=1`: Minimum number of samples needed at the leaf/terminal node.\n",
    "\n",
    "`min_samples_split=2`: Minimum number of samples needed at the internal node to split. \n",
    "\n",
    "`min_weight_fraction_leaf=0.0`: Minimum weighted fraction needed at a leaf node.\n",
    "\n",
    "`n_estimators=150`: The number of estimators to consider.\n",
    "\n",
    "`n_iter_no_change=None`: Number of iterations after which the training should terminate if the score is not improving.\n",
    "\n",
    "`presort='deprecated'`: It considers whether to presort the data. (This parameter may not be available in the latest versions). \n",
    "\n",
    "`random_state=10`: It returns the same set of samples for each code implementation.\n",
    "\n",
    "`subsample=1.0`: Fraction of samples to use for fitting each estimator.\n",
    "\n",
    "`tol=0.0001`: Value of tolerance to terminate the training.\n",
    "\n",
    "`validation_fraction=0.1`: Fraction of training dataset used for validation.\n",
    "\n",
    "`verbose=0`: Enables verbose output (by default, no progress will be printed).\n",
    "\n",
    "`warm_start=False`: Whether to reuse the solution of previous code implementation (by default, it does not consider the previous solution)."
   ]
  },
  {
   "cell_type": "markdown",
   "id": "ec496ea3",
   "metadata": {
    "id": "5eqSH-LbEjX9"
   },
   "source": [
    "#### Plot the confusion matrix."
   ]
  },
  {
   "cell_type": "code",
   "execution_count": 31,
   "id": "4eb79fcf",
   "metadata": {
    "id": "BG3WHov9EjX9",
    "outputId": "de79eee8-4377-4b9b-88b0-2355e8c5be77",
    "scrolled": false
   },
   "outputs": [
    {
     "data": {
      "image/png": "[encoded data removed]",
      "text/plain": [
       "<Figure size 432x288 with 1 Axes>"
      ]
     },
     "metadata": {
      "needs_background": "light"
     },
     "output_type": "display_data"
    }
   ],
   "source": [
    "# call the function to plot the confusion matrix\n",
    "# pass the gradient boosting model to the function\n",
    "plot_confusion_matrix(gboost_model)"
   ]
  },
  {
   "cell_type": "markdown",
   "id": "dd84f48b",
   "metadata": {
    "id": "GGe93oJsEjX_"
   },
   "source": [
    "**Calculate performance measures on the test set.**"
   ]
  },
  {
   "cell_type": "code",
   "execution_count": 37,
   "id": "46cb1d9b",
   "metadata": {},
   "outputs": [
    {
     "name": "stdout",
     "output_type": "stream",
     "text": [
      "              precision    recall  f1-score   support\n",
      "\n",
      "           0       0.97      1.00      0.99     25448\n",
      "           1       1.00      0.93      0.96     10284\n",
      "\n",
      "    accuracy                           0.98     35732\n",
      "   macro avg       0.99      0.96      0.97     35732\n",
      "weighted avg       0.98      0.98      0.98     35732\n",
      "\n"
     ]
    }
   ],
   "source": [
    "# compute the performance measures on test data\n",
    "# call the function 'get_test_report'\n",
    "# pass the gradient boosting model to the function\n",
    "train_report = get_train_report(gboost_model)\n",
    "\n",
    "# print the performance measures\n",
    "print(train_report)"
   ]
  },
  {
   "cell_type": "code",
   "execution_count": 32,
   "id": "c3c2a3f0",
   "metadata": {
    "id": "m8bj1jjGEjYA",
    "outputId": "5f6322ca-856b-490c-f1f7-e9e5658959fe",
    "scrolled": true
   },
   "outputs": [
    {
     "name": "stdout",
     "output_type": "stream",
     "text": [
      "              precision    recall  f1-score   support\n",
      "\n",
      "           0       0.74      0.93      0.82     10888\n",
      "           1       0.50      0.18      0.27      4427\n",
      "\n",
      "    accuracy                           0.71     15315\n",
      "   macro avg       0.62      0.55      0.54     15315\n",
      "weighted avg       0.67      0.71      0.66     15315\n",
      "\n"
     ]
    }
   ],
   "source": [
    "# compute the performance measures on test data\n",
    "# call the function 'get_test_report'\n",
    "# pass the gradient boosting model to the function\n",
    "test_report = get_test_report(gboost_model)\n",
    "\n",
    "# print the performance measures\n",
    "print(test_report)"
   ]
  },
  {
   "cell_type": "markdown",
   "id": "6013bd4f",
   "metadata": {
    "id": "jeaRKWK6EjYB"
   },
   "source": [
    "**Interpretation:** The classification report shows that the model is 79% accurate. Also, the sensitivity and specificity are equal."
   ]
  },
  {
   "cell_type": "markdown",
   "id": "831afe77",
   "metadata": {
    "id": "0oIJtLSTEjYB"
   },
   "source": [
    "#### Plot the ROC curve."
   ]
  },
  {
   "cell_type": "code",
   "execution_count": 33,
   "id": "07cb7caf",
   "metadata": {
    "id": "1mdDzyxiEjYS",
    "outputId": "52d8e48e-4ce5-432a-a5b6-4886aece8ca1"
   },
   "outputs": [
    {
     "data": {
      "image/png": "[encoded data removed]",
      "text/plain": [
       "<Figure size 432x288 with 1 Axes>"
      ]
     },
     "metadata": {
      "needs_background": "light"
     },
     "output_type": "display_data"
    }
   ],
   "source": [
    "# call the function to plot the ROC curve\n",
    "# pass the gradient boosting model to the function\n",
    "plot_roc(gboost_model)"
   ]
  },
  {
   "cell_type": "markdown",
   "id": "6d006e8b",
   "metadata": {
    "id": "D-1oiMxTEjYT"
   },
   "source": [
    "**Interpretation:** The red dotted line represents the ROC curve of a purely random classifier; a good classifier stays as far away from that line as possible (toward the top-left corner).<br>\n",
    "From the above plot, we can see that the gradient boosting model is away from the dotted line; with the AUC score 0.8954."
   ]
  },
  {
   "cell_type": "markdown",
   "id": "e548307c",
   "metadata": {
    "id": "giHp6AqqEjYT"
   },
   "source": [
    "<a id=\"xgboost\"></a>\n",
    "## 3.3 XGBoost "
   ]
  },
  {
   "cell_type": "markdown",
   "id": "f701e5fe",
   "metadata": {
    "id": "eDfp2m8ZEjYU"
   },
   "source": [
    "XGBoost (extreme gradient boost) is an alternative form of gradient boosting method. This method generally considers the initial prediction as 0.5 and build the decision tree to predict the residuals. It considers the regularization parameter to avoid overfitting."
   ]
  },
  {
   "cell_type": "markdown",
   "id": "0c39a7e6",
   "metadata": {
    "id": "poALKGW-EjYV"
   },
   "source": [
    "#### Build an XGBoost model on a training dataset."
   ]
  },
  {
   "cell_type": "code",
   "execution_count": 56,
   "id": "34b2243a",
   "metadata": {
    "id": "L5X2IiSREjYV",
    "outputId": "eb553f44-7c23-4bee-b377-e4ed45d0277c"
   },
   "outputs": [
    {
     "data": {
      "text/html": [
       "<style>#sk-container-id-5 {color: black;background-color: white;}#sk-container-id-5 pre{padding: 0;}#sk-container-id-5 div.sk-toggleable {background-color: white;}#sk-container-id-5 label.sk-toggleable__label {cursor: pointer;display: block;width: 100%;margin-bottom: 0;padding: 0.3em;box-sizing: border-box;text-align: center;}#sk-container-id-5 label.sk-toggleable__label-arrow:before {content: \"▸\";float: left;margin-right: 0.25em;color: #696969;}#sk-container-id-5 label.sk-toggleable__label-arrow:hover:before {color: black;}#sk-container-id-5 div.sk-estimator:hover label.sk-toggleable__label-arrow:before {color: black;}#sk-container-id-5 div.sk-toggleable__content {max-height: 0;max-width: 0;overflow: hidden;text-align: left;background-color: #f0f8ff;}#sk-container-id-5 div.sk-toggleable__content pre {margin: 0.2em;color: black;border-radius: 0.25em;background-color: #f0f8ff;}#sk-container-id-5 input.sk-toggleable__control:checked~div.sk-toggleable__content {max-height: 200px;max-width: 100%;overflow: auto;}#sk-container-id-5 input.sk-toggleable__control:checked~label.sk-toggleable__label-arrow:before {content: \"▾\";}#sk-container-id-5 div.sk-estimator input.sk-toggleable__control:checked~label.sk-toggleable__label {background-color: #d4ebff;}#sk-container-id-5 div.sk-label input.sk-toggleable__control:checked~label.sk-toggleable__label {background-color: #d4ebff;}#sk-container-id-5 input.sk-hidden--visually {border: 0;clip: rect(1px 1px 1px 1px);clip: rect(1px, 1px, 1px, 1px);height: 1px;margin: -1px;overflow: hidden;padding: 0;position: absolute;width: 1px;}#sk-container-id-5 div.sk-estimator {font-family: monospace;background-color: #f0f8ff;border: 1px dotted black;border-radius: 0.25em;box-sizing: border-box;margin-bottom: 0.5em;}#sk-container-id-5 div.sk-estimator:hover {background-color: #d4ebff;}#sk-container-id-5 div.sk-parallel-item::after {content: \"\";width: 100%;border-bottom: 1px solid gray;flex-grow: 1;}#sk-container-id-5 div.sk-label:hover label.sk-toggleable__label {background-color: #d4ebff;}#sk-container-id-5 div.sk-serial::before {content: \"\";position: absolute;border-left: 1px solid gray;box-sizing: border-box;top: 0;bottom: 0;left: 50%;z-index: 0;}#sk-container-id-5 div.sk-serial {display: flex;flex-direction: column;align-items: center;background-color: white;padding-right: 0.2em;padding-left: 0.2em;position: relative;}#sk-container-id-5 div.sk-item {position: relative;z-index: 1;}#sk-container-id-5 div.sk-parallel {display: flex;align-items: stretch;justify-content: center;background-color: white;position: relative;}#sk-container-id-5 div.sk-item::before, #sk-container-id-5 div.sk-parallel-item::before {content: \"\";position: absolute;border-left: 1px solid gray;box-sizing: border-box;top: 0;bottom: 0;left: 50%;z-index: -1;}#sk-container-id-5 div.sk-parallel-item {display: flex;flex-direction: column;z-index: 1;position: relative;background-color: white;}#sk-container-id-5 div.sk-parallel-item:first-child::after {align-self: flex-end;width: 50%;}#sk-container-id-5 div.sk-parallel-item:last-child::after {align-self: flex-start;width: 50%;}#sk-container-id-5 div.sk-parallel-item:only-child::after {width: 0;}#sk-container-id-5 div.sk-dashed-wrapped {border: 1px dashed gray;margin: 0 0.4em 0.5em 0.4em;box-sizing: border-box;padding-bottom: 0.4em;background-color: white;}#sk-container-id-5 div.sk-label label {font-family: monospace;font-weight: bold;display: inline-block;line-height: 1.2em;}#sk-container-id-5 div.sk-label-container {text-align: center;}#sk-container-id-5 div.sk-container {/* jupyter's `normalize.less` sets `[hidden] { display: none; }` but bootstrap.min.css set `[hidden] { display: none !important; }` so we also need the `!important` here to be able to override the default hidden behavior on the sphinx rendered scikit-learn.org. See: https://github.com/scikit-learn/scikit-learn/issues/21755 */display: inline-block !important;position: relative;}#sk-container-id-5 div.sk-text-repr-fallback {display: none;}</style><div id=\"sk-container-id-5\" class=\"sk-top-container\"><div class=\"sk-text-repr-fallback\"><pre>XGBClassifier(base_score=0.5, booster=&#x27;gbtree&#x27;, callbacks=None,\n",
       "              colsample_bylevel=1, colsample_bynode=1, colsample_bytree=1,\n",
       "              early_stopping_rounds=None, enable_categorical=False,\n",
       "              eval_metric=None, gamma=1, gpu_id=-1, grow_policy=&#x27;depthwise&#x27;,\n",
       "              importance_type=None, interaction_constraints=&#x27;&#x27;,\n",
       "              learning_rate=0.300000012, max_bin=256, max_cat_to_onehot=4,\n",
       "              max_delta_step=0, max_depth=10, max_leaves=0, min_child_weight=1,\n",
       "              missing=nan, monotone_constraints=&#x27;()&#x27;, n_estimators=100,\n",
       "              n_jobs=0, num_parallel_tree=1, predictor=&#x27;auto&#x27;, random_state=0,\n",
       "              reg_alpha=0, reg_lambda=1, ...)</pre><b>In a Jupyter environment, please rerun this cell to show the HTML representation or trust the notebook. <br />On GitHub, the HTML representation is unable to render, please try loading this page with nbviewer.org.</b></div><div class=\"sk-container\" hidden><div class=\"sk-item\"><div class=\"sk-estimator sk-toggleable\"><input class=\"sk-toggleable__control sk-hidden--visually\" id=\"sk-estimator-id-5\" type=\"checkbox\" checked><label for=\"sk-estimator-id-5\" class=\"sk-toggleable__label sk-toggleable__label-arrow\">XGBClassifier</label><div class=\"sk-toggleable__content\"><pre>XGBClassifier(base_score=0.5, booster=&#x27;gbtree&#x27;, callbacks=None,\n",
       "              colsample_bylevel=1, colsample_bynode=1, colsample_bytree=1,\n",
       "              early_stopping_rounds=None, enable_categorical=False,\n",
       "              eval_metric=None, gamma=1, gpu_id=-1, grow_policy=&#x27;depthwise&#x27;,\n",
       "              importance_type=None, interaction_constraints=&#x27;&#x27;,\n",
       "              learning_rate=0.300000012, max_bin=256, max_cat_to_onehot=4,\n",
       "              max_delta_step=0, max_depth=10, max_leaves=0, min_child_weight=1,\n",
       "              missing=nan, monotone_constraints=&#x27;()&#x27;, n_estimators=100,\n",
       "              n_jobs=0, num_parallel_tree=1, predictor=&#x27;auto&#x27;, random_state=0,\n",
       "              reg_alpha=0, reg_lambda=1, ...)</pre></div></div></div></div></div>"
      ],
      "text/plain": [
       "XGBClassifier(base_score=0.5, booster='gbtree', callbacks=None,\n",
       "              colsample_bylevel=1, colsample_bynode=1, colsample_bytree=1,\n",
       "              early_stopping_rounds=None, enable_categorical=False,\n",
       "              eval_metric=None, gamma=1, gpu_id=-1, grow_policy='depthwise',\n",
       "              importance_type=None, interaction_constraints='',\n",
       "              learning_rate=0.300000012, max_bin=256, max_cat_to_onehot=4,\n",
       "              max_delta_step=0, max_depth=10, max_leaves=0, min_child_weight=1,\n",
       "              missing=nan, monotone_constraints='()', n_estimators=100,\n",
       "              n_jobs=0, num_parallel_tree=1, predictor='auto', random_state=0,\n",
       "              reg_alpha=0, reg_lambda=1, ...)"
      ]
     },
     "execution_count": 56,
     "metadata": {},
     "output_type": "execute_result"
    }
   ],
   "source": [
    "# instantiate the 'XGBClassifier'\n",
    "# set the maximum depth of the tree using the parameter, 'max_depth'\n",
    "# pass the value of minimum loss reduction required for partition of the leaf node to the parameter, 'gamma'\n",
    "xgb_model = XGBClassifier(max_depth = 10, gamma = 1)\n",
    "\n",
    "# fit the model using fit() on train data\n",
    "xgb_model.fit(X_train, y_train)"
   ]
  },
  {
   "cell_type": "markdown",
   "id": "bf3d5995",
   "metadata": {
    "id": "9lasb87QEjYW"
   },
   "source": [
    "Let us understand the parameters in the `XGBClassifier()`:\n",
    "\n",
    "`base_score=0.5`: Initial prediction for base learners.\n",
    "\n",
    "`booster=gbtree`: Considers the regression tree as the base learners.\n",
    "\n",
    "`colsample_bylevel=1`: Fraction of variables to consider for each level.\n",
    "\n",
    "`colsample_bynode=1`: Fraction of variables to consider for each split.\n",
    "\n",
    "`colsample_bytree=1`: Fraction of variables to consider for each tree.\n",
    "\n",
    "`gamma=1`: Value of minimum loss reduction required for the partition of the leaf node.\n",
    "\n",
    "`gpu_id=-1`: It considers all the GPU's. \n",
    "\n",
    "`importance_type=gain`: Importance type for calculating feature importance.\n",
    "\n",
    "`interaction_constraints=''`: By default, no interaction between the features is allowed.\n",
    "\n",
    "`learning_rate=0.300000012`: It considers the contribution of each estimator in the classifier.\n",
    "\n",
    "`max_delta_step=0`: Maximum delta step allowed for each tree's weight estimation to be.\n",
    "\n",
    "`max_depth=10`: Maximum depth of each tree.\n",
    "\n",
    "`min_child_weight=1`: Minimum sum of hessian (p*(1-p)) required in a leaf node.\n",
    "\n",
    "`missing=nan`: Value to consider as a missing value.\n",
    "\n",
    "`monotone_constraints='()'`:  Constraint of variable monotonicity. (adding increasing/decreasing constraint on the variables )\n",
    "\n",
    "`n_estimators=100`: The number of estimators to consider.\n",
    "\n",
    "`n_jobs=0`: Number of parallel threads to run the classifier.\n",
    "\n",
    "`num_parallel_tree=1`: It is used for boosting random forest.\n",
    "\n",
    "`objective='binary:logistic'`: Considers the binary logistic regression as a learning objective.\n",
    "\n",
    "`random_state=0`: It returns the same set of samples for each code implementation.\n",
    "\n",
    "`reg_alpha=0`: Lasso regularization term for weights.\n",
    "\n",
    "`reg_lambda=1`: Ridge regularization term for weights.\n",
    "\n",
    "`scale_pos_weight=1`:  Ratio of the number of negative class to the positive class.\n",
    "\n",
    "`subsample=1`: Fraction of total training data points.\n",
    "\n",
    "`tree_method='exact'`: Considers the exact greedy algorithm.\n",
    "\n",
    "`validate_parameters=1`: Performs validation on input paramerters.\n",
    "\n",
    "`verbosity=None`: Enables verbose output (by default, no progress will be printed)."
   ]
  },
  {
   "cell_type": "markdown",
   "id": "1838d74a",
   "metadata": {
    "id": "2TJ9dAWAEjYX"
   },
   "source": [
    "#### Plot the confusion matrix."
   ]
  },
  {
   "cell_type": "code",
   "execution_count": 57,
   "id": "7ff735eb",
   "metadata": {
    "id": "euxOd3ZBEjYY",
    "outputId": "79385066-c94f-4ac2-9aae-e960bdf7ac5a"
   },
   "outputs": [
    {
     "data": {
      "image/png": "[encoded data removed]",
      "text/plain": [
       "<Figure size 432x288 with 1 Axes>"
      ]
     },
     "metadata": {
      "needs_background": "light"
     },
     "output_type": "display_data"
    }
   ],
   "source": [
    "# call the function to plot the confusion matrix\n",
    "# pass the XGBoost model to the function\n",
    "plot_confusion_matrix(xgb_model)"
   ]
  },
  {
   "cell_type": "markdown",
   "id": "9a5a8fe0",
   "metadata": {
    "id": "dROop0wZEjYZ"
   },
   "source": [
    "**Calculate performance measures on the test set.**"
   ]
  },
  {
   "cell_type": "code",
   "execution_count": 58,
   "id": "27c6c476",
   "metadata": {},
   "outputs": [
    {
     "name": "stdout",
     "output_type": "stream",
     "text": [
      "              precision    recall  f1-score   support\n",
      "\n",
      "           0       0.99      1.00      0.99     25448\n",
      "           1       1.00      0.97      0.98     10284\n",
      "\n",
      "    accuracy                           0.99     35732\n",
      "   macro avg       0.99      0.99      0.99     35732\n",
      "weighted avg       0.99      0.99      0.99     35732\n",
      "\n"
     ]
    }
   ],
   "source": [
    "# compute the performance measures on test data\n",
    "# call the function 'get_test_report'\n",
    "# pass the gradient boosting model to the function\n",
    "train_report = get_train_report(xgb_model)\n",
    "\n",
    "# print the performance measures\n",
    "print(train_report)"
   ]
  },
  {
   "cell_type": "code",
   "execution_count": 59,
   "id": "10d19f71",
   "metadata": {
    "id": "nBTHEQFvEjYZ",
    "outputId": "ba6456c5-64a8-4a83-c792-da579d499793",
    "scrolled": false
   },
   "outputs": [
    {
     "name": "stdout",
     "output_type": "stream",
     "text": [
      "              precision    recall  f1-score   support\n",
      "\n",
      "           0       0.74      0.89      0.81     10888\n",
      "           1       0.48      0.24      0.32      4427\n",
      "\n",
      "    accuracy                           0.70     15315\n",
      "   macro avg       0.61      0.57      0.56     15315\n",
      "weighted avg       0.67      0.70      0.67     15315\n",
      "\n"
     ]
    }
   ],
   "source": [
    "# compute the performance measures on test data\n",
    "# call the function 'get_test_report'\n",
    "# pass the XGBoost model to the function\n",
    "test_report = get_test_report(xgb_model)\n",
    "\n",
    "# print the performance measures\n",
    "print(test_report)"
   ]
  },
  {
   "cell_type": "code",
   "execution_count": 60,
   "id": "30f45fdb",
   "metadata": {},
   "outputs": [
    {
     "data": {
      "text/plain": [
       "0.9911563864323296"
      ]
     },
     "execution_count": 60,
     "metadata": {},
     "output_type": "execute_result"
    }
   ],
   "source": [
    "xgb_model.score(X_train,y_train)"
   ]
  },
  {
   "cell_type": "markdown",
   "id": "eb0dafd8",
   "metadata": {
    "id": "LAPklWI3EjYa"
   },
   "source": [
    "**Interpretation:** The above output shows that the f1-score and accuracy of the model is 0.84"
   ]
  },
  {
   "cell_type": "markdown",
   "id": "5091b4d7",
   "metadata": {
    "id": "OzEBM612EjYa"
   },
   "source": [
    "#### Plot the ROC curve."
   ]
  },
  {
   "cell_type": "code",
   "execution_count": 44,
   "id": "f61617db",
   "metadata": {
    "id": "IpYc7RjQEjYb",
    "outputId": "1d5667a6-4a1f-41a1-8437-a879e66d0e63",
    "scrolled": false
   },
   "outputs": [
    {
     "data": {
      "image/png": "[encoded data removed]",
      "text/plain": [
       "<Figure size 432x288 with 1 Axes>"
      ]
     },
     "metadata": {
      "needs_background": "light"
     },
     "output_type": "display_data"
    }
   ],
   "source": [
    "# call the function to plot the ROC curve\n",
    "# pass the XGBoost model to the function\n",
    "plot_roc(xgb_model)"
   ]
  },
  {
   "cell_type": "markdown",
   "id": "42fc575a",
   "metadata": {
    "id": "Fkt0CFZUEjYb"
   },
   "source": [
    "**Interpretation:** The red dotted line represents the ROC curve of a purely random classifier; a good classifier stays as far away from that line as possible (toward the top-left corner).<br>\n",
    "From the above plot, we can see that the XGBoost model is away from the dotted line; with the AUC score 0.8888."
   ]
  },
  {
   "cell_type": "markdown",
   "id": "04701f82",
   "metadata": {},
   "source": [
    "### Light Gradient Boosting Machine"
   ]
  },
  {
   "cell_type": "code",
   "execution_count": 45,
   "id": "d203be79",
   "metadata": {},
   "outputs": [],
   "source": [
    "import lightgbm as lgb\n",
    "from lightgbm import LGBMClassifier"
   ]
  },
  {
   "cell_type": "code",
   "execution_count": 48,
   "id": "8fae8d99",
   "metadata": {},
   "outputs": [
    {
     "name": "stdout",
     "output_type": "stream",
     "text": [
      "[1 1 0 ... 0 0 1]\n",
      "0.6234410708455762\n"
     ]
    }
   ],
   "source": [
    "\n",
    "lgb = LGBMClassifier(class_weight='balanced')\n",
    "lgbm_model=lgb.fit(X_train, y_train)\n",
    " \n",
    "# Predicting the Target variable\n",
    "pred = lgbm_model.predict(X_test)\n",
    "print(pred)\n",
    "accuracy = lgbm_model.score(X_test, y_test)\n",
    "print(accuracy)"
   ]
  },
  {
   "cell_type": "code",
   "execution_count": 49,
   "id": "d5aaa0ed",
   "metadata": {},
   "outputs": [
    {
     "data": {
      "image/png": "[encoded data removed]",
      "text/plain": [
       "<Figure size 432x288 with 1 Axes>"
      ]
     },
     "metadata": {
      "needs_background": "light"
     },
     "output_type": "display_data"
    }
   ],
   "source": [
    "y_pred=lgbm_model.predict(X_test)\n",
    "\n",
    "cm = confusion_matrix(y_test, y_pred)\n",
    "\n",
    "conf_matrix = pd.DataFrame(data = cm,columns = ['Predicted:0','Predicted:1'], index = ['Actual:0','Actual:1'])\n",
    "\n",
    "sns.heatmap(conf_matrix, annot = True, fmt = 'd', cmap = ListedColormap(['lightskyblue']), cbar = False, \n",
    "            linewidths = 0.1, annot_kws = {'size':25})\n",
    "\n",
    "plt.xticks(fontsize = 20)\n",
    "plt.yticks(fontsize = 20)\n",
    "\n",
    "# display the plot\n",
    "plt.show()"
   ]
  },
  {
   "cell_type": "code",
   "execution_count": 50,
   "id": "9072c5b1",
   "metadata": {},
   "outputs": [
    {
     "data": {
      "text/plain": [
       "0.7073491548192097"
      ]
     },
     "execution_count": 50,
     "metadata": {},
     "output_type": "execute_result"
    }
   ],
   "source": [
    "lgbm_model.score(X_train,y_train)"
   ]
  },
  {
   "cell_type": "code",
   "execution_count": 51,
   "id": "ee4e448a",
   "metadata": {},
   "outputs": [
    {
     "data": {
      "text/plain": [
       "0.6234410708455762"
      ]
     },
     "execution_count": 51,
     "metadata": {},
     "output_type": "execute_result"
    }
   ],
   "source": [
    "lgbm_model.score(X_test,y_test)"
   ]
  },
  {
   "cell_type": "code",
   "execution_count": null,
   "id": "b8df0a41",
   "metadata": {},
   "outputs": [],
   "source": []
  },
  {
   "cell_type": "markdown",
   "id": "83c256ac",
   "metadata": {
    "id": "xO9Tsuw_EjYc"
   },
   "source": [
    "<a id=\"tune\"></a>\n",
    "### 3.3.1 Tune the Hyperparameters (GridSearchCV)"
   ]
  },
  {
   "cell_type": "markdown",
   "id": "b5b51e62",
   "metadata": {
    "id": "CBrqKsRxEjYc"
   },
   "source": [
    "Let us tune the hyperparameters to obtain the optimal values for the XGBoost model."
   ]
  },
  {
   "cell_type": "code",
   "execution_count": null,
   "id": "32c2602c",
   "metadata": {
    "id": "X9XEx3x_EjYd",
    "outputId": "c37ee8b5-d107-4941-f92a-0b402bf90623"
   },
   "outputs": [],
   "source": [
    "%%time\n",
    "# create a dictionary with hyperparameters and its values\n",
    "# learning_rate: pass the list of boosting learning rates\n",
    "# max_depth: pass the range of values as the maximum tree depth for base learners\n",
    "# gamma: pass the list of minimum loss reduction values required to make a further partition on a leaf node of the tree\n",
    "tuning_parameters = {'learning_rate': [0.1, 0.2, 0.3, 0.4, 0.5, 0.6],\n",
    "                     'max_depth': range(3,10),\n",
    "                     'min_child_weight':range(1,5),\n",
    "                     \n",
    "                     'gamma': [0, 1, 2, 3, 4],\n",
    "                    'tree_method':['gpu_hist','hist'],\n",
    "                     'subsample':[0.25,0.5,1],\n",
    "                     'colsample_bytree':[0.25,0.5,1]\n",
    "                    }\n",
    "\n",
    "\n",
    "# instantiate the 'XGBClassifier' \n",
    "xgb_model = XGBClassifier()\n",
    "\n",
    "# use GridSearchCV() to find the optimal value of the hyperparameters\n",
    "# estimator: pass the XGBoost classifier model\n",
    "# param_grid: pass the list 'tuned_parameters'\n",
    "# cv: number of folds in k-fold i.e. here cv = 3\n",
    "# scoring: pass a measure to evaluate the model on test set\n",
    "xgb_grid = GridSearchCV(estimator = xgb_model, param_grid = tuning_parameters, cv = 5, scoring = 'roc_auc')\n",
    "\n",
    "# fit the model on X_train and y_train using fit()\n",
    "xgb_grid.fit(X_train, y_train)\n",
    "\n",
    "# get the best parameters\n",
    "print('Best parameters for XGBoost classifier: ', xgb_grid.best_params_, '\\n')"
   ]
  },
  {
   "cell_type": "raw",
   "id": "88f95bad",
   "metadata": {},
   "source": [
    "## Best parameters for XGBoost classifier: \n",
    "colsample_bytree= 1, gamma= 1, learning_rate= 0.2, \n",
    "                                 max_depth=4, min_child_weight= 4, subsample= 1, tree_method= 'hist'"
   ]
  },
  {
   "cell_type": "markdown",
   "id": "8636ac0b",
   "metadata": {
    "id": "YKCd0I6TEjYe"
   },
   "source": [
    "#### Build the model using the tuned hyperparameters."
   ]
  },
  {
   "cell_type": "code",
   "execution_count": 49,
   "id": "9cf1a1b2",
   "metadata": {
    "id": "eXAmTGFoEjYe",
    "outputId": "b76c6d77-0d68-4854-de92-df828368cf10"
   },
   "outputs": [
    {
     "name": "stdout",
     "output_type": "stream",
     "text": [
      "Classification Report for test set:\n",
      "               precision    recall  f1-score   support\n",
      "\n",
      "           0       0.73      0.96      0.83     10888\n",
      "           1       0.58      0.14      0.23      4427\n",
      "\n",
      "    accuracy                           0.72     15315\n",
      "   macro avg       0.66      0.55      0.53     15315\n",
      "weighted avg       0.69      0.72      0.66     15315\n",
      "\n"
     ]
    }
   ],
   "source": [
    "#learning_rate = xgb_grid.best_params_.get('learning_rate'),\n",
    "                              # max_depth = xgb_grid.best_params_.get('max_depth'),\n",
    "                              #gamma = xgb_grid.best_params_.get('gamma'),\n",
    "                              #tree_method=xgb_grid.best_params_.get('tree_method'),\n",
    "                              #subsample=xgb_grid.best_params_.get('subsample'),\n",
    "                              #colsample_bytree=xgb_grid.best_params_.get('colsample_bytree')\n",
    "\n",
    "# instantiate the 'XGBClassifier'\n",
    "# 'best_params_' returns the dictionary containing best parameter values and parameter name  \n",
    "# 'get()' returns the value of specified parameter\n",
    "xgb_grid_model = XGBClassifier( colsample_bytree= 1, gamma= 1, learning_rate= 0.2, \n",
    "                                 max_depth=4, min_child_weight= 4, subsample= 1, tree_method= 'hist' )\n",
    "\n",
    "\n",
    "\n",
    "# use fit() to fit the model on the train set\n",
    "xgb_model = xgb_grid_model.fit(X_train, y_train)\n",
    "\n",
    "# print the performance measures for test set for the model with best parameters\n",
    "print('Classification Report for test set:\\n', get_test_report(xgb_model))"
   ]
  },
  {
   "cell_type": "code",
   "execution_count": 50,
   "id": "68b70f5e",
   "metadata": {},
   "outputs": [
    {
     "data": {
      "text/plain": [
       "0.13934169931277654"
      ]
     },
     "execution_count": 50,
     "metadata": {},
     "output_type": "execute_result"
    }
   ],
   "source": [
    "from sklearn.metrics import confusion_matrix\n",
    "from sklearn.model_selection import cross_val_score\n",
    "scores=cross_val_score(xgb_model,X_train,y_train,scoring='recall')\n",
    "np.mean(scores)"
   ]
  },
  {
   "cell_type": "code",
   "execution_count": 51,
   "id": "57b78b19",
   "metadata": {},
   "outputs": [
    {
     "data": {
      "image/png": "[encoded data removed]",
      "text/plain": [
       "<Figure size 432x288 with 1 Axes>"
      ]
     },
     "metadata": {
      "needs_background": "light"
     },
     "output_type": "display_data"
    }
   ],
   "source": [
    "y_pred=xgb_model.predict(X_test)\n",
    "\n",
    "cm = confusion_matrix(y_test, y_pred)\n",
    "\n",
    "conf_matrix = pd.DataFrame(data = cm,columns = ['Predicted:0','Predicted:1'], index = ['Actual:0','Actual:1'])\n",
    "\n",
    "sns.heatmap(conf_matrix, annot = True, fmt = 'd', cmap = ListedColormap(['lightskyblue']), cbar = False, \n",
    "            linewidths = 0.1, annot_kws = {'size':25})\n",
    "\n",
    "plt.xticks(fontsize = 20)\n",
    "plt.yticks(fontsize = 20)\n",
    "\n",
    "# display the plot\n",
    "plt.show()"
   ]
  },
  {
   "cell_type": "code",
   "execution_count": 52,
   "id": "bf0a4d8f",
   "metadata": {},
   "outputs": [
    {
     "data": {
      "text/plain": [
       "0.7478730549647374"
      ]
     },
     "execution_count": 52,
     "metadata": {},
     "output_type": "execute_result"
    }
   ],
   "source": [
    "xgb_model.score(X_train,y_train)"
   ]
  },
  {
   "cell_type": "code",
   "execution_count": 53,
   "id": "6dd0b222",
   "metadata": {},
   "outputs": [
    {
     "data": {
      "text/plain": [
       "0.7226248775710088"
      ]
     },
     "execution_count": 53,
     "metadata": {},
     "output_type": "execute_result"
    }
   ],
   "source": [
    "xgb_model.score(X_test,y_test)"
   ]
  },
  {
   "cell_type": "markdown",
   "id": "a847a94c",
   "metadata": {
    "id": "IMOOPtaMEjYh"
   },
   "source": [
    "### Identify the Important Features using XGBoost"
   ]
  },
  {
   "cell_type": "markdown",
   "id": "62eb3560",
   "metadata": {
    "id": "cSrqBDLWEjYi"
   },
   "source": [
    "Let us create a barplot to identify the important feature in the dataset.\n",
    "\n",
    "The method `feature_importances_` returns the value corresponding to each feature which is defined as the ratio of the average gain across all the splits in which the feature is used to the total average gain of all the features.\n",
    "\n",
    "There are different methods like `weight`, `cover`, `total_gain` and `total_cover` which returns the feature importance based on different criteria.\n",
    "\n",
    "`weight`: It is the frequency of a feature used to split the data in all the trees.\n",
    "\n",
    "`cover`: It is the average cover value of a feature for all the splits.\n",
    "\n",
    "`total_gain`: It is the sum of gain of a feature for all the splits.\n",
    "\n",
    "`total_cover`: It is the sum of a cover of a feature for all the splits."
   ]
  },
  {
   "cell_type": "code",
   "execution_count": 57,
   "id": "385a0d2a",
   "metadata": {
    "id": "vIiNiecDEjYi",
    "outputId": "de1fc288-ec06-4b1f-9a93-e178806f2f19",
    "scrolled": false
   },
   "outputs": [
    {
     "data": {
      "image/png": "[encoded data removed]",
      "text/plain": [
       "<Figure size 432x288 with 1 Axes>"
      ]
     },
     "metadata": {
      "needs_background": "light"
     },
     "output_type": "display_data"
    }
   ],
   "source": [
    "# create a dataframe that stores the feature names and their importance\n",
    "# 'feature_importances_' returns the features based on the average gain \n",
    "important_features = pd.DataFrame({'Features': X_train.columns, \n",
    "                                   'Importance': xgb_model.feature_importances_})\n",
    "\n",
    "# sort the dataframe in the descending order according to the feature importance\n",
    "important_features = important_features.sort_values('Importance', ascending = False)\n",
    "\n",
    "# create a barplot to visualize the features based on their importance\n",
    "sns.barplot(x = 'Importance', y = 'Features', data = important_features)\n",
    "\n",
    "# add plot and axes labels\n",
    "# set text size using 'fontsize'\n",
    "plt.title('Feature Importance', fontsize = 15)\n",
    "plt.xlabel('Importance', fontsize = 15)\n",
    "plt.ylabel('Features', fontsize = 15)\n",
    "\n",
    "# display the plot\n",
    "plt.show()"
   ]
  },
  {
   "cell_type": "code",
   "execution_count": null,
   "id": "71183092",
   "metadata": {},
   "outputs": [],
   "source": []
  },
  {
   "cell_type": "markdown",
   "id": "39cac0f4",
   "metadata": {
    "id": "mT4v4MvCEjYk"
   },
   "source": [
    "<a id=\"stack\"></a>\n",
    "# 4. Stack Generalization  "
   ]
  },
  {
   "cell_type": "markdown",
   "id": "ee4939d9",
   "metadata": {
    "id": "bPlXGw7JEjY6"
   },
   "source": [
    "#### Build the stacking classifier using the Random forest, KNN and Naive bayes as base learners (consider the hyperparameters tuned using GridSearchCV in the previous sessions)."
   ]
  },
  {
   "cell_type": "code",
   "execution_count": 26,
   "id": "57915a65",
   "metadata": {
    "id": "40adEGSyEjY7",
    "outputId": "c989c64c-00ad-43e5-a18a-336092790bb6"
   },
   "outputs": [
    {
     "name": "stdout",
     "output_type": "stream",
     "text": [
      "CPU times: total: 46.7 s\n",
      "Wall time: 12.9 s\n"
     ]
    },
    {
     "data": {
      "text/html": [
       "<style>#sk-container-id-1 {color: black;background-color: white;}#sk-container-id-1 pre{padding: 0;}#sk-container-id-1 div.sk-toggleable {background-color: white;}#sk-container-id-1 label.sk-toggleable__label {cursor: pointer;display: block;width: 100%;margin-bottom: 0;padding: 0.3em;box-sizing: border-box;text-align: center;}#sk-container-id-1 label.sk-toggleable__label-arrow:before {content: \"▸\";float: left;margin-right: 0.25em;color: #696969;}#sk-container-id-1 label.sk-toggleable__label-arrow:hover:before {color: black;}#sk-container-id-1 div.sk-estimator:hover label.sk-toggleable__label-arrow:before {color: black;}#sk-container-id-1 div.sk-toggleable__content {max-height: 0;max-width: 0;overflow: hidden;text-align: left;background-color: #f0f8ff;}#sk-container-id-1 div.sk-toggleable__content pre {margin: 0.2em;color: black;border-radius: 0.25em;background-color: #f0f8ff;}#sk-container-id-1 input.sk-toggleable__control:checked~div.sk-toggleable__content {max-height: 200px;max-width: 100%;overflow: auto;}#sk-container-id-1 input.sk-toggleable__control:checked~label.sk-toggleable__label-arrow:before {content: \"▾\";}#sk-container-id-1 div.sk-estimator input.sk-toggleable__control:checked~label.sk-toggleable__label {background-color: #d4ebff;}#sk-container-id-1 div.sk-label input.sk-toggleable__control:checked~label.sk-toggleable__label {background-color: #d4ebff;}#sk-container-id-1 input.sk-hidden--visually {border: 0;clip: rect(1px 1px 1px 1px);clip: rect(1px, 1px, 1px, 1px);height: 1px;margin: -1px;overflow: hidden;padding: 0;position: absolute;width: 1px;}#sk-container-id-1 div.sk-estimator {font-family: monospace;background-color: #f0f8ff;border: 1px dotted black;border-radius: 0.25em;box-sizing: border-box;margin-bottom: 0.5em;}#sk-container-id-1 div.sk-estimator:hover {background-color: #d4ebff;}#sk-container-id-1 div.sk-parallel-item::after {content: \"\";width: 100%;border-bottom: 1px solid gray;flex-grow: 1;}#sk-container-id-1 div.sk-label:hover label.sk-toggleable__label {background-color: #d4ebff;}#sk-container-id-1 div.sk-serial::before {content: \"\";position: absolute;border-left: 1px solid gray;box-sizing: border-box;top: 0;bottom: 0;left: 50%;z-index: 0;}#sk-container-id-1 div.sk-serial {display: flex;flex-direction: column;align-items: center;background-color: white;padding-right: 0.2em;padding-left: 0.2em;position: relative;}#sk-container-id-1 div.sk-item {position: relative;z-index: 1;}#sk-container-id-1 div.sk-parallel {display: flex;align-items: stretch;justify-content: center;background-color: white;position: relative;}#sk-container-id-1 div.sk-item::before, #sk-container-id-1 div.sk-parallel-item::before {content: \"\";position: absolute;border-left: 1px solid gray;box-sizing: border-box;top: 0;bottom: 0;left: 50%;z-index: -1;}#sk-container-id-1 div.sk-parallel-item {display: flex;flex-direction: column;z-index: 1;position: relative;background-color: white;}#sk-container-id-1 div.sk-parallel-item:first-child::after {align-self: flex-end;width: 50%;}#sk-container-id-1 div.sk-parallel-item:last-child::after {align-self: flex-start;width: 50%;}#sk-container-id-1 div.sk-parallel-item:only-child::after {width: 0;}#sk-container-id-1 div.sk-dashed-wrapped {border: 1px dashed gray;margin: 0 0.4em 0.5em 0.4em;box-sizing: border-box;padding-bottom: 0.4em;background-color: white;}#sk-container-id-1 div.sk-label label {font-family: monospace;font-weight: bold;display: inline-block;line-height: 1.2em;}#sk-container-id-1 div.sk-label-container {text-align: center;}#sk-container-id-1 div.sk-container {/* jupyter's `normalize.less` sets `[hidden] { display: none; }` but bootstrap.min.css set `[hidden] { display: none !important; }` so we also need the `!important` here to be able to override the default hidden behavior on the sphinx rendered scikit-learn.org. See: https://github.com/scikit-learn/scikit-learn/issues/21755 */display: inline-block !important;position: relative;}#sk-container-id-1 div.sk-text-repr-fallback {display: none;}</style><div id=\"sk-container-id-1\" class=\"sk-top-container\"><div class=\"sk-text-repr-fallback\"><pre>StackingClassifier(estimators=[(&#x27;rf_model&#x27;,\n",
       "                                RandomForestClassifier(criterion=&#x27;entropy&#x27;,\n",
       "                                                       max_depth=10,\n",
       "                                                       max_leaf_nodes=8,\n",
       "                                                       min_samples_leaf=5,\n",
       "                                                       n_estimators=50,\n",
       "                                                       random_state=10)),\n",
       "                               (&#x27;xgb_model&#x27;,\n",
       "                                XGBClassifier(base_score=None, booster=None,\n",
       "                                              callbacks=None,\n",
       "                                              colsample_bylevel=None,\n",
       "                                              colsample_bynode=None,\n",
       "                                              colsample_bytree=1,\n",
       "                                              early_stopping_rounds=None,\n",
       "                                              enable_categorical=...\n",
       "                                              max_delta_step=None, max_depth=4,\n",
       "                                              max_leaves=None,\n",
       "                                              min_child_weight=4, missing=nan,\n",
       "                                              monotone_constraints=None,\n",
       "                                              n_estimators=100, n_jobs=None,\n",
       "                                              num_parallel_tree=None,\n",
       "                                              predictor=None, random_state=None,\n",
       "                                              reg_alpha=None, reg_lambda=None, ...)),\n",
       "                               (&#x27;KNN_model&#x27;,\n",
       "                                KNeighborsClassifier(metric=&#x27;euclidean&#x27;,\n",
       "                                                     n_neighbors=17)),\n",
       "                               (&#x27;NB_model&#x27;, GaussianNB())],\n",
       "                   final_estimator=GaussianNB())</pre><b>In a Jupyter environment, please rerun this cell to show the HTML representation or trust the notebook. <br />On GitHub, the HTML representation is unable to render, please try loading this page with nbviewer.org.</b></div><div class=\"sk-container\" hidden><div class=\"sk-item sk-dashed-wrapped\"><div class=\"sk-label-container\"><div class=\"sk-label sk-toggleable\"><input class=\"sk-toggleable__control sk-hidden--visually\" id=\"sk-estimator-id-1\" type=\"checkbox\" ><label for=\"sk-estimator-id-1\" class=\"sk-toggleable__label sk-toggleable__label-arrow\">StackingClassifier</label><div class=\"sk-toggleable__content\"><pre>StackingClassifier(estimators=[(&#x27;rf_model&#x27;,\n",
       "                                RandomForestClassifier(criterion=&#x27;entropy&#x27;,\n",
       "                                                       max_depth=10,\n",
       "                                                       max_leaf_nodes=8,\n",
       "                                                       min_samples_leaf=5,\n",
       "                                                       n_estimators=50,\n",
       "                                                       random_state=10)),\n",
       "                               (&#x27;xgb_model&#x27;,\n",
       "                                XGBClassifier(base_score=None, booster=None,\n",
       "                                              callbacks=None,\n",
       "                                              colsample_bylevel=None,\n",
       "                                              colsample_bynode=None,\n",
       "                                              colsample_bytree=1,\n",
       "                                              early_stopping_rounds=None,\n",
       "                                              enable_categorical=...\n",
       "                                              max_delta_step=None, max_depth=4,\n",
       "                                              max_leaves=None,\n",
       "                                              min_child_weight=4, missing=nan,\n",
       "                                              monotone_constraints=None,\n",
       "                                              n_estimators=100, n_jobs=None,\n",
       "                                              num_parallel_tree=None,\n",
       "                                              predictor=None, random_state=None,\n",
       "                                              reg_alpha=None, reg_lambda=None, ...)),\n",
       "                               (&#x27;KNN_model&#x27;,\n",
       "                                KNeighborsClassifier(metric=&#x27;euclidean&#x27;,\n",
       "                                                     n_neighbors=17)),\n",
       "                               (&#x27;NB_model&#x27;, GaussianNB())],\n",
       "                   final_estimator=GaussianNB())</pre></div></div></div><div class=\"sk-serial\"><div class=\"sk-item\"><div class=\"sk-parallel\"><div class=\"sk-parallel-item\"><div class=\"sk-item\"><div class=\"sk-label-container\"><div class=\"sk-label sk-toggleable\"><label>rf_model</label></div></div><div class=\"sk-serial\"><div class=\"sk-item\"><div class=\"sk-estimator sk-toggleable\"><input class=\"sk-toggleable__control sk-hidden--visually\" id=\"sk-estimator-id-2\" type=\"checkbox\" ><label for=\"sk-estimator-id-2\" class=\"sk-toggleable__label sk-toggleable__label-arrow\">RandomForestClassifier</label><div class=\"sk-toggleable__content\"><pre>RandomForestClassifier(criterion=&#x27;entropy&#x27;, max_depth=10, max_leaf_nodes=8,\n",
       "                       min_samples_leaf=5, n_estimators=50, random_state=10)</pre></div></div></div></div></div></div><div class=\"sk-parallel-item\"><div class=\"sk-item\"><div class=\"sk-label-container\"><div class=\"sk-label sk-toggleable\"><label>xgb_model</label></div></div><div class=\"sk-serial\"><div class=\"sk-item\"><div class=\"sk-estimator sk-toggleable\"><input class=\"sk-toggleable__control sk-hidden--visually\" id=\"sk-estimator-id-3\" type=\"checkbox\" ><label for=\"sk-estimator-id-3\" class=\"sk-toggleable__label sk-toggleable__label-arrow\">XGBClassifier</label><div class=\"sk-toggleable__content\"><pre>XGBClassifier(base_score=None, booster=None, callbacks=None,\n",
       "              colsample_bylevel=None, colsample_bynode=None, colsample_bytree=1,\n",
       "              early_stopping_rounds=None, enable_categorical=False,\n",
       "              eval_metric=None, gamma=1, gpu_id=None, grow_policy=None,\n",
       "              importance_type=None, interaction_constraints=None,\n",
       "              learning_rate=0.2, max_bin=None, max_cat_to_onehot=None,\n",
       "              max_delta_step=None, max_depth=4, max_leaves=None,\n",
       "              min_child_weight=4, missing=nan, monotone_constraints=None,\n",
       "              n_estimators=100, n_jobs=None, num_parallel_tree=None,\n",
       "              predictor=None, random_state=None, reg_alpha=None,\n",
       "              reg_lambda=None, ...)</pre></div></div></div></div></div></div><div class=\"sk-parallel-item\"><div class=\"sk-item\"><div class=\"sk-label-container\"><div class=\"sk-label sk-toggleable\"><label>KNN_model</label></div></div><div class=\"sk-serial\"><div class=\"sk-item\"><div class=\"sk-estimator sk-toggleable\"><input class=\"sk-toggleable__control sk-hidden--visually\" id=\"sk-estimator-id-4\" type=\"checkbox\" ><label for=\"sk-estimator-id-4\" class=\"sk-toggleable__label sk-toggleable__label-arrow\">KNeighborsClassifier</label><div class=\"sk-toggleable__content\"><pre>KNeighborsClassifier(metric=&#x27;euclidean&#x27;, n_neighbors=17)</pre></div></div></div></div></div></div><div class=\"sk-parallel-item\"><div class=\"sk-item\"><div class=\"sk-label-container\"><div class=\"sk-label sk-toggleable\"><label>NB_model</label></div></div><div class=\"sk-serial\"><div class=\"sk-item\"><div class=\"sk-estimator sk-toggleable\"><input class=\"sk-toggleable__control sk-hidden--visually\" id=\"sk-estimator-id-5\" type=\"checkbox\" ><label for=\"sk-estimator-id-5\" class=\"sk-toggleable__label sk-toggleable__label-arrow\">GaussianNB</label><div class=\"sk-toggleable__content\"><pre>GaussianNB()</pre></div></div></div></div></div></div></div></div><div class=\"sk-item\"><div class=\"sk-parallel\"><div class=\"sk-parallel-item\"><div class=\"sk-item\"><div class=\"sk-label-container\"><div class=\"sk-label sk-toggleable\"><label>final_estimator</label></div></div><div class=\"sk-serial\"><div class=\"sk-item\"><div class=\"sk-estimator sk-toggleable\"><input class=\"sk-toggleable__control sk-hidden--visually\" id=\"sk-estimator-id-6\" type=\"checkbox\" ><label for=\"sk-estimator-id-6\" class=\"sk-toggleable__label sk-toggleable__label-arrow\">GaussianNB</label><div class=\"sk-toggleable__content\"><pre>GaussianNB()</pre></div></div></div></div></div></div></div></div></div></div></div></div>"
      ],
      "text/plain": [
       "StackingClassifier(estimators=[('rf_model',\n",
       "                                RandomForestClassifier(criterion='entropy',\n",
       "                                                       max_depth=10,\n",
       "                                                       max_leaf_nodes=8,\n",
       "                                                       min_samples_leaf=5,\n",
       "                                                       n_estimators=50,\n",
       "                                                       random_state=10)),\n",
       "                               ('xgb_model',\n",
       "                                XGBClassifier(base_score=None, booster=None,\n",
       "                                              callbacks=None,\n",
       "                                              colsample_bylevel=None,\n",
       "                                              colsample_bynode=None,\n",
       "                                              colsample_bytree=1,\n",
       "                                              early_stopping_rounds=None,\n",
       "                                              enable_categorical=...\n",
       "                                              max_delta_step=None, max_depth=4,\n",
       "                                              max_leaves=None,\n",
       "                                              min_child_weight=4, missing=nan,\n",
       "                                              monotone_constraints=None,\n",
       "                                              n_estimators=100, n_jobs=None,\n",
       "                                              num_parallel_tree=None,\n",
       "                                              predictor=None, random_state=None,\n",
       "                                              reg_alpha=None, reg_lambda=None, ...)),\n",
       "                               ('KNN_model',\n",
       "                                KNeighborsClassifier(metric='euclidean',\n",
       "                                                     n_neighbors=17)),\n",
       "                               ('NB_model', GaussianNB())],\n",
       "                   final_estimator=GaussianNB())"
      ]
     },
     "execution_count": 26,
     "metadata": {},
     "output_type": "execute_result"
    }
   ],
   "source": [
    "%%time\n",
    "# consider the various algorithms as base learners\n",
    "base_learners = [('rf_model', RandomForestClassifier(criterion = 'entropy', max_depth = 10, max_features = 'sqrt', \n",
    "                                                     max_leaf_nodes = 8, min_samples_leaf = 5, min_samples_split = 2, \n",
    "                                                     n_estimators = 50, random_state = 10)),\n",
    "                 ('xgb_model',XGBClassifier(colsample_bytree= 1, gamma= 1, learning_rate= 0.2, \n",
    "                                 max_depth=4, min_child_weight= 4, subsample= 1, tree_method= 'hist' )), \n",
    "                 ('KNN_model', KNeighborsClassifier(n_neighbors = 17, metric = 'euclidean')),\n",
    "                 ('NB_model', GaussianNB())]\n",
    "\n",
    "# initialize stacking classifier \n",
    "# pass the base learners to the parameter, 'estimators'\n",
    "# pass the Naive Bayes model as the 'final_estimator'/ meta model\n",
    "stack_model = StackingClassifier(estimators = base_learners, final_estimator = GaussianNB())\n",
    "\n",
    "# fit the model on train dataset\n",
    "stack_model.fit(X_train, y_train)"
   ]
  },
  {
   "cell_type": "markdown",
   "id": "4a7e0631",
   "metadata": {
    "id": "kg_vZbU2EjY9"
   },
   "source": [
    "#### Plot the confusion matrix."
   ]
  },
  {
   "cell_type": "code",
   "execution_count": 27,
   "id": "68278055",
   "metadata": {
    "id": "9oJRHgFPEjY-",
    "outputId": "63bc278a-b11f-4b13-eaf4-2521c340b725"
   },
   "outputs": [
    {
     "data": {
      "image/png": "[encoded data removed]",
      "text/plain": [
       "<Figure size 432x288 with 1 Axes>"
      ]
     },
     "metadata": {
      "needs_background": "light"
     },
     "output_type": "display_data"
    }
   ],
   "source": [
    "# call the function to plot the confusion matrix\n",
    "# pass the stack model to the function\n",
    "plot_confusion_matrix(stack_model)"
   ]
  },
  {
   "cell_type": "markdown",
   "id": "76955111",
   "metadata": {
    "id": "fc7n8zqbEjY_"
   },
   "source": [
    "**Calculate performance measures on the test set.**"
   ]
  },
  {
   "cell_type": "code",
   "execution_count": 28,
   "id": "08911ce7",
   "metadata": {
    "id": "QJIc1sBLEjZA",
    "outputId": "a0d2f695-ad4f-47d5-a86d-8d93cedb3c22",
    "scrolled": true
   },
   "outputs": [
    {
     "name": "stdout",
     "output_type": "stream",
     "text": [
      "              precision    recall  f1-score   support\n",
      "\n",
      "           0       0.75      0.85      0.80     10888\n",
      "           1       0.46      0.32      0.38      4427\n",
      "\n",
      "    accuracy                           0.70     15315\n",
      "   macro avg       0.61      0.59      0.59     15315\n",
      "weighted avg       0.67      0.70      0.68     15315\n",
      "\n"
     ]
    }
   ],
   "source": [
    "# compute the performance measures on test data\n",
    "# call the function 'get_test_report'\n",
    "# pass the XGBoost model to the function\n",
    "test_report = get_test_report(stack_model)\n",
    "\n",
    "# print the performance measures\n",
    "print(test_report)"
   ]
  },
  {
   "cell_type": "code",
   "execution_count": 29,
   "id": "e32178c5",
   "metadata": {},
   "outputs": [
    {
     "data": {
      "text/plain": [
       "0.7287585357662599"
      ]
     },
     "execution_count": 29,
     "metadata": {},
     "output_type": "execute_result"
    }
   ],
   "source": [
    "# train report\n",
    "stack_model.score(X_train,y_train)"
   ]
  },
  {
   "cell_type": "code",
   "execution_count": 30,
   "id": "59e376e8",
   "metadata": {},
   "outputs": [
    {
     "data": {
      "text/plain": [
       "0.6968984655566438"
      ]
     },
     "execution_count": 30,
     "metadata": {},
     "output_type": "execute_result"
    }
   ],
   "source": [
    "stack_model.score(X_test,y_test)"
   ]
  },
  {
   "cell_type": "markdown",
   "id": "f09e0f32",
   "metadata": {
    "id": "MDgY1BSVEjZB"
   },
   "source": [
    "**Interpretation:** The above output shows that the f1-score and accuracy of the model is 0.86"
   ]
  },
  {
   "cell_type": "markdown",
   "id": "e353f6f2",
   "metadata": {
    "id": "3BuJLhPmEjZD"
   },
   "source": [
    "#### Plot the ROC curve."
   ]
  },
  {
   "cell_type": "code",
   "execution_count": 31,
   "id": "d0e756b6",
   "metadata": {
    "id": "bB6Ja7gIEjZE",
    "outputId": "5704247e-b3c4-4fc0-aaeb-ec148a0f6c3a",
    "scrolled": false
   },
   "outputs": [
    {
     "data": {
      "image/png": "[encoded data removed]",
      "text/plain": [
       "<Figure size 432x288 with 1 Axes>"
      ]
     },
     "metadata": {
      "needs_background": "light"
     },
     "output_type": "display_data"
    }
   ],
   "source": [
    "# call the function to plot the ROC curve\n",
    "# pass the stack model to the function\n",
    "plot_roc(stack_model)"
   ]
  },
  {
   "cell_type": "markdown",
   "id": "299007d1",
   "metadata": {
    "id": "ixFvz8DKEjZF"
   },
   "source": [
    "**Interpretation:** The red dotted line represents the ROC curve of a purely random classifier; a good classifier stays as far away from that line as possible (toward the top-left corner).<br>\n",
    "From the above plot, we can see that the stacking model is away from the dotted line; with the AUC score 0.9492."
   ]
  },
  {
   "cell_type": "markdown",
   "id": "fac4cf61",
   "metadata": {
    "id": "mT4v4MvCEjYk"
   },
   "source": [
    "<a id=\"stack\"></a>\n",
    "# 4. Stack Generalization  2"
   ]
  },
  {
   "cell_type": "markdown",
   "id": "8e2e2fd2",
   "metadata": {
    "id": "bPlXGw7JEjY6"
   },
   "source": [
    "#### Build the stacking classifier using the Random forest, KNN and Naive bayes as base learners (consider the hyperparameters tuned using GridSearchCV in the previous sessions)."
   ]
  },
  {
   "cell_type": "code",
   "execution_count": 33,
   "id": "9d9247c3",
   "metadata": {
    "id": "40adEGSyEjY7",
    "outputId": "c989c64c-00ad-43e5-a18a-336092790bb6"
   },
   "outputs": [
    {
     "name": "stdout",
     "output_type": "stream",
     "text": [
      "CPU times: total: 8min 39s\n",
      "Wall time: 7min 6s\n"
     ]
    },
    {
     "data": {
      "text/html": [
       "<style>#sk-container-id-2 {color: black;background-color: white;}#sk-container-id-2 pre{padding: 0;}#sk-container-id-2 div.sk-toggleable {background-color: white;}#sk-container-id-2 label.sk-toggleable__label {cursor: pointer;display: block;width: 100%;margin-bottom: 0;padding: 0.3em;box-sizing: border-box;text-align: center;}#sk-container-id-2 label.sk-toggleable__label-arrow:before {content: \"▸\";float: left;margin-right: 0.25em;color: #696969;}#sk-container-id-2 label.sk-toggleable__label-arrow:hover:before {color: black;}#sk-container-id-2 div.sk-estimator:hover label.sk-toggleable__label-arrow:before {color: black;}#sk-container-id-2 div.sk-toggleable__content {max-height: 0;max-width: 0;overflow: hidden;text-align: left;background-color: #f0f8ff;}#sk-container-id-2 div.sk-toggleable__content pre {margin: 0.2em;color: black;border-radius: 0.25em;background-color: #f0f8ff;}#sk-container-id-2 input.sk-toggleable__control:checked~div.sk-toggleable__content {max-height: 200px;max-width: 100%;overflow: auto;}#sk-container-id-2 input.sk-toggleable__control:checked~label.sk-toggleable__label-arrow:before {content: \"▾\";}#sk-container-id-2 div.sk-estimator input.sk-toggleable__control:checked~label.sk-toggleable__label {background-color: #d4ebff;}#sk-container-id-2 div.sk-label input.sk-toggleable__control:checked~label.sk-toggleable__label {background-color: #d4ebff;}#sk-container-id-2 input.sk-hidden--visually {border: 0;clip: rect(1px 1px 1px 1px);clip: rect(1px, 1px, 1px, 1px);height: 1px;margin: -1px;overflow: hidden;padding: 0;position: absolute;width: 1px;}#sk-container-id-2 div.sk-estimator {font-family: monospace;background-color: #f0f8ff;border: 1px dotted black;border-radius: 0.25em;box-sizing: border-box;margin-bottom: 0.5em;}#sk-container-id-2 div.sk-estimator:hover {background-color: #d4ebff;}#sk-container-id-2 div.sk-parallel-item::after {content: \"\";width: 100%;border-bottom: 1px solid gray;flex-grow: 1;}#sk-container-id-2 div.sk-label:hover label.sk-toggleable__label {background-color: #d4ebff;}#sk-container-id-2 div.sk-serial::before {content: \"\";position: absolute;border-left: 1px solid gray;box-sizing: border-box;top: 0;bottom: 0;left: 50%;z-index: 0;}#sk-container-id-2 div.sk-serial {display: flex;flex-direction: column;align-items: center;background-color: white;padding-right: 0.2em;padding-left: 0.2em;position: relative;}#sk-container-id-2 div.sk-item {position: relative;z-index: 1;}#sk-container-id-2 div.sk-parallel {display: flex;align-items: stretch;justify-content: center;background-color: white;position: relative;}#sk-container-id-2 div.sk-item::before, #sk-container-id-2 div.sk-parallel-item::before {content: \"\";position: absolute;border-left: 1px solid gray;box-sizing: border-box;top: 0;bottom: 0;left: 50%;z-index: -1;}#sk-container-id-2 div.sk-parallel-item {display: flex;flex-direction: column;z-index: 1;position: relative;background-color: white;}#sk-container-id-2 div.sk-parallel-item:first-child::after {align-self: flex-end;width: 50%;}#sk-container-id-2 div.sk-parallel-item:last-child::after {align-self: flex-start;width: 50%;}#sk-container-id-2 div.sk-parallel-item:only-child::after {width: 0;}#sk-container-id-2 div.sk-dashed-wrapped {border: 1px dashed gray;margin: 0 0.4em 0.5em 0.4em;box-sizing: border-box;padding-bottom: 0.4em;background-color: white;}#sk-container-id-2 div.sk-label label {font-family: monospace;font-weight: bold;display: inline-block;line-height: 1.2em;}#sk-container-id-2 div.sk-label-container {text-align: center;}#sk-container-id-2 div.sk-container {/* jupyter's `normalize.less` sets `[hidden] { display: none; }` but bootstrap.min.css set `[hidden] { display: none !important; }` so we also need the `!important` here to be able to override the default hidden behavior on the sphinx rendered scikit-learn.org. See: https://github.com/scikit-learn/scikit-learn/issues/21755 */display: inline-block !important;position: relative;}#sk-container-id-2 div.sk-text-repr-fallback {display: none;}</style><div id=\"sk-container-id-2\" class=\"sk-top-container\"><div class=\"sk-text-repr-fallback\"><pre>StackingClassifier(estimators=[(&#x27;rf_model&#x27;,\n",
       "                                RandomForestClassifier(max_depth=10,\n",
       "                                                       max_leaf_nodes=11,\n",
       "                                                       min_samples_leaf=5,\n",
       "                                                       n_estimators=50)),\n",
       "                               (&#x27;xgb_model&#x27;,\n",
       "                                XGBClassifier(base_score=None, booster=None,\n",
       "                                              callbacks=None,\n",
       "                                              colsample_bylevel=None,\n",
       "                                              colsample_bynode=None,\n",
       "                                              colsample_bytree=1,\n",
       "                                              early_stopping_rounds=None,\n",
       "                                              enable_categorical=False,\n",
       "                                              eval_metric=None, gamma=1,\n",
       "                                              gpu_...\n",
       "                                                 gpu_id=None, grow_policy=None,\n",
       "                                                 importance_type=None,\n",
       "                                                 interaction_constraints=None,\n",
       "                                                 learning_rate=None,\n",
       "                                                 max_bin=None,\n",
       "                                                 max_cat_to_onehot=None,\n",
       "                                                 max_delta_step=None,\n",
       "                                                 max_depth=None,\n",
       "                                                 max_leaves=None,\n",
       "                                                 min_child_weight=None,\n",
       "                                                 missing=nan,\n",
       "                                                 monotone_constraints=None,\n",
       "                                                 n_estimators=100, n_jobs=None,\n",
       "                                                 num_parallel_tree=None,\n",
       "                                                 predictor=None,\n",
       "                                                 random_state=None,\n",
       "                                                 reg_alpha=None,\n",
       "                                                 reg_lambda=None, ...))</pre><b>In a Jupyter environment, please rerun this cell to show the HTML representation or trust the notebook. <br />On GitHub, the HTML representation is unable to render, please try loading this page with nbviewer.org.</b></div><div class=\"sk-container\" hidden><div class=\"sk-item sk-dashed-wrapped\"><div class=\"sk-label-container\"><div class=\"sk-label sk-toggleable\"><input class=\"sk-toggleable__control sk-hidden--visually\" id=\"sk-estimator-id-7\" type=\"checkbox\" ><label for=\"sk-estimator-id-7\" class=\"sk-toggleable__label sk-toggleable__label-arrow\">StackingClassifier</label><div class=\"sk-toggleable__content\"><pre>StackingClassifier(estimators=[(&#x27;rf_model&#x27;,\n",
       "                                RandomForestClassifier(max_depth=10,\n",
       "                                                       max_leaf_nodes=11,\n",
       "                                                       min_samples_leaf=5,\n",
       "                                                       n_estimators=50)),\n",
       "                               (&#x27;xgb_model&#x27;,\n",
       "                                XGBClassifier(base_score=None, booster=None,\n",
       "                                              callbacks=None,\n",
       "                                              colsample_bylevel=None,\n",
       "                                              colsample_bynode=None,\n",
       "                                              colsample_bytree=1,\n",
       "                                              early_stopping_rounds=None,\n",
       "                                              enable_categorical=False,\n",
       "                                              eval_metric=None, gamma=1,\n",
       "                                              gpu_...\n",
       "                                                 gpu_id=None, grow_policy=None,\n",
       "                                                 importance_type=None,\n",
       "                                                 interaction_constraints=None,\n",
       "                                                 learning_rate=None,\n",
       "                                                 max_bin=None,\n",
       "                                                 max_cat_to_onehot=None,\n",
       "                                                 max_delta_step=None,\n",
       "                                                 max_depth=None,\n",
       "                                                 max_leaves=None,\n",
       "                                                 min_child_weight=None,\n",
       "                                                 missing=nan,\n",
       "                                                 monotone_constraints=None,\n",
       "                                                 n_estimators=100, n_jobs=None,\n",
       "                                                 num_parallel_tree=None,\n",
       "                                                 predictor=None,\n",
       "                                                 random_state=None,\n",
       "                                                 reg_alpha=None,\n",
       "                                                 reg_lambda=None, ...))</pre></div></div></div><div class=\"sk-serial\"><div class=\"sk-item\"><div class=\"sk-parallel\"><div class=\"sk-parallel-item\"><div class=\"sk-item\"><div class=\"sk-label-container\"><div class=\"sk-label sk-toggleable\"><label>rf_model</label></div></div><div class=\"sk-serial\"><div class=\"sk-item\"><div class=\"sk-estimator sk-toggleable\"><input class=\"sk-toggleable__control sk-hidden--visually\" id=\"sk-estimator-id-8\" type=\"checkbox\" ><label for=\"sk-estimator-id-8\" class=\"sk-toggleable__label sk-toggleable__label-arrow\">RandomForestClassifier</label><div class=\"sk-toggleable__content\"><pre>RandomForestClassifier(max_depth=10, max_leaf_nodes=11, min_samples_leaf=5,\n",
       "                       n_estimators=50)</pre></div></div></div></div></div></div><div class=\"sk-parallel-item\"><div class=\"sk-item\"><div class=\"sk-label-container\"><div class=\"sk-label sk-toggleable\"><label>xgb_model</label></div></div><div class=\"sk-serial\"><div class=\"sk-item\"><div class=\"sk-estimator sk-toggleable\"><input class=\"sk-toggleable__control sk-hidden--visually\" id=\"sk-estimator-id-9\" type=\"checkbox\" ><label for=\"sk-estimator-id-9\" class=\"sk-toggleable__label sk-toggleable__label-arrow\">XGBClassifier</label><div class=\"sk-toggleable__content\"><pre>XGBClassifier(base_score=None, booster=None, callbacks=None,\n",
       "              colsample_bylevel=None, colsample_bynode=None, colsample_bytree=1,\n",
       "              early_stopping_rounds=None, enable_categorical=False,\n",
       "              eval_metric=None, gamma=1, gpu_id=None, grow_policy=None,\n",
       "              importance_type=None, interaction_constraints=None,\n",
       "              learning_rate=0.2, max_bin=None, max_cat_to_onehot=None,\n",
       "              max_delta_step=None, max_depth=4, max_leaves=None,\n",
       "              min_child_weight=4, missing=nan, monotone_constraints=None,\n",
       "              n_estimators=100, n_jobs=None, num_parallel_tree=None,\n",
       "              predictor=None, random_state=None, reg_alpha=None,\n",
       "              reg_lambda=None, ...)</pre></div></div></div></div></div></div><div class=\"sk-parallel-item\"><div class=\"sk-item\"><div class=\"sk-label-container\"><div class=\"sk-label sk-toggleable\"><label>Gradient_model</label></div></div><div class=\"sk-serial\"><div class=\"sk-item\"><div class=\"sk-estimator sk-toggleable\"><input class=\"sk-toggleable__control sk-hidden--visually\" id=\"sk-estimator-id-10\" type=\"checkbox\" ><label for=\"sk-estimator-id-10\" class=\"sk-toggleable__label sk-toggleable__label-arrow\">GradientBoostingClassifier</label><div class=\"sk-toggleable__content\"><pre>GradientBoostingClassifier(max_depth=10, n_estimators=150, random_state=10)</pre></div></div></div></div></div></div><div class=\"sk-parallel-item\"><div class=\"sk-item\"><div class=\"sk-label-container\"><div class=\"sk-label sk-toggleable\"><label>KNN_model</label></div></div><div class=\"sk-serial\"><div class=\"sk-item\"><div class=\"sk-estimator sk-toggleable\"><input class=\"sk-toggleable__control sk-hidden--visually\" id=\"sk-estimator-id-11\" type=\"checkbox\" ><label for=\"sk-estimator-id-11\" class=\"sk-toggleable__label sk-toggleable__label-arrow\">KNeighborsClassifier</label><div class=\"sk-toggleable__content\"><pre>KNeighborsClassifier(metric=&#x27;manhattan&#x27;, n_neighbors=23)</pre></div></div></div></div></div></div><div class=\"sk-parallel-item\"><div class=\"sk-item\"><div class=\"sk-label-container\"><div class=\"sk-label sk-toggleable\"><label>NB_model</label></div></div><div class=\"sk-serial\"><div class=\"sk-item\"><div class=\"sk-estimator sk-toggleable\"><input class=\"sk-toggleable__control sk-hidden--visually\" id=\"sk-estimator-id-12\" type=\"checkbox\" ><label for=\"sk-estimator-id-12\" class=\"sk-toggleable__label sk-toggleable__label-arrow\">GaussianNB</label><div class=\"sk-toggleable__content\"><pre>GaussianNB()</pre></div></div></div></div></div></div></div></div><div class=\"sk-item\"><div class=\"sk-parallel\"><div class=\"sk-parallel-item\"><div class=\"sk-item\"><div class=\"sk-label-container\"><div class=\"sk-label sk-toggleable\"><label>final_estimator</label></div></div><div class=\"sk-serial\"><div class=\"sk-item\"><div class=\"sk-estimator sk-toggleable\"><input class=\"sk-toggleable__control sk-hidden--visually\" id=\"sk-estimator-id-13\" type=\"checkbox\" ><label for=\"sk-estimator-id-13\" class=\"sk-toggleable__label sk-toggleable__label-arrow\">XGBClassifier</label><div class=\"sk-toggleable__content\"><pre>XGBClassifier(base_score=None, booster=None, callbacks=None,\n",
       "              colsample_bylevel=None, colsample_bynode=None,\n",
       "              colsample_bytree=None, early_stopping_rounds=None,\n",
       "              enable_categorical=False, eval_metric=None, gamma=None,\n",
       "              gpu_id=None, grow_policy=None, importance_type=None,\n",
       "              interaction_constraints=None, learning_rate=None, max_bin=None,\n",
       "              max_cat_to_onehot=None, max_delta_step=None, max_depth=None,\n",
       "              max_leaves=None, min_child_weight=None, missing=nan,\n",
       "              monotone_constraints=None, n_estimators=100, n_jobs=None,\n",
       "              num_parallel_tree=None, predictor=None, random_state=None,\n",
       "              reg_alpha=None, reg_lambda=None, ...)</pre></div></div></div></div></div></div></div></div></div></div></div></div>"
      ],
      "text/plain": [
       "StackingClassifier(estimators=[('rf_model',\n",
       "                                RandomForestClassifier(max_depth=10,\n",
       "                                                       max_leaf_nodes=11,\n",
       "                                                       min_samples_leaf=5,\n",
       "                                                       n_estimators=50)),\n",
       "                               ('xgb_model',\n",
       "                                XGBClassifier(base_score=None, booster=None,\n",
       "                                              callbacks=None,\n",
       "                                              colsample_bylevel=None,\n",
       "                                              colsample_bynode=None,\n",
       "                                              colsample_bytree=1,\n",
       "                                              early_stopping_rounds=None,\n",
       "                                              enable_categorical=False,\n",
       "                                              eval_metric=None, gamma=1,\n",
       "                                              gpu_...\n",
       "                                                 gpu_id=None, grow_policy=None,\n",
       "                                                 importance_type=None,\n",
       "                                                 interaction_constraints=None,\n",
       "                                                 learning_rate=None,\n",
       "                                                 max_bin=None,\n",
       "                                                 max_cat_to_onehot=None,\n",
       "                                                 max_delta_step=None,\n",
       "                                                 max_depth=None,\n",
       "                                                 max_leaves=None,\n",
       "                                                 min_child_weight=None,\n",
       "                                                 missing=nan,\n",
       "                                                 monotone_constraints=None,\n",
       "                                                 n_estimators=100, n_jobs=None,\n",
       "                                                 num_parallel_tree=None,\n",
       "                                                 predictor=None,\n",
       "                                                 random_state=None,\n",
       "                                                 reg_alpha=None,\n",
       "                                                 reg_lambda=None, ...))"
      ]
     },
     "execution_count": 33,
     "metadata": {},
     "output_type": "execute_result"
    }
   ],
   "source": [
    "%%time\n",
    "# consider the various algorithms as base learners\n",
    "base_learners = [('rf_model', RandomForestClassifier(criterion='gini', max_depth= 10, max_features= 'sqrt', \n",
    "                                                     max_leaf_nodes= 11, min_samples_leaf= 5, min_samples_split=2, n_estimators= 50)),\n",
    "                 ('xgb_model',XGBClassifier(colsample_bytree= 1, gamma= 1, learning_rate= 0.2, max_depth= 4, \n",
    "                                            min_child_weight= 4, subsample= 1, tree_method= 'hist')), \n",
    "                 ('Gradient_model',GradientBoostingClassifier(n_estimators = 150, max_depth = 10, random_state = 10)),\n",
    "                 ('KNN_model', KNeighborsClassifier(n_neighbors = 23, metric = 'manhattan')),\n",
    "                 ('NB_model', GaussianNB())]\n",
    "\n",
    "# initialize stacking classifier \n",
    "# pass the base learners to the parameter, 'estimators'\n",
    "# pass the Naive Bayes model as the 'final_estimator'/ meta model\n",
    "stack_model = StackingClassifier(estimators = base_learners, final_estimator = XGBClassifier())\n",
    "\n",
    "# fit the model on train dataset\n",
    "stack_model.fit(X_train, y_train)"
   ]
  },
  {
   "cell_type": "markdown",
   "id": "91118503",
   "metadata": {
    "id": "kg_vZbU2EjY9"
   },
   "source": [
    "#### Plot the confusion matrix."
   ]
  },
  {
   "cell_type": "code",
   "execution_count": 34,
   "id": "1a27384f",
   "metadata": {
    "id": "9oJRHgFPEjY-",
    "outputId": "63bc278a-b11f-4b13-eaf4-2521c340b725"
   },
   "outputs": [
    {
     "data": {
      "image/png": "[encoded data removed]",
      "text/plain": [
       "<Figure size 432x288 with 1 Axes>"
      ]
     },
     "metadata": {
      "needs_background": "light"
     },
     "output_type": "display_data"
    }
   ],
   "source": [
    "# call the function to plot the confusion matrix\n",
    "# pass the stack model to the function\n",
    "plot_confusion_matrix(stack_model)"
   ]
  },
  {
   "cell_type": "markdown",
   "id": "5da73d02",
   "metadata": {
    "id": "fc7n8zqbEjY_"
   },
   "source": [
    "**Calculate performance measures on the test set.**"
   ]
  },
  {
   "cell_type": "code",
   "execution_count": 35,
   "id": "f74e7b7c",
   "metadata": {
    "id": "QJIc1sBLEjZA",
    "outputId": "a0d2f695-ad4f-47d5-a86d-8d93cedb3c22",
    "scrolled": false
   },
   "outputs": [
    {
     "name": "stdout",
     "output_type": "stream",
     "text": [
      "              precision    recall  f1-score   support\n",
      "\n",
      "           0       0.73      0.94      0.83     10888\n",
      "           1       0.53      0.16      0.25      4427\n",
      "\n",
      "    accuracy                           0.72     15315\n",
      "   macro avg       0.63      0.55      0.54     15315\n",
      "weighted avg       0.68      0.72      0.66     15315\n",
      "\n"
     ]
    }
   ],
   "source": [
    "# compute the performance measures on test data\n",
    "# call the function 'get_test_report'\n",
    "# pass the XGBoost model to the function\n",
    "test_report = get_test_report(stack_model)\n",
    "\n",
    "# print the performance measures\n",
    "print(test_report)"
   ]
  },
  {
   "cell_type": "code",
   "execution_count": 61,
   "id": "d4495a13",
   "metadata": {},
   "outputs": [
    {
     "data": {
      "text/plain": [
       "0.7287585357662599"
      ]
     },
     "execution_count": 61,
     "metadata": {},
     "output_type": "execute_result"
    }
   ],
   "source": [
    "stack_model.score(X_train,y_train)"
   ]
  },
  {
   "cell_type": "code",
   "execution_count": 36,
   "id": "98b73e67",
   "metadata": {},
   "outputs": [
    {
     "data": {
      "text/plain": [
       "0.7164871041462618"
      ]
     },
     "execution_count": 36,
     "metadata": {},
     "output_type": "execute_result"
    }
   ],
   "source": [
    "stack_model.score(X_test,y_test)"
   ]
  },
  {
   "cell_type": "markdown",
   "id": "53c8258e",
   "metadata": {
    "id": "MDgY1BSVEjZB"
   },
   "source": [
    "**Interpretation:** The above output shows that the f1-score and accuracy of the model is 0.86"
   ]
  },
  {
   "cell_type": "markdown",
   "id": "82ccd0d6",
   "metadata": {
    "id": "3BuJLhPmEjZD"
   },
   "source": [
    "#### Plot the ROC curve."
   ]
  },
  {
   "cell_type": "code",
   "execution_count": 37,
   "id": "a1f68c2e",
   "metadata": {
    "id": "bB6Ja7gIEjZE",
    "outputId": "5704247e-b3c4-4fc0-aaeb-ec148a0f6c3a",
    "scrolled": false
   },
   "outputs": [
    {
     "data": {
      "image/png": "[encoded data removed]",
      "text/plain": [
       "<Figure size 432x288 with 1 Axes>"
      ]
     },
     "metadata": {
      "needs_background": "light"
     },
     "output_type": "display_data"
    }
   ],
   "source": [
    "# call the function to plot the ROC curve\n",
    "# pass the stack model to the function\n",
    "plot_roc(stack_model)"
   ]
  },
  {
   "cell_type": "markdown",
   "id": "d60ba546",
   "metadata": {
    "id": "ixFvz8DKEjZF"
   },
   "source": [
    "**Interpretation:** The red dotted line represents the ROC curve of a purely random classifier; a good classifier stays as far away from that line as possible (toward the top-left corner).<br>\n",
    "From the above plot, we can see that the stacking model is away from the dotted line; with the AUC score 0.9492."
   ]
  },
  {
   "cell_type": "markdown",
   "id": "eb8525bf",
   "metadata": {
    "id": "mT4v4MvCEjYk"
   },
   "source": [
    "<a id=\"stack\"></a>\n",
    "# 4. Stack Generalization  3"
   ]
  },
  {
   "cell_type": "markdown",
   "id": "0697aaf0",
   "metadata": {
    "id": "bPlXGw7JEjY6"
   },
   "source": [
    "#### Build the stacking classifier using the Random forest, KNN and Naive bayes as base learners (consider the hyperparameters tuned using GridSearchCV in the previous sessions)."
   ]
  },
  {
   "cell_type": "code",
   "execution_count": 38,
   "id": "3bcd7c16",
   "metadata": {
    "id": "40adEGSyEjY7",
    "outputId": "c989c64c-00ad-43e5-a18a-336092790bb6"
   },
   "outputs": [
    {
     "ename": "TypeError",
     "evalue": "__init__() got an unexpected keyword argument 'cv'",
     "output_type": "error",
     "traceback": [
      "\u001b[1;31m---------------------------------------------------------------------------\u001b[0m",
      "\u001b[1;31mTypeError\u001b[0m                                 Traceback (most recent call last)",
      "File \u001b[1;32m<timed exec>:6\u001b[0m, in \u001b[0;36m<module>\u001b[1;34m\u001b[0m\n",
      "\u001b[1;31mTypeError\u001b[0m: __init__() got an unexpected keyword argument 'cv'"
     ]
    }
   ],
   "source": [
    "%%time\n",
    "# consider the various algorithms as base learners\n",
    "base_learners = [('rf_model', RandomForestClassifier(criterion='gini', max_depth= 10, max_features= 'sqrt', \n",
    "                                                     max_leaf_nodes= 11, min_samples_leaf= 5, min_samples_split=2, n_estimators= 50)),\n",
    "                 ('xgb_model',XGBClassifier(colsample_bytree= 1, gamma= 1, learning_rate= 0.2, max_depth= 4, \n",
    "                                            min_child_weight= 4, subsample= 1, tree_method= 'hist')), \n",
    "                 ('Gradient_model',GradientBoostingClassifier(n_estimators = 150, max_depth = 10, random_state = 10)),\n",
    "                 ('KNN_model', KNeighborsClassifier(n_neighbors = 23, metric = 'manhattan')),\n",
    "                 ('NB_model', GaussianNB())]\n",
    "\n",
    "# initialize stacking classifier \n",
    "# pass the base learners to the parameter, 'estimators'\n",
    "# pass the Naive Bayes model as the 'final_estimator'/ meta model\n",
    "stack_model = StackingClassifier(estimators = base_learners, final_estimator = XGBClassifier())\n",
    "\n",
    "# fit the model on train dataset\n",
    "stack_model.fit(X_train, y_train)"
   ]
  },
  {
   "cell_type": "markdown",
   "id": "454e3986",
   "metadata": {
    "id": "kg_vZbU2EjY9"
   },
   "source": [
    "#### Plot the confusion matrix."
   ]
  },
  {
   "cell_type": "code",
   "execution_count": 59,
   "id": "a08a41b1",
   "metadata": {
    "id": "9oJRHgFPEjY-",
    "outputId": "63bc278a-b11f-4b13-eaf4-2521c340b725"
   },
   "outputs": [
    {
     "data": {
      "image/png": "[encoded data removed]",
      "text/plain": [
       "<Figure size 432x288 with 1 Axes>"
      ]
     },
     "metadata": {
      "needs_background": "light"
     },
     "output_type": "display_data"
    }
   ],
   "source": [
    "# call the function to plot the confusion matrix\n",
    "# pass the stack model to the function\n",
    "plot_confusion_matrix(stack_model)"
   ]
  },
  {
   "cell_type": "markdown",
   "id": "c564bb3d",
   "metadata": {
    "id": "fc7n8zqbEjY_"
   },
   "source": [
    "**Calculate performance measures on the test set.**"
   ]
  },
  {
   "cell_type": "code",
   "execution_count": 60,
   "id": "ca889888",
   "metadata": {
    "id": "QJIc1sBLEjZA",
    "outputId": "a0d2f695-ad4f-47d5-a86d-8d93cedb3c22",
    "scrolled": false
   },
   "outputs": [
    {
     "name": "stdout",
     "output_type": "stream",
     "text": [
      "              precision    recall  f1-score   support\n",
      "\n",
      "           0       0.75      0.85      0.80     10888\n",
      "           1       0.46      0.32      0.38      4427\n",
      "\n",
      "    accuracy                           0.70     15315\n",
      "   macro avg       0.61      0.59      0.59     15315\n",
      "weighted avg       0.67      0.70      0.68     15315\n",
      "\n"
     ]
    }
   ],
   "source": [
    "# compute the performance measures on test data\n",
    "# call the function 'get_test_report'\n",
    "# pass the XGBoost model to the function\n",
    "test_report = get_test_report(stack_model)\n",
    "\n",
    "# print the performance measures\n",
    "print(test_report)"
   ]
  },
  {
   "cell_type": "code",
   "execution_count": 61,
   "id": "c31a75d2",
   "metadata": {},
   "outputs": [
    {
     "data": {
      "text/plain": [
       "0.7287585357662599"
      ]
     },
     "execution_count": 61,
     "metadata": {},
     "output_type": "execute_result"
    }
   ],
   "source": [
    "stack_model.score(X_train,y_train)"
   ]
  },
  {
   "cell_type": "code",
   "execution_count": 62,
   "id": "7e037b93",
   "metadata": {},
   "outputs": [
    {
     "data": {
      "text/plain": [
       "0.6968984655566438"
      ]
     },
     "execution_count": 62,
     "metadata": {},
     "output_type": "execute_result"
    }
   ],
   "source": [
    "stack_model.score(X_test,y_test)"
   ]
  },
  {
   "cell_type": "markdown",
   "id": "aadc4709",
   "metadata": {
    "id": "MDgY1BSVEjZB"
   },
   "source": [
    "**Interpretation:** The above output shows that the f1-score and accuracy of the model is 0.86"
   ]
  },
  {
   "cell_type": "markdown",
   "id": "b04365b3",
   "metadata": {
    "id": "3BuJLhPmEjZD"
   },
   "source": [
    "#### Plot the ROC curve."
   ]
  },
  {
   "cell_type": "code",
   "execution_count": 63,
   "id": "d632295d",
   "metadata": {
    "id": "bB6Ja7gIEjZE",
    "outputId": "5704247e-b3c4-4fc0-aaeb-ec148a0f6c3a",
    "scrolled": false
   },
   "outputs": [
    {
     "data": {
      "image/png": "[encoded data removed]",
      "text/plain": [
       "<Figure size 432x288 with 1 Axes>"
      ]
     },
     "metadata": {
      "needs_background": "light"
     },
     "output_type": "display_data"
    }
   ],
   "source": [
    "# call the function to plot the ROC curve\n",
    "# pass the stack model to the function\n",
    "plot_roc(stack_model)"
   ]
  },
  {
   "cell_type": "markdown",
   "id": "c0b9be29",
   "metadata": {
    "id": "ixFvz8DKEjZF"
   },
   "source": [
    "**Interpretation:** The red dotted line represents the ROC curve of a purely random classifier; a good classifier stays as far away from that line as possible (toward the top-left corner).<br>\n",
    "From the above plot, we can see that the stacking model is away from the dotted line; with the AUC score 0.9492."
   ]
  },
  {
   "cell_type": "code",
   "execution_count": null,
   "id": "7a8e6ea9",
   "metadata": {},
   "outputs": [],
   "source": []
  },
  {
   "cell_type": "code",
   "execution_count": null,
   "id": "1b276f33",
   "metadata": {},
   "outputs": [],
   "source": []
  },
  {
   "cell_type": "code",
   "execution_count": null,
   "id": "73291fa1",
   "metadata": {},
   "outputs": [],
   "source": []
  }
 ],
 "metadata": {
  "kernelspec": {
   "display_name": "Python 3 (ipykernel)",
   "language": "python",
   "name": "python3"
  },
  "language_info": {
   "codemirror_mode": {
    "name": "ipython",
    "version": 3
   },
   "file_extension": ".py",
   "mimetype": "text/x-python",
   "name": "python",
   "nbconvert_exporter": "python",
   "pygments_lexer": "ipython3",
   "version": "3.9.7"
  }
 },
 "nbformat": 4,
 "nbformat_minor": 5
}
