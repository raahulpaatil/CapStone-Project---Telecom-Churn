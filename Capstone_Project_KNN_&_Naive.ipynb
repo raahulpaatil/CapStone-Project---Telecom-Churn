{
 "cells": [
  {
   "cell_type": "markdown",
   "id": "f509e6db",
   "metadata": {},
   "source": [
    "<table align=\"left\" width=100%>\n",
    "    <tr>\n",
    "        <td width=\"20%\">\n",
    "            <img src=\"GL-2.png\">\n",
    "        </td>\n",
    "        <td>\n",
    "            <div align=\"center\">\n",
    "                <font color=\"#21618C\" size=8px>\n",
    "                  <b> Capstone Project <br> Notebook_5  </b>\n",
    "                </font>\n",
    "            </div>\n",
    "        </td>\n",
    "    </tr>\n",
    "</table>"
   ]
  },
  {
   "cell_type": "code",
   "execution_count": 1,
   "id": "855b7ed9",
   "metadata": {},
   "outputs": [],
   "source": [
    "# import 'Pandas' \n",
    "import pandas as pd \n",
    "\n",
    "# import 'Numpy' \n",
    "import numpy as np\n",
    "\n",
    "# import subpackage of Matplotlib\n",
    "import matplotlib.pyplot as plt\n",
    "from matplotlib.colors import ListedColormap\n",
    "\n",
    "# import 'Seaborn' \n",
    "import seaborn as sns\n",
    "\n",
    "# to suppress warnings \n",
    "from warnings import filterwarnings\n",
    "filterwarnings('ignore')\n",
    "\n",
    "# display all columns of the dataframe\n",
    "pd.options.display.max_columns = None\n",
    "\n",
    "# display all rows of the dataframe\n",
    "pd.options.display.max_rows = None\n",
    " \n",
    "# to display the float values upto 6 decimal places     \n",
    "pd.options.display.float_format = '{:.6f}'.format\n",
    "\n",
    "# import train-test split \n",
    "from sklearn.model_selection import train_test_split\n",
    "\n",
    "# import functions to perform scaling and normalization\n",
    "from sklearn.preprocessing import StandardScaler \n",
    "from sklearn.preprocessing import MinMaxScaler\n",
    "\n",
    "import statsmodels\n",
    "import statsmodels.api as sm\n",
    "\n",
    "from sklearn.preprocessing import StandardScaler\n",
    "\n",
    "# import various functions from sklearn \n",
    "from sklearn import metrics\n",
    "from sklearn.metrics import classification_report\n",
    "from sklearn.metrics import confusion_matrix\n",
    "from sklearn.metrics import roc_curve\n",
    "from sklearn.metrics import roc_auc_score\n",
    "from sklearn.neighbors import KNeighborsClassifier\n",
    "from sklearn.naive_bayes import GaussianNB\n",
    "from sklearn.model_selection import GridSearchCV\n",
    "from sklearn.model_selection import cross_val_score "
   ]
  },
  {
   "cell_type": "code",
   "execution_count": 2,
   "id": "a472aee5",
   "metadata": {
    "scrolled": true
   },
   "outputs": [
    {
     "data": {
      "text/html": [
       "<div>\n",
       "<style scoped>\n",
       "    .dataframe tbody tr th:only-of-type {\n",
       "        vertical-align: middle;\n",
       "    }\n",
       "\n",
       "    .dataframe tbody tr th {\n",
       "        vertical-align: top;\n",
       "    }\n",
       "\n",
       "    .dataframe thead th {\n",
       "        text-align: right;\n",
       "    }\n",
       "</style>\n",
       "<table border=\"1\" class=\"dataframe\">\n",
       "  <thead>\n",
       "    <tr style=\"text-align: right;\">\n",
       "      <th></th>\n",
       "      <th>Churn</th>\n",
       "      <th>MonthlyRevenue</th>\n",
       "      <th>MonthlyMinutes</th>\n",
       "      <th>TotalRecurringCharge</th>\n",
       "      <th>DirectorAssistedCalls</th>\n",
       "      <th>OverageMinutes</th>\n",
       "      <th>RoamingCalls</th>\n",
       "      <th>PercChangeMinutes</th>\n",
       "      <th>PercChangeRevenues</th>\n",
       "      <th>DroppedCalls</th>\n",
       "      <th>BlockedCalls</th>\n",
       "      <th>UnansweredCalls</th>\n",
       "      <th>CustomerCareCalls</th>\n",
       "      <th>ThreewayCalls</th>\n",
       "      <th>ReceivedCalls</th>\n",
       "      <th>OutboundCalls</th>\n",
       "      <th>InboundCalls</th>\n",
       "      <th>PeakCallsInOut</th>\n",
       "      <th>OffPeakCallsInOut</th>\n",
       "      <th>DroppedBlockedCalls</th>\n",
       "      <th>CallForwardingCalls</th>\n",
       "      <th>CallWaitingCalls</th>\n",
       "      <th>MonthsInService</th>\n",
       "      <th>UniqueSubs</th>\n",
       "      <th>ActiveSubs</th>\n",
       "      <th>Handsets</th>\n",
       "      <th>HandsetModels</th>\n",
       "      <th>CurrentEquipmentDays</th>\n",
       "      <th>AgeHH1</th>\n",
       "      <th>AgeHH2</th>\n",
       "      <th>ChildrenInHH</th>\n",
       "      <th>HandsetRefurbished</th>\n",
       "      <th>HandsetWebCapable</th>\n",
       "      <th>TruckOwner</th>\n",
       "      <th>RVOwner</th>\n",
       "      <th>Homeownership</th>\n",
       "      <th>BuysViaMailOrder</th>\n",
       "      <th>RespondsToMailOffers</th>\n",
       "      <th>OptOutMailings</th>\n",
       "      <th>NonUSTravel</th>\n",
       "      <th>OwnsComputer</th>\n",
       "      <th>HasCreditCard</th>\n",
       "      <th>RetentionCalls</th>\n",
       "      <th>RetentionOffersAccepted</th>\n",
       "      <th>NewCellphoneUser</th>\n",
       "      <th>NotNewCellphoneUser</th>\n",
       "      <th>ReferralsMadeBySubscriber</th>\n",
       "      <th>IncomeGroup</th>\n",
       "      <th>OwnsMotorcycle</th>\n",
       "      <th>AdjustmentsToCreditRating</th>\n",
       "      <th>HandsetPrice</th>\n",
       "      <th>MadeCallToRetentionTeam</th>\n",
       "      <th>CreditRating</th>\n",
       "      <th>PrizmCode</th>\n",
       "      <th>Occupation</th>\n",
       "      <th>MaritalStatus</th>\n",
       "    </tr>\n",
       "  </thead>\n",
       "  <tbody>\n",
       "    <tr>\n",
       "      <th>0</th>\n",
       "      <td>Yes</td>\n",
       "      <td>24.000000</td>\n",
       "      <td>219.000000</td>\n",
       "      <td>22.000000</td>\n",
       "      <td>0.250000</td>\n",
       "      <td>0.000000</td>\n",
       "      <td>0.000000</td>\n",
       "      <td>-157.000000</td>\n",
       "      <td>-19.000000</td>\n",
       "      <td>0.700000</td>\n",
       "      <td>0.700000</td>\n",
       "      <td>6.300000</td>\n",
       "      <td>0.000000</td>\n",
       "      <td>0.000000</td>\n",
       "      <td>97.200000</td>\n",
       "      <td>0.000000</td>\n",
       "      <td>0.000000</td>\n",
       "      <td>58.000000</td>\n",
       "      <td>24.000000</td>\n",
       "      <td>1.300000</td>\n",
       "      <td>0.000000</td>\n",
       "      <td>0.300000</td>\n",
       "      <td>61</td>\n",
       "      <td>2</td>\n",
       "      <td>1</td>\n",
       "      <td>2.000000</td>\n",
       "      <td>2.000000</td>\n",
       "      <td>361.000000</td>\n",
       "      <td>62.000000</td>\n",
       "      <td>0.000000</td>\n",
       "      <td>No</td>\n",
       "      <td>No</td>\n",
       "      <td>Yes</td>\n",
       "      <td>No</td>\n",
       "      <td>No</td>\n",
       "      <td>Known</td>\n",
       "      <td>Yes</td>\n",
       "      <td>Yes</td>\n",
       "      <td>No</td>\n",
       "      <td>No</td>\n",
       "      <td>Yes</td>\n",
       "      <td>Yes</td>\n",
       "      <td>1</td>\n",
       "      <td>0</td>\n",
       "      <td>No</td>\n",
       "      <td>No</td>\n",
       "      <td>0</td>\n",
       "      <td>4</td>\n",
       "      <td>No</td>\n",
       "      <td>0</td>\n",
       "      <td>30.000000</td>\n",
       "      <td>Yes</td>\n",
       "      <td>Highest</td>\n",
       "      <td>Suburban</td>\n",
       "      <td>Professional</td>\n",
       "      <td>No</td>\n",
       "    </tr>\n",
       "    <tr>\n",
       "      <th>1</th>\n",
       "      <td>Yes</td>\n",
       "      <td>16.990000</td>\n",
       "      <td>10.000000</td>\n",
       "      <td>17.000000</td>\n",
       "      <td>0.000000</td>\n",
       "      <td>0.000000</td>\n",
       "      <td>0.000000</td>\n",
       "      <td>-4.000000</td>\n",
       "      <td>0.000000</td>\n",
       "      <td>0.300000</td>\n",
       "      <td>0.000000</td>\n",
       "      <td>2.700000</td>\n",
       "      <td>0.000000</td>\n",
       "      <td>0.000000</td>\n",
       "      <td>0.000000</td>\n",
       "      <td>0.000000</td>\n",
       "      <td>0.000000</td>\n",
       "      <td>5.000000</td>\n",
       "      <td>1.000000</td>\n",
       "      <td>0.300000</td>\n",
       "      <td>0.000000</td>\n",
       "      <td>0.000000</td>\n",
       "      <td>58</td>\n",
       "      <td>1</td>\n",
       "      <td>1</td>\n",
       "      <td>2.000000</td>\n",
       "      <td>1.000000</td>\n",
       "      <td>1504.000000</td>\n",
       "      <td>40.000000</td>\n",
       "      <td>42.000000</td>\n",
       "      <td>Yes</td>\n",
       "      <td>No</td>\n",
       "      <td>No</td>\n",
       "      <td>No</td>\n",
       "      <td>No</td>\n",
       "      <td>Known</td>\n",
       "      <td>Yes</td>\n",
       "      <td>Yes</td>\n",
       "      <td>No</td>\n",
       "      <td>No</td>\n",
       "      <td>Yes</td>\n",
       "      <td>Yes</td>\n",
       "      <td>0</td>\n",
       "      <td>0</td>\n",
       "      <td>Yes</td>\n",
       "      <td>No</td>\n",
       "      <td>0</td>\n",
       "      <td>5</td>\n",
       "      <td>No</td>\n",
       "      <td>0</td>\n",
       "      <td>30.000000</td>\n",
       "      <td>No</td>\n",
       "      <td>Medium</td>\n",
       "      <td>Suburban</td>\n",
       "      <td>Professional</td>\n",
       "      <td>Yes</td>\n",
       "    </tr>\n",
       "    <tr>\n",
       "      <th>2</th>\n",
       "      <td>No</td>\n",
       "      <td>38.000000</td>\n",
       "      <td>8.000000</td>\n",
       "      <td>38.000000</td>\n",
       "      <td>0.000000</td>\n",
       "      <td>0.000000</td>\n",
       "      <td>0.000000</td>\n",
       "      <td>-2.000000</td>\n",
       "      <td>0.000000</td>\n",
       "      <td>0.000000</td>\n",
       "      <td>0.000000</td>\n",
       "      <td>0.000000</td>\n",
       "      <td>0.000000</td>\n",
       "      <td>0.000000</td>\n",
       "      <td>0.400000</td>\n",
       "      <td>0.300000</td>\n",
       "      <td>0.000000</td>\n",
       "      <td>1.300000</td>\n",
       "      <td>3.700000</td>\n",
       "      <td>0.000000</td>\n",
       "      <td>0.000000</td>\n",
       "      <td>0.000000</td>\n",
       "      <td>60</td>\n",
       "      <td>1</td>\n",
       "      <td>1</td>\n",
       "      <td>1.000000</td>\n",
       "      <td>1.000000</td>\n",
       "      <td>1812.000000</td>\n",
       "      <td>26.000000</td>\n",
       "      <td>26.000000</td>\n",
       "      <td>Yes</td>\n",
       "      <td>No</td>\n",
       "      <td>No</td>\n",
       "      <td>No</td>\n",
       "      <td>No</td>\n",
       "      <td>Unknown</td>\n",
       "      <td>No</td>\n",
       "      <td>No</td>\n",
       "      <td>No</td>\n",
       "      <td>No</td>\n",
       "      <td>No</td>\n",
       "      <td>Yes</td>\n",
       "      <td>0</td>\n",
       "      <td>0</td>\n",
       "      <td>Yes</td>\n",
       "      <td>No</td>\n",
       "      <td>0</td>\n",
       "      <td>6</td>\n",
       "      <td>No</td>\n",
       "      <td>0</td>\n",
       "      <td>82.086412</td>\n",
       "      <td>No</td>\n",
       "      <td>Medium</td>\n",
       "      <td>Town</td>\n",
       "      <td>Professional</td>\n",
       "      <td>Yes</td>\n",
       "    </tr>\n",
       "    <tr>\n",
       "      <th>3</th>\n",
       "      <td>No</td>\n",
       "      <td>82.280000</td>\n",
       "      <td>1312.000000</td>\n",
       "      <td>75.000000</td>\n",
       "      <td>1.240000</td>\n",
       "      <td>0.000000</td>\n",
       "      <td>0.000000</td>\n",
       "      <td>157.000000</td>\n",
       "      <td>8.100000</td>\n",
       "      <td>52.000000</td>\n",
       "      <td>7.700000</td>\n",
       "      <td>76.000000</td>\n",
       "      <td>4.300000</td>\n",
       "      <td>1.300000</td>\n",
       "      <td>200.300000</td>\n",
       "      <td>370.300000</td>\n",
       "      <td>147.000000</td>\n",
       "      <td>555.700000</td>\n",
       "      <td>303.700000</td>\n",
       "      <td>59.700000</td>\n",
       "      <td>0.000000</td>\n",
       "      <td>22.700000</td>\n",
       "      <td>59</td>\n",
       "      <td>2</td>\n",
       "      <td>2</td>\n",
       "      <td>9.000000</td>\n",
       "      <td>4.000000</td>\n",
       "      <td>458.000000</td>\n",
       "      <td>30.000000</td>\n",
       "      <td>0.000000</td>\n",
       "      <td>No</td>\n",
       "      <td>No</td>\n",
       "      <td>Yes</td>\n",
       "      <td>No</td>\n",
       "      <td>No</td>\n",
       "      <td>Known</td>\n",
       "      <td>Yes</td>\n",
       "      <td>Yes</td>\n",
       "      <td>No</td>\n",
       "      <td>No</td>\n",
       "      <td>No</td>\n",
       "      <td>Yes</td>\n",
       "      <td>0</td>\n",
       "      <td>0</td>\n",
       "      <td>Yes</td>\n",
       "      <td>No</td>\n",
       "      <td>0</td>\n",
       "      <td>6</td>\n",
       "      <td>No</td>\n",
       "      <td>0</td>\n",
       "      <td>10.000000</td>\n",
       "      <td>No</td>\n",
       "      <td>Medium</td>\n",
       "      <td>Other</td>\n",
       "      <td>Other</td>\n",
       "      <td>No</td>\n",
       "    </tr>\n",
       "    <tr>\n",
       "      <th>4</th>\n",
       "      <td>Yes</td>\n",
       "      <td>17.140000</td>\n",
       "      <td>0.000000</td>\n",
       "      <td>17.000000</td>\n",
       "      <td>0.000000</td>\n",
       "      <td>0.000000</td>\n",
       "      <td>0.000000</td>\n",
       "      <td>0.000000</td>\n",
       "      <td>-0.200000</td>\n",
       "      <td>0.000000</td>\n",
       "      <td>0.000000</td>\n",
       "      <td>0.000000</td>\n",
       "      <td>0.000000</td>\n",
       "      <td>0.000000</td>\n",
       "      <td>0.000000</td>\n",
       "      <td>0.000000</td>\n",
       "      <td>0.000000</td>\n",
       "      <td>0.000000</td>\n",
       "      <td>0.000000</td>\n",
       "      <td>0.000000</td>\n",
       "      <td>0.000000</td>\n",
       "      <td>0.000000</td>\n",
       "      <td>53</td>\n",
       "      <td>2</td>\n",
       "      <td>2</td>\n",
       "      <td>4.000000</td>\n",
       "      <td>3.000000</td>\n",
       "      <td>852.000000</td>\n",
       "      <td>46.000000</td>\n",
       "      <td>54.000000</td>\n",
       "      <td>No</td>\n",
       "      <td>No</td>\n",
       "      <td>No</td>\n",
       "      <td>No</td>\n",
       "      <td>No</td>\n",
       "      <td>Known</td>\n",
       "      <td>Yes</td>\n",
       "      <td>Yes</td>\n",
       "      <td>No</td>\n",
       "      <td>No</td>\n",
       "      <td>Yes</td>\n",
       "      <td>Yes</td>\n",
       "      <td>0</td>\n",
       "      <td>0</td>\n",
       "      <td>No</td>\n",
       "      <td>Yes</td>\n",
       "      <td>0</td>\n",
       "      <td>9</td>\n",
       "      <td>No</td>\n",
       "      <td>1</td>\n",
       "      <td>10.000000</td>\n",
       "      <td>No</td>\n",
       "      <td>Highest</td>\n",
       "      <td>Other</td>\n",
       "      <td>Professional</td>\n",
       "      <td>Yes</td>\n",
       "    </tr>\n",
       "  </tbody>\n",
       "</table>\n",
       "</div>"
      ],
      "text/plain": [
       "  Churn  MonthlyRevenue  MonthlyMinutes  TotalRecurringCharge  \\\n",
       "0   Yes       24.000000      219.000000             22.000000   \n",
       "1   Yes       16.990000       10.000000             17.000000   \n",
       "2    No       38.000000        8.000000             38.000000   \n",
       "3    No       82.280000     1312.000000             75.000000   \n",
       "4   Yes       17.140000        0.000000             17.000000   \n",
       "\n",
       "   DirectorAssistedCalls  OverageMinutes  RoamingCalls  PercChangeMinutes  \\\n",
       "0               0.250000        0.000000      0.000000        -157.000000   \n",
       "1               0.000000        0.000000      0.000000          -4.000000   \n",
       "2               0.000000        0.000000      0.000000          -2.000000   \n",
       "3               1.240000        0.000000      0.000000         157.000000   \n",
       "4               0.000000        0.000000      0.000000           0.000000   \n",
       "\n",
       "   PercChangeRevenues  DroppedCalls  BlockedCalls  UnansweredCalls  \\\n",
       "0          -19.000000      0.700000      0.700000         6.300000   \n",
       "1            0.000000      0.300000      0.000000         2.700000   \n",
       "2            0.000000      0.000000      0.000000         0.000000   \n",
       "3            8.100000     52.000000      7.700000        76.000000   \n",
       "4           -0.200000      0.000000      0.000000         0.000000   \n",
       "\n",
       "   CustomerCareCalls  ThreewayCalls  ReceivedCalls  OutboundCalls  \\\n",
       "0           0.000000       0.000000      97.200000       0.000000   \n",
       "1           0.000000       0.000000       0.000000       0.000000   \n",
       "2           0.000000       0.000000       0.400000       0.300000   \n",
       "3           4.300000       1.300000     200.300000     370.300000   \n",
       "4           0.000000       0.000000       0.000000       0.000000   \n",
       "\n",
       "   InboundCalls  PeakCallsInOut  OffPeakCallsInOut  DroppedBlockedCalls  \\\n",
       "0      0.000000       58.000000          24.000000             1.300000   \n",
       "1      0.000000        5.000000           1.000000             0.300000   \n",
       "2      0.000000        1.300000           3.700000             0.000000   \n",
       "3    147.000000      555.700000         303.700000            59.700000   \n",
       "4      0.000000        0.000000           0.000000             0.000000   \n",
       "\n",
       "   CallForwardingCalls  CallWaitingCalls  MonthsInService  UniqueSubs  \\\n",
       "0             0.000000          0.300000               61           2   \n",
       "1             0.000000          0.000000               58           1   \n",
       "2             0.000000          0.000000               60           1   \n",
       "3             0.000000         22.700000               59           2   \n",
       "4             0.000000          0.000000               53           2   \n",
       "\n",
       "   ActiveSubs  Handsets  HandsetModels  CurrentEquipmentDays    AgeHH1  \\\n",
       "0           1  2.000000       2.000000            361.000000 62.000000   \n",
       "1           1  2.000000       1.000000           1504.000000 40.000000   \n",
       "2           1  1.000000       1.000000           1812.000000 26.000000   \n",
       "3           2  9.000000       4.000000            458.000000 30.000000   \n",
       "4           2  4.000000       3.000000            852.000000 46.000000   \n",
       "\n",
       "     AgeHH2 ChildrenInHH HandsetRefurbished HandsetWebCapable TruckOwner  \\\n",
       "0  0.000000           No                 No               Yes         No   \n",
       "1 42.000000          Yes                 No                No         No   \n",
       "2 26.000000          Yes                 No                No         No   \n",
       "3  0.000000           No                 No               Yes         No   \n",
       "4 54.000000           No                 No                No         No   \n",
       "\n",
       "  RVOwner Homeownership BuysViaMailOrder RespondsToMailOffers OptOutMailings  \\\n",
       "0      No         Known              Yes                  Yes             No   \n",
       "1      No         Known              Yes                  Yes             No   \n",
       "2      No       Unknown               No                   No             No   \n",
       "3      No         Known              Yes                  Yes             No   \n",
       "4      No         Known              Yes                  Yes             No   \n",
       "\n",
       "  NonUSTravel OwnsComputer HasCreditCard  RetentionCalls  \\\n",
       "0          No          Yes           Yes               1   \n",
       "1          No          Yes           Yes               0   \n",
       "2          No           No           Yes               0   \n",
       "3          No           No           Yes               0   \n",
       "4          No          Yes           Yes               0   \n",
       "\n",
       "   RetentionOffersAccepted NewCellphoneUser NotNewCellphoneUser  \\\n",
       "0                        0               No                  No   \n",
       "1                        0              Yes                  No   \n",
       "2                        0              Yes                  No   \n",
       "3                        0              Yes                  No   \n",
       "4                        0               No                 Yes   \n",
       "\n",
       "   ReferralsMadeBySubscriber  IncomeGroup OwnsMotorcycle  \\\n",
       "0                          0            4             No   \n",
       "1                          0            5             No   \n",
       "2                          0            6             No   \n",
       "3                          0            6             No   \n",
       "4                          0            9             No   \n",
       "\n",
       "   AdjustmentsToCreditRating  HandsetPrice MadeCallToRetentionTeam  \\\n",
       "0                          0     30.000000                     Yes   \n",
       "1                          0     30.000000                      No   \n",
       "2                          0     82.086412                      No   \n",
       "3                          0     10.000000                      No   \n",
       "4                          1     10.000000                      No   \n",
       "\n",
       "  CreditRating PrizmCode    Occupation MaritalStatus  \n",
       "0      Highest  Suburban  Professional            No  \n",
       "1       Medium  Suburban  Professional           Yes  \n",
       "2       Medium      Town  Professional           Yes  \n",
       "3       Medium     Other         Other            No  \n",
       "4      Highest     Other  Professional           Yes  "
      ]
     },
     "execution_count": 2,
     "metadata": {},
     "output_type": "execute_result"
    }
   ],
   "source": [
    "df = pd.read_csv('data1.csv',index_col=0)\n",
    "df.head()"
   ]
  },
  {
   "cell_type": "code",
   "execution_count": 3,
   "id": "a86d6210",
   "metadata": {},
   "outputs": [],
   "source": [
    "df.reset_index(inplace=True, drop=True)"
   ]
  },
  {
   "cell_type": "markdown",
   "id": "4af9b29c",
   "metadata": {},
   "source": [
    "### Split the dependent and independent variables"
   ]
  },
  {
   "cell_type": "code",
   "execution_count": 4,
   "id": "e22d9e16",
   "metadata": {},
   "outputs": [],
   "source": [
    "# store the target variable 'Loan Status' in a dataframe 'df_target'\n",
    "df_target = df['Churn']\n",
    "\n",
    "# store all the independent variables in a dataframe 'df_feature' \n",
    "# drop the column 'Loan Status' using drop()\n",
    "# 'axis = 1' drops the specified column\n",
    "df_features = df.drop('Churn', axis = 1)"
   ]
  },
  {
   "cell_type": "code",
   "execution_count": 5,
   "id": "20578c4b",
   "metadata": {},
   "outputs": [
    {
     "data": {
      "text/plain": [
       "No     36336\n",
       "Yes    14711\n",
       "Name: Churn, dtype: int64"
      ]
     },
     "execution_count": 5,
     "metadata": {},
     "output_type": "execute_result"
    }
   ],
   "source": [
    "df_target.value_counts()"
   ]
  },
  {
   "cell_type": "code",
   "execution_count": 6,
   "id": "b52497d5",
   "metadata": {},
   "outputs": [],
   "source": [
    "for i in range(len(df_target)):\n",
    "    if df_target[i] == 'Yes':\n",
    "        df_target[i] = 1\n",
    "    else:\n",
    "        df_target[i] = 0 "
   ]
  },
  {
   "cell_type": "code",
   "execution_count": 7,
   "id": "3392b837",
   "metadata": {},
   "outputs": [],
   "source": [
    "df_target = df_target.astype(int)"
   ]
  },
  {
   "cell_type": "code",
   "execution_count": 8,
   "id": "087732bc",
   "metadata": {},
   "outputs": [
    {
     "data": {
      "text/plain": [
       "0    36336\n",
       "1    14711\n",
       "Name: Churn, dtype: int64"
      ]
     },
     "execution_count": 8,
     "metadata": {},
     "output_type": "execute_result"
    }
   ],
   "source": [
    "df_target.value_counts()"
   ]
  },
  {
   "cell_type": "markdown",
   "id": "551e17ff",
   "metadata": {},
   "source": [
    "## Distribution of dependent variable."
   ]
  },
  {
   "cell_type": "code",
   "execution_count": 9,
   "id": "bcefbe09",
   "metadata": {},
   "outputs": [
    {
     "data": {
      "image/png": "[encoded data removed]",
      "text/plain": [
       "<Figure size 432x288 with 1 Axes>"
      ]
     },
     "metadata": {
      "needs_background": "light"
     },
     "output_type": "display_data"
    }
   ],
   "source": [
    "# get counts of 0's and 1's in the 'Loan Status' variable\n",
    "df_target.value_counts()\n",
    "\n",
    "# plot the countplot of the variable 'Loan Status'\n",
    "sns.countplot(x = df_target)\n",
    "\n",
    "# use below code to print the values in the graph\n",
    "# 'x' and 'y' gives position of the text\n",
    "# 's' is the text \n",
    "plt.text(x = -0.05, y = df_target.value_counts()[0] + 1, s = str(round((df_target.value_counts()[0])*100/len(df_target),2)) + '%')\n",
    "plt.text(x = 0.95, y = df_target.value_counts()[1] +1, s = str(round((df_target.value_counts()[1])*100/len(df_target),2)) + '%')\n",
    "\n",
    "# add plot and axes labels\n",
    "# set text size using 'fontsize'\n",
    "plt.title('Count Plot for Target Variable ', fontsize = 15)\n",
    "plt.xlabel('Target Variable', fontsize = 15)\n",
    "plt.ylabel('Count', fontsize = 15)\n",
    "\n",
    "# to show the plot\n",
    "plt.show()"
   ]
  },
  {
   "cell_type": "markdown",
   "id": "357c28e2",
   "metadata": {},
   "source": [
    "## Filter numerical and categorical variables."
   ]
  },
  {
   "cell_type": "code",
   "execution_count": 10,
   "id": "c0033e64",
   "metadata": {},
   "outputs": [
    {
     "data": {
      "text/plain": [
       "Index(['MonthlyRevenue', 'MonthlyMinutes', 'TotalRecurringCharge',\n",
       "       'DirectorAssistedCalls', 'OverageMinutes', 'RoamingCalls',\n",
       "       'PercChangeMinutes', 'PercChangeRevenues', 'DroppedCalls',\n",
       "       'BlockedCalls', 'UnansweredCalls', 'CustomerCareCalls', 'ThreewayCalls',\n",
       "       'ReceivedCalls', 'OutboundCalls', 'InboundCalls', 'PeakCallsInOut',\n",
       "       'OffPeakCallsInOut', 'DroppedBlockedCalls', 'CallForwardingCalls',\n",
       "       'CallWaitingCalls', 'MonthsInService', 'UniqueSubs', 'ActiveSubs',\n",
       "       'Handsets', 'HandsetModels', 'CurrentEquipmentDays', 'AgeHH1', 'AgeHH2',\n",
       "       'RetentionCalls', 'RetentionOffersAccepted',\n",
       "       'ReferralsMadeBySubscriber', 'IncomeGroup', 'AdjustmentsToCreditRating',\n",
       "       'HandsetPrice'],\n",
       "      dtype='object')"
      ]
     },
     "execution_count": 10,
     "metadata": {},
     "output_type": "execute_result"
    }
   ],
   "source": [
    "# filter the numerical features in the dataset\n",
    "# 'select_dtypes' is used to select the variables with given data type\n",
    "# 'include = [np.number]' will include all the numerical variables\n",
    "num_f = df_features.select_dtypes(include=[np.number])\n",
    "\n",
    "# display numerical features\n",
    "num_f.columns"
   ]
  },
  {
   "cell_type": "code",
   "execution_count": 11,
   "id": "2cdd045d",
   "metadata": {},
   "outputs": [
    {
     "data": {
      "text/plain": [
       "Index(['ChildrenInHH', 'HandsetRefurbished', 'HandsetWebCapable', 'TruckOwner',\n",
       "       'RVOwner', 'Homeownership', 'BuysViaMailOrder', 'RespondsToMailOffers',\n",
       "       'OptOutMailings', 'NonUSTravel', 'OwnsComputer', 'HasCreditCard',\n",
       "       'NewCellphoneUser', 'NotNewCellphoneUser', 'OwnsMotorcycle',\n",
       "       'MadeCallToRetentionTeam', 'CreditRating', 'PrizmCode', 'Occupation',\n",
       "       'MaritalStatus'],\n",
       "      dtype='object')"
      ]
     },
     "execution_count": 11,
     "metadata": {},
     "output_type": "execute_result"
    }
   ],
   "source": [
    "# filter the categorical features in the dataset\n",
    "# 'select_dtypes' is used to select the variables with given data type\n",
    "# 'include = [np.object]' will include all the categorical variables\n",
    "cat_f = df_features.select_dtypes(exclude=[np.number])\n",
    "\n",
    "# display categorical features\n",
    "cat_f.columns"
   ]
  },
  {
   "cell_type": "markdown",
   "id": "a2ff8d85",
   "metadata": {},
   "source": [
    "## Encoding the Categorical Variables"
   ]
  },
  {
   "cell_type": "code",
   "execution_count": 12,
   "id": "b7615dfc",
   "metadata": {},
   "outputs": [
    {
     "data": {
      "text/plain": [
       "Index(['ChildrenInHH', 'HandsetRefurbished', 'HandsetWebCapable', 'TruckOwner',\n",
       "       'RVOwner', 'Homeownership', 'BuysViaMailOrder', 'RespondsToMailOffers',\n",
       "       'OptOutMailings', 'NonUSTravel', 'OwnsComputer', 'HasCreditCard',\n",
       "       'NewCellphoneUser', 'NotNewCellphoneUser', 'OwnsMotorcycle',\n",
       "       'MadeCallToRetentionTeam', 'CreditRating', 'PrizmCode', 'Occupation',\n",
       "       'MaritalStatus'],\n",
       "      dtype='object')"
      ]
     },
     "execution_count": 12,
     "metadata": {},
     "output_type": "execute_result"
    }
   ],
   "source": [
    "cat=df_features.select_dtypes(include='object').columns\n",
    "cat"
   ]
  },
  {
   "cell_type": "code",
   "execution_count": 13,
   "id": "1c8189b2",
   "metadata": {},
   "outputs": [],
   "source": [
    "from sklearn.preprocessing import OrdinalEncoder\n",
    "enc = OrdinalEncoder()\n",
    "cat_f[cat]=enc.fit_transform(cat_f[cat])"
   ]
  },
  {
   "cell_type": "code",
   "execution_count": 14,
   "id": "e2c0c4c4",
   "metadata": {},
   "outputs": [
    {
     "data": {
      "text/html": [
       "<div>\n",
       "<style scoped>\n",
       "    .dataframe tbody tr th:only-of-type {\n",
       "        vertical-align: middle;\n",
       "    }\n",
       "\n",
       "    .dataframe tbody tr th {\n",
       "        vertical-align: top;\n",
       "    }\n",
       "\n",
       "    .dataframe thead th {\n",
       "        text-align: right;\n",
       "    }\n",
       "</style>\n",
       "<table border=\"1\" class=\"dataframe\">\n",
       "  <thead>\n",
       "    <tr style=\"text-align: right;\">\n",
       "      <th></th>\n",
       "      <th>ChildrenInHH</th>\n",
       "      <th>HandsetRefurbished</th>\n",
       "      <th>HandsetWebCapable</th>\n",
       "      <th>TruckOwner</th>\n",
       "      <th>RVOwner</th>\n",
       "      <th>Homeownership</th>\n",
       "      <th>BuysViaMailOrder</th>\n",
       "      <th>RespondsToMailOffers</th>\n",
       "      <th>OptOutMailings</th>\n",
       "      <th>NonUSTravel</th>\n",
       "      <th>OwnsComputer</th>\n",
       "      <th>HasCreditCard</th>\n",
       "      <th>NewCellphoneUser</th>\n",
       "      <th>NotNewCellphoneUser</th>\n",
       "      <th>OwnsMotorcycle</th>\n",
       "      <th>MadeCallToRetentionTeam</th>\n",
       "      <th>CreditRating</th>\n",
       "      <th>PrizmCode</th>\n",
       "      <th>Occupation</th>\n",
       "      <th>MaritalStatus</th>\n",
       "    </tr>\n",
       "  </thead>\n",
       "  <tbody>\n",
       "    <tr>\n",
       "      <th>0</th>\n",
       "      <td>0.000000</td>\n",
       "      <td>0.000000</td>\n",
       "      <td>1.000000</td>\n",
       "      <td>0.000000</td>\n",
       "      <td>0.000000</td>\n",
       "      <td>0.000000</td>\n",
       "      <td>1.000000</td>\n",
       "      <td>1.000000</td>\n",
       "      <td>0.000000</td>\n",
       "      <td>0.000000</td>\n",
       "      <td>1.000000</td>\n",
       "      <td>1.000000</td>\n",
       "      <td>0.000000</td>\n",
       "      <td>0.000000</td>\n",
       "      <td>0.000000</td>\n",
       "      <td>1.000000</td>\n",
       "      <td>0.000000</td>\n",
       "      <td>2.000000</td>\n",
       "      <td>1.000000</td>\n",
       "      <td>0.000000</td>\n",
       "    </tr>\n",
       "    <tr>\n",
       "      <th>1</th>\n",
       "      <td>1.000000</td>\n",
       "      <td>0.000000</td>\n",
       "      <td>0.000000</td>\n",
       "      <td>0.000000</td>\n",
       "      <td>0.000000</td>\n",
       "      <td>0.000000</td>\n",
       "      <td>1.000000</td>\n",
       "      <td>1.000000</td>\n",
       "      <td>0.000000</td>\n",
       "      <td>0.000000</td>\n",
       "      <td>1.000000</td>\n",
       "      <td>1.000000</td>\n",
       "      <td>1.000000</td>\n",
       "      <td>0.000000</td>\n",
       "      <td>0.000000</td>\n",
       "      <td>0.000000</td>\n",
       "      <td>2.000000</td>\n",
       "      <td>2.000000</td>\n",
       "      <td>1.000000</td>\n",
       "      <td>2.000000</td>\n",
       "    </tr>\n",
       "    <tr>\n",
       "      <th>2</th>\n",
       "      <td>1.000000</td>\n",
       "      <td>0.000000</td>\n",
       "      <td>0.000000</td>\n",
       "      <td>0.000000</td>\n",
       "      <td>0.000000</td>\n",
       "      <td>1.000000</td>\n",
       "      <td>0.000000</td>\n",
       "      <td>0.000000</td>\n",
       "      <td>0.000000</td>\n",
       "      <td>0.000000</td>\n",
       "      <td>0.000000</td>\n",
       "      <td>1.000000</td>\n",
       "      <td>1.000000</td>\n",
       "      <td>0.000000</td>\n",
       "      <td>0.000000</td>\n",
       "      <td>0.000000</td>\n",
       "      <td>2.000000</td>\n",
       "      <td>3.000000</td>\n",
       "      <td>1.000000</td>\n",
       "      <td>2.000000</td>\n",
       "    </tr>\n",
       "    <tr>\n",
       "      <th>3</th>\n",
       "      <td>0.000000</td>\n",
       "      <td>0.000000</td>\n",
       "      <td>1.000000</td>\n",
       "      <td>0.000000</td>\n",
       "      <td>0.000000</td>\n",
       "      <td>0.000000</td>\n",
       "      <td>1.000000</td>\n",
       "      <td>1.000000</td>\n",
       "      <td>0.000000</td>\n",
       "      <td>0.000000</td>\n",
       "      <td>0.000000</td>\n",
       "      <td>1.000000</td>\n",
       "      <td>1.000000</td>\n",
       "      <td>0.000000</td>\n",
       "      <td>0.000000</td>\n",
       "      <td>0.000000</td>\n",
       "      <td>2.000000</td>\n",
       "      <td>0.000000</td>\n",
       "      <td>0.000000</td>\n",
       "      <td>0.000000</td>\n",
       "    </tr>\n",
       "    <tr>\n",
       "      <th>4</th>\n",
       "      <td>0.000000</td>\n",
       "      <td>0.000000</td>\n",
       "      <td>0.000000</td>\n",
       "      <td>0.000000</td>\n",
       "      <td>0.000000</td>\n",
       "      <td>0.000000</td>\n",
       "      <td>1.000000</td>\n",
       "      <td>1.000000</td>\n",
       "      <td>0.000000</td>\n",
       "      <td>0.000000</td>\n",
       "      <td>1.000000</td>\n",
       "      <td>1.000000</td>\n",
       "      <td>0.000000</td>\n",
       "      <td>1.000000</td>\n",
       "      <td>0.000000</td>\n",
       "      <td>0.000000</td>\n",
       "      <td>0.000000</td>\n",
       "      <td>0.000000</td>\n",
       "      <td>1.000000</td>\n",
       "      <td>2.000000</td>\n",
       "    </tr>\n",
       "  </tbody>\n",
       "</table>\n",
       "</div>"
      ],
      "text/plain": [
       "   ChildrenInHH  HandsetRefurbished  HandsetWebCapable  TruckOwner  RVOwner  \\\n",
       "0      0.000000            0.000000           1.000000    0.000000 0.000000   \n",
       "1      1.000000            0.000000           0.000000    0.000000 0.000000   \n",
       "2      1.000000            0.000000           0.000000    0.000000 0.000000   \n",
       "3      0.000000            0.000000           1.000000    0.000000 0.000000   \n",
       "4      0.000000            0.000000           0.000000    0.000000 0.000000   \n",
       "\n",
       "   Homeownership  BuysViaMailOrder  RespondsToMailOffers  OptOutMailings  \\\n",
       "0       0.000000          1.000000              1.000000        0.000000   \n",
       "1       0.000000          1.000000              1.000000        0.000000   \n",
       "2       1.000000          0.000000              0.000000        0.000000   \n",
       "3       0.000000          1.000000              1.000000        0.000000   \n",
       "4       0.000000          1.000000              1.000000        0.000000   \n",
       "\n",
       "   NonUSTravel  OwnsComputer  HasCreditCard  NewCellphoneUser  \\\n",
       "0     0.000000      1.000000       1.000000          0.000000   \n",
       "1     0.000000      1.000000       1.000000          1.000000   \n",
       "2     0.000000      0.000000       1.000000          1.000000   \n",
       "3     0.000000      0.000000       1.000000          1.000000   \n",
       "4     0.000000      1.000000       1.000000          0.000000   \n",
       "\n",
       "   NotNewCellphoneUser  OwnsMotorcycle  MadeCallToRetentionTeam  CreditRating  \\\n",
       "0             0.000000        0.000000                 1.000000      0.000000   \n",
       "1             0.000000        0.000000                 0.000000      2.000000   \n",
       "2             0.000000        0.000000                 0.000000      2.000000   \n",
       "3             0.000000        0.000000                 0.000000      2.000000   \n",
       "4             1.000000        0.000000                 0.000000      0.000000   \n",
       "\n",
       "   PrizmCode  Occupation  MaritalStatus  \n",
       "0   2.000000    1.000000       0.000000  \n",
       "1   2.000000    1.000000       2.000000  \n",
       "2   3.000000    1.000000       2.000000  \n",
       "3   0.000000    0.000000       0.000000  \n",
       "4   0.000000    1.000000       2.000000  "
      ]
     },
     "execution_count": 14,
     "metadata": {},
     "output_type": "execute_result"
    }
   ],
   "source": [
    "cat_f.head()"
   ]
  },
  {
   "cell_type": "code",
   "execution_count": 15,
   "id": "d6b6557e",
   "metadata": {},
   "outputs": [
    {
     "data": {
      "text/plain": [
       "(51047, 20)"
      ]
     },
     "execution_count": 15,
     "metadata": {},
     "output_type": "execute_result"
    }
   ],
   "source": [
    "cat_f.shape"
   ]
  },
  {
   "cell_type": "markdown",
   "id": "3b7a72b8",
   "metadata": {},
   "source": [
    "## POWER TRANSFORMATION"
   ]
  },
  {
   "cell_type": "markdown",
   "id": "9ff62b9a",
   "metadata": {},
   "source": [
    "As our data has both positive and negative values, we have used `yeo-johnson` power Transformation as it works for both."
   ]
  },
  {
   "cell_type": "code",
   "execution_count": 16,
   "id": "86bce2f5",
   "metadata": {},
   "outputs": [],
   "source": [
    "from sklearn.preprocessing import PowerTransformer\n",
    "PT=PowerTransformer()\n",
    "for i in num_f.columns:\n",
    "    num_f[i]=PT.fit_transform(num_f[[i]])"
   ]
  },
  {
   "cell_type": "code",
   "execution_count": 17,
   "id": "c6e55172",
   "metadata": {},
   "outputs": [
    {
     "data": {
      "text/html": [
       "<div>\n",
       "<style scoped>\n",
       "    .dataframe tbody tr th:only-of-type {\n",
       "        vertical-align: middle;\n",
       "    }\n",
       "\n",
       "    .dataframe tbody tr th {\n",
       "        vertical-align: top;\n",
       "    }\n",
       "\n",
       "    .dataframe thead th {\n",
       "        text-align: right;\n",
       "    }\n",
       "</style>\n",
       "<table border=\"1\" class=\"dataframe\">\n",
       "  <thead>\n",
       "    <tr style=\"text-align: right;\">\n",
       "      <th></th>\n",
       "      <th>MonthlyRevenue</th>\n",
       "      <th>MonthlyMinutes</th>\n",
       "      <th>TotalRecurringCharge</th>\n",
       "      <th>DirectorAssistedCalls</th>\n",
       "      <th>OverageMinutes</th>\n",
       "      <th>RoamingCalls</th>\n",
       "      <th>PercChangeMinutes</th>\n",
       "      <th>PercChangeRevenues</th>\n",
       "      <th>DroppedCalls</th>\n",
       "      <th>BlockedCalls</th>\n",
       "      <th>UnansweredCalls</th>\n",
       "      <th>CustomerCareCalls</th>\n",
       "      <th>ThreewayCalls</th>\n",
       "      <th>ReceivedCalls</th>\n",
       "      <th>OutboundCalls</th>\n",
       "      <th>InboundCalls</th>\n",
       "      <th>PeakCallsInOut</th>\n",
       "      <th>OffPeakCallsInOut</th>\n",
       "      <th>DroppedBlockedCalls</th>\n",
       "      <th>CallForwardingCalls</th>\n",
       "      <th>CallWaitingCalls</th>\n",
       "      <th>MonthsInService</th>\n",
       "      <th>UniqueSubs</th>\n",
       "      <th>ActiveSubs</th>\n",
       "      <th>Handsets</th>\n",
       "      <th>HandsetModels</th>\n",
       "      <th>CurrentEquipmentDays</th>\n",
       "      <th>AgeHH1</th>\n",
       "      <th>AgeHH2</th>\n",
       "      <th>RetentionCalls</th>\n",
       "      <th>RetentionOffersAccepted</th>\n",
       "      <th>ReferralsMadeBySubscriber</th>\n",
       "      <th>IncomeGroup</th>\n",
       "      <th>AdjustmentsToCreditRating</th>\n",
       "      <th>HandsetPrice</th>\n",
       "    </tr>\n",
       "  </thead>\n",
       "  <tbody>\n",
       "    <tr>\n",
       "      <th>0</th>\n",
       "      <td>-1.082369</td>\n",
       "      <td>-0.421751</td>\n",
       "      <td>-1.115167</td>\n",
       "      <td>-0.046949</td>\n",
       "      <td>-0.997358</td>\n",
       "      <td>-0.624205</td>\n",
       "      <td>-0.568422</td>\n",
       "      <td>-0.452641</td>\n",
       "      <td>-0.884189</td>\n",
       "      <td>-0.301052</td>\n",
       "      <td>-0.562132</td>\n",
       "      <td>-0.823872</td>\n",
       "      <td>-0.603512</td>\n",
       "      <td>0.464930</td>\n",
       "      <td>-1.604073</td>\n",
       "      <td>-1.178797</td>\n",
       "      <td>0.017986</td>\n",
       "      <td>-0.212723</td>\n",
       "      <td>-0.892987</td>\n",
       "      <td>-0.067861</td>\n",
       "      <td>-0.146540</td>\n",
       "      <td>2.469209</td>\n",
       "      <td>1.162529</td>\n",
       "      <td>-0.582570</td>\n",
       "      <td>0.806202</td>\n",
       "      <td>1.119147</td>\n",
       "      <td>0.104248</td>\n",
       "      <td>1.172629</td>\n",
       "      <td>-0.939988</td>\n",
       "      <td>5.315383</td>\n",
       "      <td>-0.132521</td>\n",
       "      <td>-0.221337</td>\n",
       "      <td>-0.004500</td>\n",
       "      <td>-0.193264</td>\n",
       "      <td>-1.451473</td>\n",
       "    </tr>\n",
       "    <tr>\n",
       "      <th>1</th>\n",
       "      <td>-1.544529</td>\n",
       "      <td>-1.929925</td>\n",
       "      <td>-1.432596</td>\n",
       "      <td>-0.913645</td>\n",
       "      <td>-0.997358</td>\n",
       "      <td>-0.624205</td>\n",
       "      <td>0.019778</td>\n",
       "      <td>0.088431</td>\n",
       "      <td>-1.195110</td>\n",
       "      <td>-1.212365</td>\n",
       "      <td>-1.006690</td>\n",
       "      <td>-0.823872</td>\n",
       "      <td>-0.603512</td>\n",
       "      <td>-1.595289</td>\n",
       "      <td>-1.604073</td>\n",
       "      <td>-1.178797</td>\n",
       "      <td>-1.309976</td>\n",
       "      <td>-1.529097</td>\n",
       "      <td>-1.422588</td>\n",
       "      <td>-0.067861</td>\n",
       "      <td>-0.894945</td>\n",
       "      <td>2.379749</td>\n",
       "      <td>-0.761324</td>\n",
       "      <td>-0.582570</td>\n",
       "      <td>0.806202</td>\n",
       "      <td>-0.767323</td>\n",
       "      <td>3.032275</td>\n",
       "      <td>0.489795</td>\n",
       "      <td>1.056899</td>\n",
       "      <td>-0.188133</td>\n",
       "      <td>-0.132521</td>\n",
       "      <td>-0.221337</td>\n",
       "      <td>0.292259</td>\n",
       "      <td>-0.193264</td>\n",
       "      <td>-1.451473</td>\n",
       "    </tr>\n",
       "    <tr>\n",
       "      <th>2</th>\n",
       "      <td>-0.418867</td>\n",
       "      <td>-1.990079</td>\n",
       "      <td>-0.274582</td>\n",
       "      <td>-0.913645</td>\n",
       "      <td>-0.997358</td>\n",
       "      <td>-0.624205</td>\n",
       "      <td>0.027546</td>\n",
       "      <td>0.088431</td>\n",
       "      <td>-1.510615</td>\n",
       "      <td>-1.212365</td>\n",
       "      <td>-1.752468</td>\n",
       "      <td>-0.823872</td>\n",
       "      <td>-0.603512</td>\n",
       "      <td>-1.489334</td>\n",
       "      <td>-1.459857</td>\n",
       "      <td>-1.178797</td>\n",
       "      <td>-1.656010</td>\n",
       "      <td>-1.147309</td>\n",
       "      <td>-1.667934</td>\n",
       "      <td>-0.067861</td>\n",
       "      <td>-0.894945</td>\n",
       "      <td>2.439936</td>\n",
       "      <td>-0.761324</td>\n",
       "      <td>-0.582570</td>\n",
       "      <td>-0.850981</td>\n",
       "      <td>-0.767323</td>\n",
       "      <td>3.588786</td>\n",
       "      <td>-0.021550</td>\n",
       "      <td>0.853192</td>\n",
       "      <td>-0.188133</td>\n",
       "      <td>-0.132521</td>\n",
       "      <td>-0.221337</td>\n",
       "      <td>0.576107</td>\n",
       "      <td>-0.193264</td>\n",
       "      <td>0.096055</td>\n",
       "    </tr>\n",
       "    <tr>\n",
       "      <th>3</th>\n",
       "      <td>0.825055</td>\n",
       "      <td>1.394624</td>\n",
       "      <td>1.183628</td>\n",
       "      <td>1.168135</td>\n",
       "      <td>-0.997358</td>\n",
       "      <td>-0.624205</td>\n",
       "      <td>0.657477</td>\n",
       "      <td>0.284972</td>\n",
       "      <td>2.226035</td>\n",
       "      <td>1.293586</td>\n",
       "      <td>1.350745</td>\n",
       "      <td>1.504542</td>\n",
       "      <td>1.948860</td>\n",
       "      <td>0.943697</td>\n",
       "      <td>2.901567</td>\n",
       "      <td>2.060902</td>\n",
       "      <td>2.500800</td>\n",
       "      <td>1.812611</td>\n",
       "      <td>2.043458</td>\n",
       "      <td>-0.067861</td>\n",
       "      <td>1.849345</td>\n",
       "      <td>2.410123</td>\n",
       "      <td>1.162529</td>\n",
       "      <td>1.345801</td>\n",
       "      <td>1.895777</td>\n",
       "      <td>1.700439</td>\n",
       "      <td>0.461886</td>\n",
       "      <td>0.133216</td>\n",
       "      <td>-0.939988</td>\n",
       "      <td>-0.188133</td>\n",
       "      <td>-0.132521</td>\n",
       "      <td>-0.221337</td>\n",
       "      <td>0.576107</td>\n",
       "      <td>-0.193264</td>\n",
       "      <td>-2.329307</td>\n",
       "    </tr>\n",
       "    <tr>\n",
       "      <th>4</th>\n",
       "      <td>-1.533157</td>\n",
       "      <td>-2.456462</td>\n",
       "      <td>-1.432596</td>\n",
       "      <td>-0.913645</td>\n",
       "      <td>-0.997358</td>\n",
       "      <td>-0.624205</td>\n",
       "      <td>0.035335</td>\n",
       "      <td>0.083232</td>\n",
       "      <td>-1.510615</td>\n",
       "      <td>-1.212365</td>\n",
       "      <td>-1.752468</td>\n",
       "      <td>-0.823872</td>\n",
       "      <td>-0.603512</td>\n",
       "      <td>-1.595289</td>\n",
       "      <td>-1.604073</td>\n",
       "      <td>-1.178797</td>\n",
       "      <td>-1.888772</td>\n",
       "      <td>-1.799405</td>\n",
       "      <td>-1.667934</td>\n",
       "      <td>-0.067861</td>\n",
       "      <td>-0.894945</td>\n",
       "      <td>2.218719</td>\n",
       "      <td>1.162529</td>\n",
       "      <td>1.345801</td>\n",
       "      <td>1.593759</td>\n",
       "      <td>1.552447</td>\n",
       "      <td>1.617266</td>\n",
       "      <td>0.687632</td>\n",
       "      <td>1.160401</td>\n",
       "      <td>-0.188133</td>\n",
       "      <td>-0.132521</td>\n",
       "      <td>-0.221337</td>\n",
       "      <td>1.370258</td>\n",
       "      <td>5.174275</td>\n",
       "      <td>-2.329307</td>\n",
       "    </tr>\n",
       "  </tbody>\n",
       "</table>\n",
       "</div>"
      ],
      "text/plain": [
       "   MonthlyRevenue  MonthlyMinutes  TotalRecurringCharge  \\\n",
       "0       -1.082369       -0.421751             -1.115167   \n",
       "1       -1.544529       -1.929925             -1.432596   \n",
       "2       -0.418867       -1.990079             -0.274582   \n",
       "3        0.825055        1.394624              1.183628   \n",
       "4       -1.533157       -2.456462             -1.432596   \n",
       "\n",
       "   DirectorAssistedCalls  OverageMinutes  RoamingCalls  PercChangeMinutes  \\\n",
       "0              -0.046949       -0.997358     -0.624205          -0.568422   \n",
       "1              -0.913645       -0.997358     -0.624205           0.019778   \n",
       "2              -0.913645       -0.997358     -0.624205           0.027546   \n",
       "3               1.168135       -0.997358     -0.624205           0.657477   \n",
       "4              -0.913645       -0.997358     -0.624205           0.035335   \n",
       "\n",
       "   PercChangeRevenues  DroppedCalls  BlockedCalls  UnansweredCalls  \\\n",
       "0           -0.452641     -0.884189     -0.301052        -0.562132   \n",
       "1            0.088431     -1.195110     -1.212365        -1.006690   \n",
       "2            0.088431     -1.510615     -1.212365        -1.752468   \n",
       "3            0.284972      2.226035      1.293586         1.350745   \n",
       "4            0.083232     -1.510615     -1.212365        -1.752468   \n",
       "\n",
       "   CustomerCareCalls  ThreewayCalls  ReceivedCalls  OutboundCalls  \\\n",
       "0          -0.823872      -0.603512       0.464930      -1.604073   \n",
       "1          -0.823872      -0.603512      -1.595289      -1.604073   \n",
       "2          -0.823872      -0.603512      -1.489334      -1.459857   \n",
       "3           1.504542       1.948860       0.943697       2.901567   \n",
       "4          -0.823872      -0.603512      -1.595289      -1.604073   \n",
       "\n",
       "   InboundCalls  PeakCallsInOut  OffPeakCallsInOut  DroppedBlockedCalls  \\\n",
       "0     -1.178797        0.017986          -0.212723            -0.892987   \n",
       "1     -1.178797       -1.309976          -1.529097            -1.422588   \n",
       "2     -1.178797       -1.656010          -1.147309            -1.667934   \n",
       "3      2.060902        2.500800           1.812611             2.043458   \n",
       "4     -1.178797       -1.888772          -1.799405            -1.667934   \n",
       "\n",
       "   CallForwardingCalls  CallWaitingCalls  MonthsInService  UniqueSubs  \\\n",
       "0            -0.067861         -0.146540         2.469209    1.162529   \n",
       "1            -0.067861         -0.894945         2.379749   -0.761324   \n",
       "2            -0.067861         -0.894945         2.439936   -0.761324   \n",
       "3            -0.067861          1.849345         2.410123    1.162529   \n",
       "4            -0.067861         -0.894945         2.218719    1.162529   \n",
       "\n",
       "   ActiveSubs  Handsets  HandsetModels  CurrentEquipmentDays    AgeHH1  \\\n",
       "0   -0.582570  0.806202       1.119147              0.104248  1.172629   \n",
       "1   -0.582570  0.806202      -0.767323              3.032275  0.489795   \n",
       "2   -0.582570 -0.850981      -0.767323              3.588786 -0.021550   \n",
       "3    1.345801  1.895777       1.700439              0.461886  0.133216   \n",
       "4    1.345801  1.593759       1.552447              1.617266  0.687632   \n",
       "\n",
       "     AgeHH2  RetentionCalls  RetentionOffersAccepted  \\\n",
       "0 -0.939988        5.315383                -0.132521   \n",
       "1  1.056899       -0.188133                -0.132521   \n",
       "2  0.853192       -0.188133                -0.132521   \n",
       "3 -0.939988       -0.188133                -0.132521   \n",
       "4  1.160401       -0.188133                -0.132521   \n",
       "\n",
       "   ReferralsMadeBySubscriber  IncomeGroup  AdjustmentsToCreditRating  \\\n",
       "0                  -0.221337    -0.004500                  -0.193264   \n",
       "1                  -0.221337     0.292259                  -0.193264   \n",
       "2                  -0.221337     0.576107                  -0.193264   \n",
       "3                  -0.221337     0.576107                  -0.193264   \n",
       "4                  -0.221337     1.370258                   5.174275   \n",
       "\n",
       "   HandsetPrice  \n",
       "0     -1.451473  \n",
       "1     -1.451473  \n",
       "2      0.096055  \n",
       "3     -2.329307  \n",
       "4     -2.329307  "
      ]
     },
     "execution_count": 17,
     "metadata": {},
     "output_type": "execute_result"
    }
   ],
   "source": [
    "num_f.head()"
   ]
  },
  {
   "cell_type": "code",
   "execution_count": 18,
   "id": "37b149e2",
   "metadata": {},
   "outputs": [
    {
     "data": {
      "text/plain": [
       "(51047, 35)"
      ]
     },
     "execution_count": 18,
     "metadata": {},
     "output_type": "execute_result"
    }
   ],
   "source": [
    "num_f.shape"
   ]
  },
  {
   "cell_type": "markdown",
   "id": "bfe512cf",
   "metadata": {},
   "source": [
    "#### Concatenate scaled numerical and dummy encoded categorical variables"
   ]
  },
  {
   "cell_type": "code",
   "execution_count": 19,
   "id": "e3f007d2",
   "metadata": {},
   "outputs": [
    {
     "data": {
      "text/plain": [
       "(51047, 55)"
      ]
     },
     "execution_count": 19,
     "metadata": {},
     "output_type": "execute_result"
    }
   ],
   "source": [
    "df_features = pd.concat([cat_f,num_f], axis =1)\n",
    "df_features.shape"
   ]
  },
  {
   "cell_type": "code",
   "execution_count": 20,
   "id": "1a944648",
   "metadata": {},
   "outputs": [
    {
     "data": {
      "text/html": [
       "<div>\n",
       "<style scoped>\n",
       "    .dataframe tbody tr th:only-of-type {\n",
       "        vertical-align: middle;\n",
       "    }\n",
       "\n",
       "    .dataframe tbody tr th {\n",
       "        vertical-align: top;\n",
       "    }\n",
       "\n",
       "    .dataframe thead th {\n",
       "        text-align: right;\n",
       "    }\n",
       "</style>\n",
       "<table border=\"1\" class=\"dataframe\">\n",
       "  <thead>\n",
       "    <tr style=\"text-align: right;\">\n",
       "      <th></th>\n",
       "      <th>ChildrenInHH</th>\n",
       "      <th>HandsetRefurbished</th>\n",
       "      <th>HandsetWebCapable</th>\n",
       "      <th>TruckOwner</th>\n",
       "      <th>RVOwner</th>\n",
       "      <th>Homeownership</th>\n",
       "      <th>BuysViaMailOrder</th>\n",
       "      <th>RespondsToMailOffers</th>\n",
       "      <th>OptOutMailings</th>\n",
       "      <th>NonUSTravel</th>\n",
       "      <th>OwnsComputer</th>\n",
       "      <th>HasCreditCard</th>\n",
       "      <th>NewCellphoneUser</th>\n",
       "      <th>NotNewCellphoneUser</th>\n",
       "      <th>OwnsMotorcycle</th>\n",
       "      <th>MadeCallToRetentionTeam</th>\n",
       "      <th>CreditRating</th>\n",
       "      <th>PrizmCode</th>\n",
       "      <th>Occupation</th>\n",
       "      <th>MaritalStatus</th>\n",
       "      <th>MonthlyRevenue</th>\n",
       "      <th>MonthlyMinutes</th>\n",
       "      <th>TotalRecurringCharge</th>\n",
       "      <th>DirectorAssistedCalls</th>\n",
       "      <th>OverageMinutes</th>\n",
       "      <th>RoamingCalls</th>\n",
       "      <th>PercChangeMinutes</th>\n",
       "      <th>PercChangeRevenues</th>\n",
       "      <th>DroppedCalls</th>\n",
       "      <th>BlockedCalls</th>\n",
       "      <th>UnansweredCalls</th>\n",
       "      <th>CustomerCareCalls</th>\n",
       "      <th>ThreewayCalls</th>\n",
       "      <th>ReceivedCalls</th>\n",
       "      <th>OutboundCalls</th>\n",
       "      <th>InboundCalls</th>\n",
       "      <th>PeakCallsInOut</th>\n",
       "      <th>OffPeakCallsInOut</th>\n",
       "      <th>DroppedBlockedCalls</th>\n",
       "      <th>CallForwardingCalls</th>\n",
       "      <th>CallWaitingCalls</th>\n",
       "      <th>MonthsInService</th>\n",
       "      <th>UniqueSubs</th>\n",
       "      <th>ActiveSubs</th>\n",
       "      <th>Handsets</th>\n",
       "      <th>HandsetModels</th>\n",
       "      <th>CurrentEquipmentDays</th>\n",
       "      <th>AgeHH1</th>\n",
       "      <th>AgeHH2</th>\n",
       "      <th>RetentionCalls</th>\n",
       "      <th>RetentionOffersAccepted</th>\n",
       "      <th>ReferralsMadeBySubscriber</th>\n",
       "      <th>IncomeGroup</th>\n",
       "      <th>AdjustmentsToCreditRating</th>\n",
       "      <th>HandsetPrice</th>\n",
       "    </tr>\n",
       "  </thead>\n",
       "  <tbody>\n",
       "    <tr>\n",
       "      <th>0</th>\n",
       "      <td>0.000000</td>\n",
       "      <td>0.000000</td>\n",
       "      <td>1.000000</td>\n",
       "      <td>0.000000</td>\n",
       "      <td>0.000000</td>\n",
       "      <td>0.000000</td>\n",
       "      <td>1.000000</td>\n",
       "      <td>1.000000</td>\n",
       "      <td>0.000000</td>\n",
       "      <td>0.000000</td>\n",
       "      <td>1.000000</td>\n",
       "      <td>1.000000</td>\n",
       "      <td>0.000000</td>\n",
       "      <td>0.000000</td>\n",
       "      <td>0.000000</td>\n",
       "      <td>1.000000</td>\n",
       "      <td>0.000000</td>\n",
       "      <td>2.000000</td>\n",
       "      <td>1.000000</td>\n",
       "      <td>0.000000</td>\n",
       "      <td>-1.082369</td>\n",
       "      <td>-0.421751</td>\n",
       "      <td>-1.115167</td>\n",
       "      <td>-0.046949</td>\n",
       "      <td>-0.997358</td>\n",
       "      <td>-0.624205</td>\n",
       "      <td>-0.568422</td>\n",
       "      <td>-0.452641</td>\n",
       "      <td>-0.884189</td>\n",
       "      <td>-0.301052</td>\n",
       "      <td>-0.562132</td>\n",
       "      <td>-0.823872</td>\n",
       "      <td>-0.603512</td>\n",
       "      <td>0.464930</td>\n",
       "      <td>-1.604073</td>\n",
       "      <td>-1.178797</td>\n",
       "      <td>0.017986</td>\n",
       "      <td>-0.212723</td>\n",
       "      <td>-0.892987</td>\n",
       "      <td>-0.067861</td>\n",
       "      <td>-0.146540</td>\n",
       "      <td>2.469209</td>\n",
       "      <td>1.162529</td>\n",
       "      <td>-0.582570</td>\n",
       "      <td>0.806202</td>\n",
       "      <td>1.119147</td>\n",
       "      <td>0.104248</td>\n",
       "      <td>1.172629</td>\n",
       "      <td>-0.939988</td>\n",
       "      <td>5.315383</td>\n",
       "      <td>-0.132521</td>\n",
       "      <td>-0.221337</td>\n",
       "      <td>-0.004500</td>\n",
       "      <td>-0.193264</td>\n",
       "      <td>-1.451473</td>\n",
       "    </tr>\n",
       "    <tr>\n",
       "      <th>1</th>\n",
       "      <td>1.000000</td>\n",
       "      <td>0.000000</td>\n",
       "      <td>0.000000</td>\n",
       "      <td>0.000000</td>\n",
       "      <td>0.000000</td>\n",
       "      <td>0.000000</td>\n",
       "      <td>1.000000</td>\n",
       "      <td>1.000000</td>\n",
       "      <td>0.000000</td>\n",
       "      <td>0.000000</td>\n",
       "      <td>1.000000</td>\n",
       "      <td>1.000000</td>\n",
       "      <td>1.000000</td>\n",
       "      <td>0.000000</td>\n",
       "      <td>0.000000</td>\n",
       "      <td>0.000000</td>\n",
       "      <td>2.000000</td>\n",
       "      <td>2.000000</td>\n",
       "      <td>1.000000</td>\n",
       "      <td>2.000000</td>\n",
       "      <td>-1.544529</td>\n",
       "      <td>-1.929925</td>\n",
       "      <td>-1.432596</td>\n",
       "      <td>-0.913645</td>\n",
       "      <td>-0.997358</td>\n",
       "      <td>-0.624205</td>\n",
       "      <td>0.019778</td>\n",
       "      <td>0.088431</td>\n",
       "      <td>-1.195110</td>\n",
       "      <td>-1.212365</td>\n",
       "      <td>-1.006690</td>\n",
       "      <td>-0.823872</td>\n",
       "      <td>-0.603512</td>\n",
       "      <td>-1.595289</td>\n",
       "      <td>-1.604073</td>\n",
       "      <td>-1.178797</td>\n",
       "      <td>-1.309976</td>\n",
       "      <td>-1.529097</td>\n",
       "      <td>-1.422588</td>\n",
       "      <td>-0.067861</td>\n",
       "      <td>-0.894945</td>\n",
       "      <td>2.379749</td>\n",
       "      <td>-0.761324</td>\n",
       "      <td>-0.582570</td>\n",
       "      <td>0.806202</td>\n",
       "      <td>-0.767323</td>\n",
       "      <td>3.032275</td>\n",
       "      <td>0.489795</td>\n",
       "      <td>1.056899</td>\n",
       "      <td>-0.188133</td>\n",
       "      <td>-0.132521</td>\n",
       "      <td>-0.221337</td>\n",
       "      <td>0.292259</td>\n",
       "      <td>-0.193264</td>\n",
       "      <td>-1.451473</td>\n",
       "    </tr>\n",
       "    <tr>\n",
       "      <th>2</th>\n",
       "      <td>1.000000</td>\n",
       "      <td>0.000000</td>\n",
       "      <td>0.000000</td>\n",
       "      <td>0.000000</td>\n",
       "      <td>0.000000</td>\n",
       "      <td>1.000000</td>\n",
       "      <td>0.000000</td>\n",
       "      <td>0.000000</td>\n",
       "      <td>0.000000</td>\n",
       "      <td>0.000000</td>\n",
       "      <td>0.000000</td>\n",
       "      <td>1.000000</td>\n",
       "      <td>1.000000</td>\n",
       "      <td>0.000000</td>\n",
       "      <td>0.000000</td>\n",
       "      <td>0.000000</td>\n",
       "      <td>2.000000</td>\n",
       "      <td>3.000000</td>\n",
       "      <td>1.000000</td>\n",
       "      <td>2.000000</td>\n",
       "      <td>-0.418867</td>\n",
       "      <td>-1.990079</td>\n",
       "      <td>-0.274582</td>\n",
       "      <td>-0.913645</td>\n",
       "      <td>-0.997358</td>\n",
       "      <td>-0.624205</td>\n",
       "      <td>0.027546</td>\n",
       "      <td>0.088431</td>\n",
       "      <td>-1.510615</td>\n",
       "      <td>-1.212365</td>\n",
       "      <td>-1.752468</td>\n",
       "      <td>-0.823872</td>\n",
       "      <td>-0.603512</td>\n",
       "      <td>-1.489334</td>\n",
       "      <td>-1.459857</td>\n",
       "      <td>-1.178797</td>\n",
       "      <td>-1.656010</td>\n",
       "      <td>-1.147309</td>\n",
       "      <td>-1.667934</td>\n",
       "      <td>-0.067861</td>\n",
       "      <td>-0.894945</td>\n",
       "      <td>2.439936</td>\n",
       "      <td>-0.761324</td>\n",
       "      <td>-0.582570</td>\n",
       "      <td>-0.850981</td>\n",
       "      <td>-0.767323</td>\n",
       "      <td>3.588786</td>\n",
       "      <td>-0.021550</td>\n",
       "      <td>0.853192</td>\n",
       "      <td>-0.188133</td>\n",
       "      <td>-0.132521</td>\n",
       "      <td>-0.221337</td>\n",
       "      <td>0.576107</td>\n",
       "      <td>-0.193264</td>\n",
       "      <td>0.096055</td>\n",
       "    </tr>\n",
       "    <tr>\n",
       "      <th>3</th>\n",
       "      <td>0.000000</td>\n",
       "      <td>0.000000</td>\n",
       "      <td>1.000000</td>\n",
       "      <td>0.000000</td>\n",
       "      <td>0.000000</td>\n",
       "      <td>0.000000</td>\n",
       "      <td>1.000000</td>\n",
       "      <td>1.000000</td>\n",
       "      <td>0.000000</td>\n",
       "      <td>0.000000</td>\n",
       "      <td>0.000000</td>\n",
       "      <td>1.000000</td>\n",
       "      <td>1.000000</td>\n",
       "      <td>0.000000</td>\n",
       "      <td>0.000000</td>\n",
       "      <td>0.000000</td>\n",
       "      <td>2.000000</td>\n",
       "      <td>0.000000</td>\n",
       "      <td>0.000000</td>\n",
       "      <td>0.000000</td>\n",
       "      <td>0.825055</td>\n",
       "      <td>1.394624</td>\n",
       "      <td>1.183628</td>\n",
       "      <td>1.168135</td>\n",
       "      <td>-0.997358</td>\n",
       "      <td>-0.624205</td>\n",
       "      <td>0.657477</td>\n",
       "      <td>0.284972</td>\n",
       "      <td>2.226035</td>\n",
       "      <td>1.293586</td>\n",
       "      <td>1.350745</td>\n",
       "      <td>1.504542</td>\n",
       "      <td>1.948860</td>\n",
       "      <td>0.943697</td>\n",
       "      <td>2.901567</td>\n",
       "      <td>2.060902</td>\n",
       "      <td>2.500800</td>\n",
       "      <td>1.812611</td>\n",
       "      <td>2.043458</td>\n",
       "      <td>-0.067861</td>\n",
       "      <td>1.849345</td>\n",
       "      <td>2.410123</td>\n",
       "      <td>1.162529</td>\n",
       "      <td>1.345801</td>\n",
       "      <td>1.895777</td>\n",
       "      <td>1.700439</td>\n",
       "      <td>0.461886</td>\n",
       "      <td>0.133216</td>\n",
       "      <td>-0.939988</td>\n",
       "      <td>-0.188133</td>\n",
       "      <td>-0.132521</td>\n",
       "      <td>-0.221337</td>\n",
       "      <td>0.576107</td>\n",
       "      <td>-0.193264</td>\n",
       "      <td>-2.329307</td>\n",
       "    </tr>\n",
       "    <tr>\n",
       "      <th>4</th>\n",
       "      <td>0.000000</td>\n",
       "      <td>0.000000</td>\n",
       "      <td>0.000000</td>\n",
       "      <td>0.000000</td>\n",
       "      <td>0.000000</td>\n",
       "      <td>0.000000</td>\n",
       "      <td>1.000000</td>\n",
       "      <td>1.000000</td>\n",
       "      <td>0.000000</td>\n",
       "      <td>0.000000</td>\n",
       "      <td>1.000000</td>\n",
       "      <td>1.000000</td>\n",
       "      <td>0.000000</td>\n",
       "      <td>1.000000</td>\n",
       "      <td>0.000000</td>\n",
       "      <td>0.000000</td>\n",
       "      <td>0.000000</td>\n",
       "      <td>0.000000</td>\n",
       "      <td>1.000000</td>\n",
       "      <td>2.000000</td>\n",
       "      <td>-1.533157</td>\n",
       "      <td>-2.456462</td>\n",
       "      <td>-1.432596</td>\n",
       "      <td>-0.913645</td>\n",
       "      <td>-0.997358</td>\n",
       "      <td>-0.624205</td>\n",
       "      <td>0.035335</td>\n",
       "      <td>0.083232</td>\n",
       "      <td>-1.510615</td>\n",
       "      <td>-1.212365</td>\n",
       "      <td>-1.752468</td>\n",
       "      <td>-0.823872</td>\n",
       "      <td>-0.603512</td>\n",
       "      <td>-1.595289</td>\n",
       "      <td>-1.604073</td>\n",
       "      <td>-1.178797</td>\n",
       "      <td>-1.888772</td>\n",
       "      <td>-1.799405</td>\n",
       "      <td>-1.667934</td>\n",
       "      <td>-0.067861</td>\n",
       "      <td>-0.894945</td>\n",
       "      <td>2.218719</td>\n",
       "      <td>1.162529</td>\n",
       "      <td>1.345801</td>\n",
       "      <td>1.593759</td>\n",
       "      <td>1.552447</td>\n",
       "      <td>1.617266</td>\n",
       "      <td>0.687632</td>\n",
       "      <td>1.160401</td>\n",
       "      <td>-0.188133</td>\n",
       "      <td>-0.132521</td>\n",
       "      <td>-0.221337</td>\n",
       "      <td>1.370258</td>\n",
       "      <td>5.174275</td>\n",
       "      <td>-2.329307</td>\n",
       "    </tr>\n",
       "  </tbody>\n",
       "</table>\n",
       "</div>"
      ],
      "text/plain": [
       "   ChildrenInHH  HandsetRefurbished  HandsetWebCapable  TruckOwner  RVOwner  \\\n",
       "0      0.000000            0.000000           1.000000    0.000000 0.000000   \n",
       "1      1.000000            0.000000           0.000000    0.000000 0.000000   \n",
       "2      1.000000            0.000000           0.000000    0.000000 0.000000   \n",
       "3      0.000000            0.000000           1.000000    0.000000 0.000000   \n",
       "4      0.000000            0.000000           0.000000    0.000000 0.000000   \n",
       "\n",
       "   Homeownership  BuysViaMailOrder  RespondsToMailOffers  OptOutMailings  \\\n",
       "0       0.000000          1.000000              1.000000        0.000000   \n",
       "1       0.000000          1.000000              1.000000        0.000000   \n",
       "2       1.000000          0.000000              0.000000        0.000000   \n",
       "3       0.000000          1.000000              1.000000        0.000000   \n",
       "4       0.000000          1.000000              1.000000        0.000000   \n",
       "\n",
       "   NonUSTravel  OwnsComputer  HasCreditCard  NewCellphoneUser  \\\n",
       "0     0.000000      1.000000       1.000000          0.000000   \n",
       "1     0.000000      1.000000       1.000000          1.000000   \n",
       "2     0.000000      0.000000       1.000000          1.000000   \n",
       "3     0.000000      0.000000       1.000000          1.000000   \n",
       "4     0.000000      1.000000       1.000000          0.000000   \n",
       "\n",
       "   NotNewCellphoneUser  OwnsMotorcycle  MadeCallToRetentionTeam  CreditRating  \\\n",
       "0             0.000000        0.000000                 1.000000      0.000000   \n",
       "1             0.000000        0.000000                 0.000000      2.000000   \n",
       "2             0.000000        0.000000                 0.000000      2.000000   \n",
       "3             0.000000        0.000000                 0.000000      2.000000   \n",
       "4             1.000000        0.000000                 0.000000      0.000000   \n",
       "\n",
       "   PrizmCode  Occupation  MaritalStatus  MonthlyRevenue  MonthlyMinutes  \\\n",
       "0   2.000000    1.000000       0.000000       -1.082369       -0.421751   \n",
       "1   2.000000    1.000000       2.000000       -1.544529       -1.929925   \n",
       "2   3.000000    1.000000       2.000000       -0.418867       -1.990079   \n",
       "3   0.000000    0.000000       0.000000        0.825055        1.394624   \n",
       "4   0.000000    1.000000       2.000000       -1.533157       -2.456462   \n",
       "\n",
       "   TotalRecurringCharge  DirectorAssistedCalls  OverageMinutes  RoamingCalls  \\\n",
       "0             -1.115167              -0.046949       -0.997358     -0.624205   \n",
       "1             -1.432596              -0.913645       -0.997358     -0.624205   \n",
       "2             -0.274582              -0.913645       -0.997358     -0.624205   \n",
       "3              1.183628               1.168135       -0.997358     -0.624205   \n",
       "4             -1.432596              -0.913645       -0.997358     -0.624205   \n",
       "\n",
       "   PercChangeMinutes  PercChangeRevenues  DroppedCalls  BlockedCalls  \\\n",
       "0          -0.568422           -0.452641     -0.884189     -0.301052   \n",
       "1           0.019778            0.088431     -1.195110     -1.212365   \n",
       "2           0.027546            0.088431     -1.510615     -1.212365   \n",
       "3           0.657477            0.284972      2.226035      1.293586   \n",
       "4           0.035335            0.083232     -1.510615     -1.212365   \n",
       "\n",
       "   UnansweredCalls  CustomerCareCalls  ThreewayCalls  ReceivedCalls  \\\n",
       "0        -0.562132          -0.823872      -0.603512       0.464930   \n",
       "1        -1.006690          -0.823872      -0.603512      -1.595289   \n",
       "2        -1.752468          -0.823872      -0.603512      -1.489334   \n",
       "3         1.350745           1.504542       1.948860       0.943697   \n",
       "4        -1.752468          -0.823872      -0.603512      -1.595289   \n",
       "\n",
       "   OutboundCalls  InboundCalls  PeakCallsInOut  OffPeakCallsInOut  \\\n",
       "0      -1.604073     -1.178797        0.017986          -0.212723   \n",
       "1      -1.604073     -1.178797       -1.309976          -1.529097   \n",
       "2      -1.459857     -1.178797       -1.656010          -1.147309   \n",
       "3       2.901567      2.060902        2.500800           1.812611   \n",
       "4      -1.604073     -1.178797       -1.888772          -1.799405   \n",
       "\n",
       "   DroppedBlockedCalls  CallForwardingCalls  CallWaitingCalls  \\\n",
       "0            -0.892987            -0.067861         -0.146540   \n",
       "1            -1.422588            -0.067861         -0.894945   \n",
       "2            -1.667934            -0.067861         -0.894945   \n",
       "3             2.043458            -0.067861          1.849345   \n",
       "4            -1.667934            -0.067861         -0.894945   \n",
       "\n",
       "   MonthsInService  UniqueSubs  ActiveSubs  Handsets  HandsetModels  \\\n",
       "0         2.469209    1.162529   -0.582570  0.806202       1.119147   \n",
       "1         2.379749   -0.761324   -0.582570  0.806202      -0.767323   \n",
       "2         2.439936   -0.761324   -0.582570 -0.850981      -0.767323   \n",
       "3         2.410123    1.162529    1.345801  1.895777       1.700439   \n",
       "4         2.218719    1.162529    1.345801  1.593759       1.552447   \n",
       "\n",
       "   CurrentEquipmentDays    AgeHH1    AgeHH2  RetentionCalls  \\\n",
       "0              0.104248  1.172629 -0.939988        5.315383   \n",
       "1              3.032275  0.489795  1.056899       -0.188133   \n",
       "2              3.588786 -0.021550  0.853192       -0.188133   \n",
       "3              0.461886  0.133216 -0.939988       -0.188133   \n",
       "4              1.617266  0.687632  1.160401       -0.188133   \n",
       "\n",
       "   RetentionOffersAccepted  ReferralsMadeBySubscriber  IncomeGroup  \\\n",
       "0                -0.132521                  -0.221337    -0.004500   \n",
       "1                -0.132521                  -0.221337     0.292259   \n",
       "2                -0.132521                  -0.221337     0.576107   \n",
       "3                -0.132521                  -0.221337     0.576107   \n",
       "4                -0.132521                  -0.221337     1.370258   \n",
       "\n",
       "   AdjustmentsToCreditRating  HandsetPrice  \n",
       "0                  -0.193264     -1.451473  \n",
       "1                  -0.193264     -1.451473  \n",
       "2                  -0.193264      0.096055  \n",
       "3                  -0.193264     -2.329307  \n",
       "4                   5.174275     -2.329307  "
      ]
     },
     "execution_count": 20,
     "metadata": {},
     "output_type": "execute_result"
    }
   ],
   "source": [
    "df_features.head()"
   ]
  },
  {
   "cell_type": "code",
   "execution_count": 21,
   "id": "47c9ec63",
   "metadata": {},
   "outputs": [
    {
     "data": {
      "text/plain": [
       "2"
      ]
     },
     "execution_count": 21,
     "metadata": {},
     "output_type": "execute_result"
    }
   ],
   "source": [
    "df_target.nunique()"
   ]
  },
  {
   "cell_type": "markdown",
   "id": "b5f81822",
   "metadata": {},
   "source": [
    "## Train-Test Split"
   ]
  },
  {
   "cell_type": "markdown",
   "id": "b24dc3c1",
   "metadata": {},
   "source": [
    "Before applying various classification techniques to predict the Churn, let us split the dataset in train and test set."
   ]
  },
  {
   "cell_type": "code",
   "execution_count": 22,
   "id": "25194a07",
   "metadata": {},
   "outputs": [
    {
     "name": "stdout",
     "output_type": "stream",
     "text": [
      "x_train:  (35732, 55)\n",
      "y_train:  (35732,)\n",
      "x_test:  (15315, 55)\n",
      "y_test:  (15315,)\n"
     ]
    }
   ],
   "source": [
    "# split data into train subset and test subset\n",
    "# set 'random_state' to generate the same dataset each time you run the code \n",
    "# 'test_size' returns the proportion of data to be included in the testing set\n",
    "x_train, x_test ,y_train ,y_test = train_test_split(df_features,df_target, random_state=10, test_size=0.3)\n",
    "\n",
    "# check the dimensions of the train & test subset using 'shape'\n",
    "# print dimension of train set\n",
    "print('x_train: ',x_train.shape)\n",
    "print('y_train: ',y_train.shape)\n",
    "\n",
    "# print dimension of test set\n",
    "print('x_test: ',x_test.shape)\n",
    "print('y_test: ',y_test.shape)"
   ]
  },
  {
   "cell_type": "markdown",
   "id": "8c9773ec",
   "metadata": {
    "id": "3udfLyk-EQRF"
   },
   "source": [
    "#### Create a generalized function to calculate the performance metrics for the test set."
   ]
  },
  {
   "cell_type": "code",
   "execution_count": 23,
   "id": "182ec4cc",
   "metadata": {
    "id": "W5LqkmLCEQRG"
   },
   "outputs": [],
   "source": [
    "# create a generalized function to calculate the performance metrics values for test set\n",
    "def get_test_report(model, test_data):\n",
    "    \n",
    "    # for test set:\n",
    "    # test_pred: prediction made by the model on the test dataset 'X_test'\n",
    "    # y_test: actual values of the target variable for the test dataset\n",
    "\n",
    "    # predict the output of the target variable from the test data \n",
    "    test_pred = model.predict(test_data)\n",
    "\n",
    "    # return the classification report for test data\n",
    "    return(classification_report(y_test, test_pred))"
   ]
  },
  {
   "cell_type": "markdown",
   "id": "310bebe3",
   "metadata": {
    "id": "o5VxMbEUEQRI"
   },
   "source": [
    "#### Define a function to plot the confusion matrix."
   ]
  },
  {
   "cell_type": "code",
   "execution_count": 24,
   "id": "1b326268",
   "metadata": {
    "id": "Av39nL7SebpS"
   },
   "outputs": [],
   "source": [
    "# define a to plot a confusion matrix for the model\n",
    "def plot_confusion_matrix(model, test_data):\n",
    "    \n",
    "    # predict the target values using X_test\n",
    "    y_pred = model.predict(test_data)\n",
    "    \n",
    "    # create a confusion matrix\n",
    "    # pass the actual and predicted target values to the confusion_matrix()\n",
    "    cm = confusion_matrix(y_test, y_pred)\n",
    "\n",
    "    # label the confusion matrix  \n",
    "    # pass the matrix as 'data'\n",
    "    # pass the required column names to the parameter, 'columns'\n",
    "    # pass the required row names to the parameter, 'index'\n",
    "    conf_matrix = pd.DataFrame(data = cm,columns = ['Predicted:0','Predicted:1'], index = ['Actual:0','Actual:1'])\n",
    "\n",
    "    # plot a heatmap to visualize the confusion matrix\n",
    "    # 'annot' prints the value of each grid \n",
    "    # 'fmt = d' returns the integer value in each grid\n",
    "    # 'cmap' assigns color to each grid\n",
    "    # as we do not require different colors for each grid in the heatmap,\n",
    "    # use 'ListedColormap' to assign the specified color to the grid\n",
    "    # 'cbar = False' will not return the color bar to the right side of the heatmap\n",
    "    # 'linewidths' assigns the width to the line that divides each grid\n",
    "    # 'annot_kws = {'size':25})' assigns the font size of the annotated text \n",
    "    sns.heatmap(conf_matrix, annot = True, fmt = 'd', cmap = ListedColormap(['lightskyblue']), cbar = False, \n",
    "                linewidths = 0.1, annot_kws = {'size':25})\n",
    "\n",
    "    # set the font size of x-axis ticks using 'fontsize'\n",
    "    plt.xticks(fontsize = 20)\n",
    "\n",
    "    # set the font size of y-axis ticks using 'fontsize'\n",
    "    plt.yticks(fontsize = 20)\n",
    "\n",
    "    # display the plot\n",
    "    plt.show()"
   ]
  },
  {
   "cell_type": "markdown",
   "id": "747db759",
   "metadata": {
    "id": "9BZcgvJWEQRK"
   },
   "source": [
    "#### Define a function to plot the ROC curve."
   ]
  },
  {
   "cell_type": "code",
   "execution_count": 25,
   "id": "81e8dd37",
   "metadata": {
    "id": "GZpftGDfEQRL"
   },
   "outputs": [],
   "source": [
    "# define a function to plot the ROC curve and print the ROC-AUC score\n",
    "def plot_roc(model, test_data):\n",
    "    \n",
    "    # predict the probability of target variable using X_test\n",
    "    # consider the probability of positive class by subsetting with '[:,1]'\n",
    "    y_pred_prob = model.predict_proba(test_data)[:,1]\n",
    "    \n",
    "    # the roc_curve() returns the values for false positive rate, true positive rate and threshold\n",
    "    # pass the actual target values and predicted probabilities to the function\n",
    "    fpr, tpr, thresholds = roc_curve(y_test, y_pred_prob)\n",
    "\n",
    "    # plot the ROC curve\n",
    "    plt.plot(fpr, tpr)\n",
    "\n",
    "    # set limits for x and y axes\n",
    "    plt.xlim([0.0, 1.0])\n",
    "    plt.ylim([0.0, 1.0])\n",
    "\n",
    "    # plot the straight line showing worst prediction for the model\n",
    "    plt.plot([0, 1], [0, 1],'r--')\n",
    "\n",
    "    # add plot and axes labels\n",
    "    # set text size using 'fontsize'\n",
    "    plt.title('ROC curve for Cancer Prediction Classifier', fontsize = 15)\n",
    "    plt.xlabel('False positive rate (1-Specificity)', fontsize = 15)\n",
    "    plt.ylabel('True positive rate (Sensitivity)', fontsize = 15)\n",
    "\n",
    "    # add the AUC score to the plot\n",
    "    # 'x' and 'y' gives position of the text\n",
    "    # 's' is the text \n",
    "    # use round() to round-off the AUC score upto 4 digits\n",
    "    plt.text(x = 0.02, y = 0.9, s = ('AUC Score:',round(roc_auc_score(y_test, y_pred_prob),4)))\n",
    "\n",
    "    # plot the grid\n",
    "    plt.grid(True)"
   ]
  },
  {
   "cell_type": "markdown",
   "id": "efef9c5a",
   "metadata": {
    "id": "icGAqT_nEQRM"
   },
   "source": [
    "<a id=\"knn\"></a>\n",
    "# 3. K Nearest Neighbors (KNN)"
   ]
  },
  {
   "cell_type": "markdown",
   "id": "dfd10f13",
   "metadata": {
    "id": "4UwQrqThEQRM"
   },
   "source": [
    "KNN is a classification machine learning algorithm used to identify the class of the observation. This algorithm search for `K` nearest points to determine the class of an observation. To identify the nearest points, it considers the distance metrics like `Euclidean`, `Manhattan`, `Chebyshev`, `Hamming`, and so on."
   ]
  },
  {
   "cell_type": "markdown",
   "id": "75369381",
   "metadata": {
    "id": "aIabKFzxEQRR"
   },
   "source": [
    "#### Build a knn model on a training dataset using euclidean distance (Standardized Data)"
   ]
  },
  {
   "cell_type": "code",
   "execution_count": 26,
   "id": "4c8417bf",
   "metadata": {
    "id": "CJsvVTexEQRS",
    "scrolled": false
   },
   "outputs": [],
   "source": [
    "# instantiate the 'KNeighborsClassifier'\n",
    "# n_neighnors: number of neighbors to consider\n",
    "# default metric is minkowski, and with p=2 it is equivalent to the euclidean metric\n",
    "knn_classification = KNeighborsClassifier(n_neighbors = 3)\n",
    "\n",
    "# fit the model using fit() on train data\n",
    "knn_model = knn_classification.fit(x_train, y_train)"
   ]
  },
  {
   "cell_type": "markdown",
   "id": "f7ddcfd8",
   "metadata": {
    "id": "Kdnnmk4DEQRT"
   },
   "source": [
    "#### Build a confusion matrix."
   ]
  },
  {
   "cell_type": "code",
   "execution_count": 27,
   "id": "96debfc6",
   "metadata": {
    "id": "zk3HZFqrEQRT",
    "outputId": "53fb887e-869d-4c3e-ab61-1f51cd7055f7"
   },
   "outputs": [
    {
     "data": {
      "image/png": "[encoded data removed]",
      "text/plain": [
       "<Figure size 432x288 with 1 Axes>"
      ]
     },
     "metadata": {
      "needs_background": "light"
     },
     "output_type": "display_data"
    }
   ],
   "source": [
    "# call the function to plot the confusion matrix\n",
    "# pass the knn model to the function\n",
    "plot_confusion_matrix(knn_model, test_data = x_test)"
   ]
  },
  {
   "cell_type": "markdown",
   "id": "f5993fc6",
   "metadata": {
    "id": "rym59UdOEQRU"
   },
   "source": [
    "**Calculate performance measures on the test set.**"
   ]
  },
  {
   "cell_type": "code",
   "execution_count": 28,
   "id": "23d2fb0e",
   "metadata": {
    "id": "UP5DA9_qebpC",
    "outputId": "88531ced-6a59-4c76-b57f-2084f3f5a65c",
    "scrolled": false
   },
   "outputs": [
    {
     "name": "stdout",
     "output_type": "stream",
     "text": [
      "              precision    recall  f1-score   support\n",
      "\n",
      "           0       0.73      0.83      0.78     10888\n",
      "           1       0.36      0.24      0.29      4427\n",
      "\n",
      "    accuracy                           0.66     15315\n",
      "   macro avg       0.54      0.53      0.53     15315\n",
      "weighted avg       0.62      0.66      0.63     15315\n",
      "\n"
     ]
    }
   ],
   "source": [
    "# compute the performance measures on test data\n",
    "# call the function 'get_test_report'\n",
    "# pass the knn model to the function\n",
    "test_report = get_test_report(knn_model, test_data =x_test)\n",
    "\n",
    "# print the performace measures\n",
    "print(test_report)"
   ]
  },
  {
   "cell_type": "markdown",
   "id": "97c24bba",
   "metadata": {
    "id": "ppCJ5X0pEQRW"
   },
   "source": [
    "**Interpretation:** The accuracy is 99% for this model."
   ]
  },
  {
   "cell_type": "markdown",
   "id": "07a4413c",
   "metadata": {
    "id": "y6aakyvqEQRX"
   },
   "source": [
    "**Plot the ROC curve.**"
   ]
  },
  {
   "cell_type": "code",
   "execution_count": 29,
   "id": "4d69c104",
   "metadata": {
    "id": "9xK1YdEXEQRX",
    "outputId": "84627f0f-aa47-4bea-b772-efa299e5bf8e",
    "scrolled": false
   },
   "outputs": [
    {
     "data": {
      "image/png": "[encoded data removed]",
      "text/plain": [
       "<Figure size 432x288 with 1 Axes>"
      ]
     },
     "metadata": {
      "needs_background": "light"
     },
     "output_type": "display_data"
    }
   ],
   "source": [
    "# call the function to plot the ROC curve\n",
    "# pass the knn model to the function\n",
    "plot_roc(knn_model, test_data = x_test)"
   ]
  },
  {
   "cell_type": "markdown",
   "id": "2f546990",
   "metadata": {
    "id": "QlF3ayTzEQRY"
   },
   "source": [
    "**Interpretation:** The red dotted line represents the ROC curve of a purely random classifier; a good classifier stays as far away from that line as possible (toward the top-left corner).<br>\n",
    "From the above plot, we can see that our classifier (knn_model with n_neighbors = 3) is away from the dotted line; with the AUC score 0.9991."
   ]
  },
  {
   "cell_type": "markdown",
   "id": "12a54a11",
   "metadata": {
    "id": "8abwweRcEQRm"
   },
   "source": [
    "<a id=\"hyper\"></a>\n",
    "## 3.1 Optimal Value of K (using GridSearchCV)"
   ]
  },
  {
   "cell_type": "code",
   "execution_count": 30,
   "id": "1dbafc05",
   "metadata": {},
   "outputs": [],
   "source": [
    "import time "
   ]
  },
  {
   "cell_type": "code",
   "execution_count": null,
   "id": "b5b8b5f9",
   "metadata": {
    "id": "hZr1eTaPEQRm",
    "outputId": "1e7a3210-cf8c-470b-acd2-6e859122c319"
   },
   "outputs": [],
   "source": [
    "%%time\n",
    "# create a dictionary with hyperparameters and its values\n",
    "# n_neighnors: number of neighbors to consider\n",
    "# usually, we consider the odd value of 'n_neighnors' to avoid the equal number of nearest points with more than one class\n",
    "# pass the different distance metrics to the parameter, 'metric'\n",
    "tuned_paramaters = {'n_neighbors': np.arange(1, 25, 2),\n",
    "                   'metric': ['hamming','euclidean','manhattan','Chebyshev']}\n",
    " \n",
    "# instantiate the 'KNeighborsClassifier' \n",
    "knn_classification = KNeighborsClassifier()\n",
    "\n",
    "\n",
    "knn_grid = GridSearchCV(estimator = knn_classification, \n",
    "                        param_grid = tuned_paramaters, \n",
    "                        cv = 5, \n",
    "                        scoring = 'accuracy')\n",
    "\n",
    "# fit the model on X_train and y_train using fit()\n",
    "knn_grid.fit(x_train, y_train)\n",
    "\n",
    "# get the best parameters\n",
    "print('Best parameters for KNN Classifier: ', knn_grid.best_params_, '\\n')"
   ]
  },
  {
   "cell_type": "code",
   "execution_count": 32,
   "id": "022f7336",
   "metadata": {},
   "outputs": [],
   "source": [
    "#knn for n_neigbour=7,metric=manhattan"
   ]
  },
  {
   "cell_type": "code",
   "execution_count": 39,
   "id": "097072f9",
   "metadata": {},
   "outputs": [],
   "source": [
    "knn_class = KNeighborsClassifier(n_neighbors = 23)\n",
    "knn_model_1 = knn_class.fit(x_train, y_train)"
   ]
  },
  {
   "cell_type": "code",
   "execution_count": 40,
   "id": "b184d96b",
   "metadata": {},
   "outputs": [
    {
     "name": "stdout",
     "output_type": "stream",
     "text": [
      "              precision    recall  f1-score   support\n",
      "\n",
      "           0       0.72      0.97      0.83     10888\n",
      "           1       0.45      0.06      0.10      4427\n",
      "\n",
      "    accuracy                           0.71     15315\n",
      "   macro avg       0.58      0.51      0.46     15315\n",
      "weighted avg       0.64      0.71      0.62     15315\n",
      "\n"
     ]
    }
   ],
   "source": [
    "test_report = get_test_report(knn_model_1, test_data = x_test)\n",
    "print(test_report)"
   ]
  },
  {
   "cell_type": "code",
   "execution_count": 49,
   "id": "d5bc7845",
   "metadata": {},
   "outputs": [
    {
     "data": {
      "text/plain": [
       "0.7214821448561514"
      ]
     },
     "execution_count": 49,
     "metadata": {},
     "output_type": "execute_result"
    }
   ],
   "source": [
    "knn_model_1.score(x_train,y_train)"
   ]
  },
  {
   "cell_type": "code",
   "execution_count": 41,
   "id": "2377d1fa",
   "metadata": {},
   "outputs": [
    {
     "data": {
      "image/png": "[encoded data removed]",
      "text/plain": [
       "<Figure size 432x288 with 1 Axes>"
      ]
     },
     "metadata": {
      "needs_background": "light"
     },
     "output_type": "display_data"
    }
   ],
   "source": [
    "plot_roc(knn_model_1, test_data = x_test)"
   ]
  },
  {
   "cell_type": "code",
   "execution_count": 42,
   "id": "60c9602e",
   "metadata": {},
   "outputs": [
    {
     "data": {
      "image/png": "[encoded data removed]",
      "text/plain": [
       "<Figure size 432x288 with 1 Axes>"
      ]
     },
     "metadata": {
      "needs_background": "light"
     },
     "output_type": "display_data"
    }
   ],
   "source": [
    "plot_confusion_matrix(knn_model_1, test_data = x_test)"
   ]
  },
  {
   "cell_type": "markdown",
   "id": "2c2681b1",
   "metadata": {
    "id": "U74KIChAEQRn"
   },
   "source": [
    "#### Draw a line plot to see the error rate for each value of K using euclidean distance as a metric of KNN model"
   ]
  },
  {
   "cell_type": "code",
   "execution_count": 45,
   "id": "be9f96dc",
   "metadata": {},
   "outputs": [],
   "source": [
    "import time"
   ]
  },
  {
   "cell_type": "code",
   "execution_count": null,
   "id": "cd37ecbf",
   "metadata": {
    "id": "vjfVBAz9EQRo",
    "outputId": "fa340ac4-2997-4ff6-8ff7-cf6de3da147e"
   },
   "outputs": [],
   "source": [
    "%%time\n",
    "# consider an empty list to store error rate\n",
    "error_rate = []\n",
    "\n",
    "# use for loop to build a knn model for each K\n",
    "for i in np.arange(1,25,2):\n",
    "    \n",
    "    # setup a knn classifier with k neighbors\n",
    "    # use the 'euclidean' metric \n",
    "    knn = KNeighborsClassifier(i, metric = 'manhattan')\n",
    "   \n",
    "    # fit the model using 'cross_val_score'\n",
    "    # pass the knn model as 'estimator'\n",
    "    # use 5-fold cross validation\n",
    "    score = cross_val_score(knn_grid, x_train, y_train, cv = 5)\n",
    "    \n",
    "    # calculate the mean score\n",
    "    score = score.mean()\n",
    "    \n",
    "    # compute error rate \n",
    "    error_rate.append(1 - score)\n",
    "\n",
    "# plot the error_rate for different values of K \n",
    "plt.plot(range(1,25,2), error_rate)\n",
    "\n",
    "# add plot and axes labels\n",
    "# set text size using 'fontsize'\n",
    "plt.title('Error Rate', fontsize = 15)\n",
    "plt.xlabel('K', fontsize = 15)\n",
    "plt.ylabel('Error Rate', fontsize = 15)\n",
    "\n",
    "# set the x-axis labels\n",
    "plt.xticks(np.arange(1, 25, step = 2))\n",
    "\n",
    "# plot a vertical line across the minimum error rate\n",
    "plt.axvline(x = 7, color = 'red')\n",
    "\n",
    "# display the plot\n",
    "plt.show()"
   ]
  },
  {
   "cell_type": "markdown",
   "id": "5fae3222",
   "metadata": {
    "id": "UdFRqlTCEQRo"
   },
   "source": [
    "**Interpretation:** We can see that the optimal value of K (= 7) obtained from the GridSearchCV() results in a lowest error rate. "
   ]
  },
  {
   "cell_type": "markdown",
   "id": "dc281752",
   "metadata": {
    "id": "OH-zdjbXEQRp"
   },
   "source": [
    "**Calculate performance measures on the test set.**"
   ]
  },
  {
   "cell_type": "code",
   "execution_count": null,
   "id": "5512146c",
   "metadata": {
    "id": "4Wj3jwyEEQRp",
    "outputId": "b86e9f7b-4e5d-46ca-d118-0836baa6a6e6",
    "scrolled": true
   },
   "outputs": [],
   "source": [
    "# print the performance measures for test set for the model with best parameters\n",
    "# call the function 'get_test_report'\n",
    "# pass the knn model using GridSearch to the function\n",
    "print('Classification Report for test set: \\n', get_test_report(knn_grid, test_data=x_test))"
   ]
  },
  {
   "cell_type": "markdown",
   "id": "494aeda7",
   "metadata": {
    "id": "UgK_kZI_EQRq"
   },
   "source": [
    "**Plot the ROC curve.**"
   ]
  },
  {
   "cell_type": "code",
   "execution_count": null,
   "id": "09dccd3d",
   "metadata": {
    "id": "obuMHlpbEQRr",
    "outputId": "ea1bef49-6d7a-4762-9824-1d94b01dad26",
    "scrolled": false
   },
   "outputs": [],
   "source": [
    "# call the function to plot the ROC curve\n",
    "# pass the knn model to the function\n",
    "plot_roc(knn_grid, test_data=x_test)"
   ]
  },
  {
   "cell_type": "markdown",
   "id": "a902a860",
   "metadata": {
    "id": "OzyIYC3AEQRr"
   },
   "source": [
    "**Interpretation:** From the above plot, we can see that our classifier (knn_model with n_neighbors = 7) is away from the red dotted line (i.e on the axes); with the AUC score 1.0."
   ]
  },
  {
   "cell_type": "markdown",
   "id": "6f74586f",
   "metadata": {
    "id": "4GbI5Sg-EQRs"
   },
   "source": [
    "<a id=\"NB\"></a>\n",
    "# 4. Naive Bayes Algorithm\n",
    "\n",
    "It uses a `Bayes' Theorem` with the assumption of independence of predictor variables. The sklearn library provides different naive bayes classifiers, as `GaussianNB`, `MultinomialNB` and so on. "
   ]
  },
  {
   "cell_type": "markdown",
   "id": "2e880c09",
   "metadata": {
    "id": "CuRf5vBJEQRs"
   },
   "source": [
    "#### Build a naive bayes model on a training dataset."
   ]
  },
  {
   "cell_type": "code",
   "execution_count": 50,
   "id": "25e5e5ea",
   "metadata": {
    "id": "fvnSuNIzEQRt"
   },
   "outputs": [],
   "source": [
    "# instantiate the 'GaussianNB'\n",
    "gnb = GaussianNB()\n",
    "\n",
    "# fit the model using fit() on train data\n",
    "gnb_model = gnb.fit(x_train, y_train)"
   ]
  },
  {
   "cell_type": "markdown",
   "id": "2e22a6d8",
   "metadata": {
    "id": "_Na4l1iAEQRu"
   },
   "source": [
    "#### Build a confusion matrix."
   ]
  },
  {
   "cell_type": "code",
   "execution_count": 51,
   "id": "485c68d0",
   "metadata": {
    "id": "ve9gFiIoEQRu",
    "outputId": "8246910a-e5dc-4b95-f4d1-19bc0d840c13",
    "scrolled": false
   },
   "outputs": [
    {
     "data": {
      "image/png": "[encoded data removed]",
      "text/plain": [
       "<Figure size 432x288 with 1 Axes>"
      ]
     },
     "metadata": {
      "needs_background": "light"
     },
     "output_type": "display_data"
    }
   ],
   "source": [
    "# call the function to plot the confusion matrix\n",
    "# pass the gaussian naive bayes model to the function\n",
    "plot_confusion_matrix(gnb_model, test_data=x_test)"
   ]
  },
  {
   "cell_type": "markdown",
   "id": "00c906b6",
   "metadata": {
    "id": "IXEKr96gEQRv"
   },
   "source": [
    "**Calculate performance measures on the test set.**"
   ]
  },
  {
   "cell_type": "code",
   "execution_count": 52,
   "id": "40c52783",
   "metadata": {
    "id": "GjfsQJ8FEQRw",
    "outputId": "c96985aa-dbb6-4dad-a3ec-1ee41d8ca307",
    "scrolled": false
   },
   "outputs": [
    {
     "name": "stdout",
     "output_type": "stream",
     "text": [
      "              precision    recall  f1-score   support\n",
      "\n",
      "           0       0.73      0.87      0.79     10888\n",
      "           1       0.39      0.22      0.28      4427\n",
      "\n",
      "    accuracy                           0.68     15315\n",
      "   macro avg       0.56      0.54      0.54     15315\n",
      "weighted avg       0.63      0.68      0.64     15315\n",
      "\n"
     ]
    }
   ],
   "source": [
    "# compute the performance measures on test data\n",
    "# call the function 'get_test_report'\n",
    "# pass the gaussian naive bayes model to the function\n",
    "test_report = get_test_report(gnb_model, test_data=x_test)\n",
    "\n",
    "# print the performace measures\n",
    "print(test_report)"
   ]
  },
  {
   "cell_type": "code",
   "execution_count": 55,
   "id": "244bc807",
   "metadata": {},
   "outputs": [
    {
     "data": {
      "text/plain": [
       "0.6803705362140379"
      ]
     },
     "execution_count": 55,
     "metadata": {},
     "output_type": "execute_result"
    }
   ],
   "source": [
    "gnb_model.score(x_train,y_train)"
   ]
  },
  {
   "cell_type": "markdown",
   "id": "45d03839",
   "metadata": {
    "id": "PJH7UY1fEQRx"
   },
   "source": [
    "**Plot the ROC curve.**"
   ]
  },
  {
   "cell_type": "code",
   "execution_count": 53,
   "id": "7838b361",
   "metadata": {
    "id": "m27vClezEQRy",
    "outputId": "2191b191-05a0-4f71-a941-8636a1d86600"
   },
   "outputs": [
    {
     "data": {
      "image/png": "[encoded data removed]",
      "text/plain": [
       "<Figure size 432x288 with 1 Axes>"
      ]
     },
     "metadata": {
      "needs_background": "light"
     },
     "output_type": "display_data"
    }
   ],
   "source": [
    "# call the function to plot the ROC curve\n",
    "# pass the gaussian naive bayes model to the function\n",
    "plot_roc(gnb_model, test_data=x_test)"
   ]
  },
  {
   "cell_type": "markdown",
   "id": "66a895f8",
   "metadata": {
    "id": "TPpEhtXLEQRz"
   },
   "source": [
    "**Interpretation:** From the above plot, we can see that our classifier (gnb_model) is away from the red dotted line; with the AUC score 0.9781."
   ]
  },
  {
   "cell_type": "markdown",
   "id": "f1ecacd7",
   "metadata": {
    "id": "QI4JacWiEQRz"
   },
   "source": [
    "**Note:** Algorithms like Naive Bayes and tree based algorithms do not need feature scaling or normalization. Performing a features scaling in these algorithms may not have much effect."
   ]
  },
  {
   "cell_type": "markdown",
   "id": "83c256ac",
   "metadata": {
    "id": "xO9Tsuw_EjYc"
   },
   "source": [
    "<a id=\"tune\"></a>\n",
    "### 3.3.1 Tune the Hyperparameters (GridSearchCV)"
   ]
  },
  {
   "cell_type": "code",
   "execution_count": 56,
   "id": "d58a4d31",
   "metadata": {},
   "outputs": [],
   "source": [
    "import time"
   ]
  },
  {
   "cell_type": "code",
   "execution_count": null,
   "id": "32c2602c",
   "metadata": {
    "id": "X9XEx3x_EjYd",
    "outputId": "c37ee8b5-d107-4941-f92a-0b402bf90623"
   },
   "outputs": [],
   "source": [
    "%%time\n",
    "# create a dictionary with hyperparameters and its values\n",
    "# learning_rate: pass the list of boosting learning rates\n",
    "# max_depth: pass the range of values as the maximum tree depth for base learners\n",
    "# gamma: pass the list of minimum loss reduction values required to make a further partition on a leaf node of the tree\n",
    "tuning_parameters = {'learning_rate': [0.1, 0.2, 0.3],\n",
    "                     'max_depth': range(3,10),\n",
    "                     'min_child_weight':range(1,5),\n",
    "                     'gamma': [ 1, 2, 3],\n",
    "                     'subsample':[0.25,0.5,1],\n",
    "                    }\n",
    "\n",
    "\n",
    "# instantiate the 'XGBClassifier' \n",
    "gnb_model = GaussianNB()\n",
    "\n",
    "# use GridSearchCV() to find the optimal value of the hyperparameters\n",
    "# estimator: pass the XGBoost classifier model\n",
    "# param_grid: pass the list 'tuned_parameters'\n",
    "# cv: number of folds in k-fold i.e. here cv = 3\n",
    "# scoring: pass a measure to evaluate the model on test set\n",
    "gnb_grid = GridSearchCV(estimator = gnb_model, param_grid = tuning_parameters, cv = 5, scoring = 'recall')\n",
    "\n",
    "# fit the model on X_train and y_train using fit()\n",
    "gnb_grid.fit(x_train, y_train)\n",
    "\n",
    "# get the best parameters\n",
    "print('Best parameters for gnb: ', gnb_grid.best_params_, '\\n')"
   ]
  },
  {
   "cell_type": "markdown",
   "id": "8636ac0b",
   "metadata": {
    "id": "YKCd0I6TEjYe"
   },
   "source": [
    "#### Build the model using the tuned hyperparameters."
   ]
  },
  {
   "cell_type": "code",
   "execution_count": 49,
   "id": "9cf1a1b2",
   "metadata": {
    "id": "eXAmTGFoEjYe",
    "outputId": "b76c6d77-0d68-4854-de92-df828368cf10"
   },
   "outputs": [
    {
     "name": "stdout",
     "output_type": "stream",
     "text": [
      "Classification Report for test set:\n",
      "               precision    recall  f1-score   support\n",
      "\n",
      "           0       0.73      0.96      0.83     10888\n",
      "           1       0.58      0.14      0.23      4427\n",
      "\n",
      "    accuracy                           0.72     15315\n",
      "   macro avg       0.66      0.55      0.53     15315\n",
      "weighted avg       0.69      0.72      0.66     15315\n",
      "\n"
     ]
    }
   ],
   "source": [
    "#learning_rate = xgb_grid.best_params_.get('learning_rate'),\n",
    "                              # max_depth = xgb_grid.best_params_.get('max_depth'),\n",
    "                              #gamma = xgb_grid.best_params_.get('gamma'),\n",
    "                              #tree_method=xgb_grid.best_params_.get('tree_method'),\n",
    "                              #subsample=xgb_grid.best_params_.get('subsample'),\n",
    "                              #colsample_bytree=xgb_grid.best_params_.get('colsample_bytree')\n",
    "\n",
    "# instantiate the 'XGBClassifier'\n",
    "# 'best_params_' returns the dictionary containing best parameter values and parameter name  \n",
    "# 'get()' returns the value of specified parameter\n",
    "gnb_model1 = GaussianNB( )\n",
    "\n",
    "\n",
    "\n",
    "# use fit() to fit the model on the train set\n",
    "gnb_model = gnb_model1.fit(x_train, y_train)\n",
    "\n",
    "# print the performance measures for test set for the model with best parameters\n",
    "print('Classification Report for test set:\\n', get_test_report(gnb_model))"
   ]
  },
  {
   "cell_type": "code",
   "execution_count": 50,
   "id": "68b70f5e",
   "metadata": {},
   "outputs": [
    {
     "data": {
      "text/plain": [
       "0.13934169931277654"
      ]
     },
     "execution_count": 50,
     "metadata": {},
     "output_type": "execute_result"
    }
   ],
   "source": [
    "from sklearn.metrics import confusion_matrix\n",
    "from sklearn.model_selection import cross_val_score\n",
    "scores=cross_val_score(gnb_model,x_train,y_train,scoring='recall')\n",
    "np.mean(scores)"
   ]
  },
  {
   "cell_type": "code",
   "execution_count": 51,
   "id": "d5aaa0ed",
   "metadata": {},
   "outputs": [
    {
     "data": {
      "image/png": "[encoded data removed]",
      "text/plain": [
       "<Figure size 432x288 with 1 Axes>"
      ]
     },
     "metadata": {
      "needs_background": "light"
     },
     "output_type": "display_data"
    }
   ],
   "source": [
    "y_pred=xgb_model.predict(x_test)\n",
    "\n",
    "cm = confusion_matrix(y_test, y_pred)\n",
    "\n",
    "conf_matrix = pd.DataFrame(data = cm,columns = ['Predicted:0','Predicted:1'], index = ['Actual:0','Actual:1'])\n",
    "\n",
    "sns.heatmap(conf_matrix, annot = True, fmt = 'd', cmap = ListedColormap(['lightskyblue']), cbar = False, \n",
    "            linewidths = 0.1, annot_kws = {'size':25})\n",
    "\n",
    "plt.xticks(fontsize = 20)\n",
    "plt.yticks(fontsize = 20)\n",
    "\n",
    "# display the plot\n",
    "plt.show()"
   ]
  },
  {
   "cell_type": "code",
   "execution_count": 52,
   "id": "9072c5b1",
   "metadata": {},
   "outputs": [
    {
     "data": {
      "text/plain": [
       "0.7478730549647374"
      ]
     },
     "execution_count": 52,
     "metadata": {},
     "output_type": "execute_result"
    }
   ],
   "source": [
    "gnb_model.score(x_train,y_train)"
   ]
  },
  {
   "cell_type": "code",
   "execution_count": 53,
   "id": "ee4e448a",
   "metadata": {},
   "outputs": [
    {
     "data": {
      "text/plain": [
       "0.7226248775710088"
      ]
     },
     "execution_count": 53,
     "metadata": {},
     "output_type": "execute_result"
    }
   ],
   "source": [
    "gnb_model.score(x_test,y_test)"
   ]
  },
  {
   "cell_type": "code",
   "execution_count": null,
   "id": "8a397e32",
   "metadata": {},
   "outputs": [],
   "source": []
  },
  {
   "cell_type": "code",
   "execution_count": null,
   "id": "eeb7b3af",
   "metadata": {},
   "outputs": [],
   "source": []
  },
  {
   "cell_type": "markdown",
   "id": "81f463a5",
   "metadata": {
    "id": "W5JD501SEQR0"
   },
   "source": [
    "<a id=\"compare\"></a>\n",
    "# 5. Comparison between KNN Model and Naive Bayes Model"
   ]
  },
  {
   "cell_type": "code",
   "execution_count": null,
   "id": "cbfb9ce0",
   "metadata": {},
   "outputs": [],
   "source": [
    "# y_pred and y_pred_prob is differ"
   ]
  },
  {
   "cell_type": "code",
   "execution_count": null,
   "id": "e64d60dd",
   "metadata": {
    "id": "AYMmd2ZmEQR0",
    "outputId": "b6bf326e-0773-4fec-f9ab-903c8bd9d19d"
   },
   "outputs": [],
   "source": [
    "# K Nearest Neighbors\n",
    "y_pred_prob_knn = knn_grid.predict_proba(x_test)[:,1]\n",
    "    \n",
    "# the roc_curve() returns the values for false positive rate, true positive rate and threshold\n",
    "# pass the actual target values and predicted probabilities to the function\n",
    "fpr, tpr, thresholds = roc_curve(y_test, y_pred_prob_knn)\n",
    "\n",
    "# add the AUC score to the plot\n",
    "auc_score_knn = roc_auc_score(y_test, y_pred_prob_knn)\n",
    "\n",
    "# plot the ROC curve\n",
    "plt.plot(fpr, tpr, label='KNN Model (AUC Score = %0.4f)' % auc_score_knn)\n",
    "\n",
    "# Gaussian Naive Bayes\n",
    "y_pred_prob_gnb = gnb_model.predict_proba(x_test)[:,1]\n",
    "    \n",
    "# the roc_curve() returns the values for false positive rate, true positive rate and threshold\n",
    "# pass the actual target values and predicted probabilities to the function\n",
    "fpr, tpr, thresholds = roc_curve(y_test, y_pred_prob_gnb)\n",
    "\n",
    "# add the AUC score to the plot\n",
    "auc_score_gnb = roc_auc_score(y_test, y_pred_prob_gnb)\n",
    "\n",
    "# plot the ROC curve\n",
    "plt.plot(fpr, tpr, label='GNB Model (AUC Score = %0.4f)' % auc_score_gnb)\n",
    "\n",
    "# set limits for x and y axes\n",
    "plt.xlim([0.0, 1.0])\n",
    "plt.ylim([0.0, 1.0])\n",
    "\n",
    "# plot the straight line showing worst prediction for the model\n",
    "plt.plot([0, 1], [0, 1],'r--')\n",
    "\n",
    "# add plot and axes labels\n",
    "# set text size using 'fontsize'\n",
    "plt.title('GNB Model Vs. KNN Model', fontsize = 15)\n",
    "plt.xlabel('False positive rate (1-Specificity)', fontsize = 15)\n",
    "plt.ylabel('True positive rate (Sensitivity)', fontsize = 15)\n",
    "\n",
    "# set the position of legend\n",
    "plt.legend(loc = 'lower right')\n",
    "\n",
    "# plot the grid\n",
    "plt.grid(True)"
   ]
  },
  {
   "cell_type": "markdown",
   "id": "b29118d9",
   "metadata": {
    "id": "3KYh9bCNEQR1"
   },
   "source": [
    "**Interpretation:** The Auc Score of KNN Model is slightly higher than that of Gaussian Naive Bayes model. Also KNN model is more stable than Gaussian Naive Bayes model."
   ]
  }
 ],
 "metadata": {
  "kernelspec": {
   "display_name": "Python 3 (ipykernel)",
   "language": "python",
   "name": "python3"
  },
  "language_info": {
   "codemirror_mode": {
    "name": "ipython",
    "version": 3
   },
   "file_extension": ".py",
   "mimetype": "text/x-python",
   "name": "python",
   "nbconvert_exporter": "python",
   "pygments_lexer": "ipython3",
   "version": "3.9.7"
  }
 },
 "nbformat": 4,
 "nbformat_minor": 5
}
