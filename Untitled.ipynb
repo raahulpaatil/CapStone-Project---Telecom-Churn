{
 "cells": [
  {
   "cell_type": "code",
   "execution_count": 1,
   "id": "6cd77ce8",
   "metadata": {},
   "outputs": [
    {
     "data": {
      "text/plain": [
       "['Swapnil', 'Mahesh', 'Rahul']"
      ]
     },
     "execution_count": 1,
     "metadata": {},
     "output_type": "execute_result"
    }
   ],
   "source": [
    "l1=['Rahul','Mahesh','Swapnil']\n",
    "l2=l1[::-1]\n",
    "l2"
   ]
  },
  {
   "cell_type": "code",
   "execution_count": 5,
   "id": "837259c3",
   "metadata": {},
   "outputs": [
    {
     "name": "stdout",
     "output_type": "stream",
     "text": [
      "Swapnil\n",
      "Mahesh\n",
      "Rahul\n"
     ]
    }
   ],
   "source": [
    "l1=['Rahul','Mahesh','Swapnil']\n",
    "for i in range(len(l1)-1,-1,-1):\n",
    "    print((l1[i]))"
   ]
  }
 ],
 "metadata": {
  "kernelspec": {
   "display_name": "Python 3",
   "language": "python",
   "name": "python3"
  },
  "language_info": {
   "codemirror_mode": {
    "name": "ipython",
    "version": 3
   },
   "file_extension": ".py",
   "mimetype": "text/x-python",
   "name": "python",
   "nbconvert_exporter": "python",
   "pygments_lexer": "ipython3",
   "version": "3.8.8"
  }
 },
 "nbformat": 4,
 "nbformat_minor": 5
}
